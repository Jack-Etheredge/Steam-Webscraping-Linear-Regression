{
 "cells": [
  {
   "cell_type": "markdown",
   "metadata": {},
   "source": [
    "## Steam game linear regression:"
   ]
  },
  {
   "cell_type": "code",
   "execution_count": 16,
   "metadata": {
    "ExecuteTime": {
     "end_time": "2018-04-26T17:07:10.753552Z",
     "start_time": "2018-04-26T17:07:09.755226Z"
    }
   },
   "outputs": [
    {
     "name": "stderr",
     "output_type": "stream",
     "text": [
      "/Users/etheredgej/anaconda/lib/python3.6/site-packages/statsmodels/compat/pandas.py:56: FutureWarning: The pandas.core.datetools module is deprecated and will be removed in a future version. Please use the pandas.tseries module instead.\n",
      "  from pandas.core import datetools\n"
     ]
    }
   ],
   "source": [
    "import pandas as pd\n",
    "import seaborn as sns\n",
    "import patsy\n",
    "import statsmodels.api as sm\n",
    "from sklearn.feature_extraction.text import CountVectorizer as cv"
   ]
  },
  {
   "cell_type": "markdown",
   "metadata": {},
   "source": [
    "### Importing my scraped Steam and SteamDB data:"
   ]
  },
  {
   "cell_type": "code",
   "execution_count": 3,
   "metadata": {},
   "outputs": [],
   "source": [
    "steam_games_df = pd.read_json('steam_games_dicts_selenium.json')"
   ]
  },
  {
   "cell_type": "code",
   "execution_count": null,
   "metadata": {},
   "outputs": [],
   "source": [
    "steamDB_users_df = pd.read_csv('steam_users_table.csv', thousands=',')"
   ]
  },
  {
   "cell_type": "code",
   "execution_count": null,
   "metadata": {},
   "outputs": [],
   "source": [
    "steamDB_users_df['AppID'] = steamDB_users_df['AppID'].astype('int64')"
   ]
  },
  {
   "cell_type": "code",
   "execution_count": null,
   "metadata": {},
   "outputs": [],
   "source": [
    "# Combining all cleaning of steam_games_df:\n",
    "\n",
    "steam_games_df.fillna(value=0, inplace=True) \n",
    "\n",
    "# removing two symbols present in one frame that appear absent from the other\n",
    "steam_games_df['app_name'].replace(regex=True,inplace=True,to_replace=r'®',value=r'')\n",
    "steam_games_df['app_name'].replace(regex=True,inplace=True,to_replace=r'™',value=r'')\n",
    "\n",
    "# removing these two symbols gives us 6478 instead of 6428 rows after merging"
   ]
  },
  {
   "cell_type": "code",
   "execution_count": null,
   "metadata": {},
   "outputs": [],
   "source": [
    "# Combining all cleaning of steam_combined:\n",
    "\n",
    "# changing spaces in column names to underscores to make dealing with them easier\n",
    "steam_combined.rename(columns={'All-Time Peak': 'All_Time_Peak_concurrent_users', 'Release Date': 'Release_Date'}, inplace=True)\n",
    "\n",
    "# temporarily dealing with missing esrb ratings by filling empty values with nr for \"not rated\"\n",
    "steam_combined['esrb'].replace('', 'nr', inplace= True)\n",
    "\n",
    "# replacing string values in discount_price as 0.00 and making it type float\n",
    "steam_combined['discount_price'] = steam_combined.discount_price.replace('Free to Play',0.00).replace('Free',0.00).astype(float)\n",
    "\n",
    "steam_combined.metascore = steam_combined.metascore.replace('NA','NaN').astype('float')"
   ]
  },
  {
   "cell_type": "markdown",
   "metadata": {},
   "source": [
    "### Fuzzy matching to recover additional games:"
   ]
  },
  {
   "cell_type": "code",
   "execution_count": 522,
   "metadata": {},
   "outputs": [
    {
     "data": {
      "text/plain": [
       "2040"
      ]
     },
     "execution_count": 522,
     "metadata": {},
     "output_type": "execute_result"
    }
   ],
   "source": [
    "missing_names = set(steamDB_users_df['Name']).difference(set(steam_games_df['app_name']))\n",
    "len(missing_names)"
   ]
  },
  {
   "cell_type": "code",
   "execution_count": 524,
   "metadata": {},
   "outputs": [],
   "source": [
    "import fuzzywuzzy\n",
    "from fuzzywuzzy import process"
   ]
  },
  {
   "cell_type": "code",
   "execution_count": 530,
   "metadata": {},
   "outputs": [],
   "source": [
    "steamDB_users_df_fuzzy = steamDB_users_df.copy()"
   ]
  },
  {
   "cell_type": "code",
   "execution_count": 541,
   "metadata": {},
   "outputs": [
    {
     "data": {
      "text/html": [
       "<div>\n",
       "<style scoped>\n",
       "    .dataframe tbody tr th:only-of-type {\n",
       "        vertical-align: middle;\n",
       "    }\n",
       "\n",
       "    .dataframe tbody tr th {\n",
       "        vertical-align: top;\n",
       "    }\n",
       "\n",
       "    .dataframe thead th {\n",
       "        text-align: right;\n",
       "    }\n",
       "</style>\n",
       "<table border=\"1\" class=\"dataframe\">\n",
       "  <thead>\n",
       "    <tr style=\"text-align: right;\">\n",
       "      <th></th>\n",
       "      <th>AppID</th>\n",
       "      <th>Name</th>\n",
       "      <th>Current</th>\n",
       "      <th>24h Peak</th>\n",
       "      <th>All-Time Peak</th>\n",
       "      <th>steam_match_name</th>\n",
       "      <th>fuzzy_score</th>\n",
       "    </tr>\n",
       "  </thead>\n",
       "  <tbody>\n",
       "    <tr>\n",
       "      <th>0</th>\n",
       "      <td>753</td>\n",
       "      <td>Steam</td>\n",
       "      <td>9469112</td>\n",
       "      <td>14752493</td>\n",
       "      <td>18537490</td>\n",
       "      <td>Intelligence</td>\n",
       "      <td>100</td>\n",
       "    </tr>\n",
       "    <tr>\n",
       "      <th>1</th>\n",
       "      <td>578080</td>\n",
       "      <td>PLAYERUNKNOWN'S BATTLEGROUNDS</td>\n",
       "      <td>282809</td>\n",
       "      <td>1992584</td>\n",
       "      <td>3257248</td>\n",
       "      <td>Intelligence</td>\n",
       "      <td>100</td>\n",
       "    </tr>\n",
       "    <tr>\n",
       "      <th>2</th>\n",
       "      <td>570</td>\n",
       "      <td>Dota 2</td>\n",
       "      <td>226441</td>\n",
       "      <td>621653</td>\n",
       "      <td>1295114</td>\n",
       "      <td>Intelligence</td>\n",
       "      <td>100</td>\n",
       "    </tr>\n",
       "    <tr>\n",
       "      <th>3</th>\n",
       "      <td>730</td>\n",
       "      <td>Counter-Strike: Global Offensive</td>\n",
       "      <td>172999</td>\n",
       "      <td>421633</td>\n",
       "      <td>854801</td>\n",
       "      <td>Intelligence</td>\n",
       "      <td>100</td>\n",
       "    </tr>\n",
       "    <tr>\n",
       "      <th>4</th>\n",
       "      <td>359550</td>\n",
       "      <td>Tom Clancy's Rainbow Six Siege</td>\n",
       "      <td>40794</td>\n",
       "      <td>99486</td>\n",
       "      <td>178953</td>\n",
       "      <td>Intelligence</td>\n",
       "      <td>100</td>\n",
       "    </tr>\n",
       "  </tbody>\n",
       "</table>\n",
       "</div>"
      ],
      "text/plain": [
       "    AppID                              Name  Current  24h Peak  All-Time Peak  \\\n",
       "0     753                             Steam  9469112  14752493       18537490   \n",
       "1  578080     PLAYERUNKNOWN'S BATTLEGROUNDS   282809   1992584        3257248   \n",
       "2     570                            Dota 2   226441    621653        1295114   \n",
       "3     730  Counter-Strike: Global Offensive   172999    421633         854801   \n",
       "4  359550    Tom Clancy's Rainbow Six Siege    40794     99486         178953   \n",
       "\n",
       "  steam_match_name  fuzzy_score  \n",
       "0     Intelligence          100  \n",
       "1     Intelligence          100  \n",
       "2     Intelligence          100  \n",
       "3     Intelligence          100  \n",
       "4     Intelligence          100  "
      ]
     },
     "execution_count": 541,
     "metadata": {},
     "output_type": "execute_result"
    }
   ],
   "source": [
    "steamDB_users_df_fuzzy.head()"
   ]
  },
  {
   "cell_type": "code",
   "execution_count": 545,
   "metadata": {},
   "outputs": [
    {
     "data": {
      "text/html": [
       "<div>\n",
       "<style scoped>\n",
       "    .dataframe tbody tr th:only-of-type {\n",
       "        vertical-align: middle;\n",
       "    }\n",
       "\n",
       "    .dataframe tbody tr th {\n",
       "        vertical-align: top;\n",
       "    }\n",
       "\n",
       "    .dataframe thead th {\n",
       "        text-align: right;\n",
       "    }\n",
       "</style>\n",
       "<table border=\"1\" class=\"dataframe\">\n",
       "  <thead>\n",
       "    <tr style=\"text-align: right;\">\n",
       "      <th></th>\n",
       "      <th>AppID</th>\n",
       "      <th>Name</th>\n",
       "      <th>Current</th>\n",
       "      <th>24h Peak</th>\n",
       "      <th>All-Time Peak</th>\n",
       "      <th>steam_match_name</th>\n",
       "      <th>fuzzy_score</th>\n",
       "    </tr>\n",
       "  </thead>\n",
       "  <tbody>\n",
       "    <tr>\n",
       "      <th>1</th>\n",
       "      <td>578080</td>\n",
       "      <td>PLAYERUNKNOWN'S BATTLEGROUNDS</td>\n",
       "      <td>282809</td>\n",
       "      <td>1992584</td>\n",
       "      <td>3257248</td>\n",
       "      <td>PLAYERUNKNOWN'S BATTLEGROUNDS</td>\n",
       "      <td>100</td>\n",
       "    </tr>\n",
       "    <tr>\n",
       "      <th>2</th>\n",
       "      <td>570</td>\n",
       "      <td>Dota 2</td>\n",
       "      <td>226441</td>\n",
       "      <td>621653</td>\n",
       "      <td>1295114</td>\n",
       "      <td>Dota 2</td>\n",
       "      <td>100</td>\n",
       "    </tr>\n",
       "    <tr>\n",
       "      <th>3</th>\n",
       "      <td>730</td>\n",
       "      <td>Counter-Strike: Global Offensive</td>\n",
       "      <td>172999</td>\n",
       "      <td>421633</td>\n",
       "      <td>854801</td>\n",
       "      <td>Counter-Strike: Global Offensive</td>\n",
       "      <td>100</td>\n",
       "    </tr>\n",
       "    <tr>\n",
       "      <th>4</th>\n",
       "      <td>359550</td>\n",
       "      <td>Tom Clancy's Rainbow Six Siege</td>\n",
       "      <td>40794</td>\n",
       "      <td>99486</td>\n",
       "      <td>178953</td>\n",
       "      <td>Tom Clancy's Rainbow Six Siege</td>\n",
       "      <td>100</td>\n",
       "    </tr>\n",
       "    <tr>\n",
       "      <th>5</th>\n",
       "      <td>440</td>\n",
       "      <td>Team Fortress 2</td>\n",
       "      <td>38309</td>\n",
       "      <td>45415</td>\n",
       "      <td>120436</td>\n",
       "      <td>Team Fortress 2</td>\n",
       "      <td>100</td>\n",
       "    </tr>\n",
       "  </tbody>\n",
       "</table>\n",
       "</div>"
      ],
      "text/plain": [
       "    AppID                              Name  Current  24h Peak  All-Time Peak  \\\n",
       "1  578080     PLAYERUNKNOWN'S BATTLEGROUNDS   282809   1992584        3257248   \n",
       "2     570                            Dota 2   226441    621653        1295114   \n",
       "3     730  Counter-Strike: Global Offensive   172999    421633         854801   \n",
       "4  359550    Tom Clancy's Rainbow Six Siege    40794     99486         178953   \n",
       "5     440                   Team Fortress 2    38309     45415         120436   \n",
       "\n",
       "                   steam_match_name  fuzzy_score  \n",
       "1     PLAYERUNKNOWN'S BATTLEGROUNDS          100  \n",
       "2                            Dota 2          100  \n",
       "3  Counter-Strike: Global Offensive          100  \n",
       "4    Tom Clancy's Rainbow Six Siege          100  \n",
       "5                   Team Fortress 2          100  "
      ]
     },
     "execution_count": 545,
     "metadata": {},
     "output_type": "execute_result"
    }
   ],
   "source": [
    "steamDB_users_df_fuzzy_final = steamDB_users_df_fuzzy.loc[steamDB_users_df_fuzzy.fuzzy_score >93].copy()\n",
    "steamDB_users_df_fuzzy_final.head()"
   ]
  },
  {
   "cell_type": "code",
   "execution_count": 546,
   "metadata": {},
   "outputs": [
    {
     "name": "stdout",
     "output_type": "stream",
     "text": [
      "<class 'pandas.core.frame.DataFrame'>\n",
      "Int64Index: 7277 entries, 1 to 8502\n",
      "Data columns (total 7 columns):\n",
      "AppID               7277 non-null int64\n",
      "Name                7277 non-null object\n",
      "Current             7277 non-null int64\n",
      "24h Peak            7277 non-null int64\n",
      "All-Time Peak       7277 non-null int64\n",
      "steam_match_name    7277 non-null object\n",
      "fuzzy_score         7277 non-null int64\n",
      "dtypes: int64(5), object(2)\n",
      "memory usage: 454.8+ KB\n"
     ]
    }
   ],
   "source": [
    "steamDB_users_df_fuzzy_final.info()"
   ]
  },
  {
   "cell_type": "code",
   "execution_count": 549,
   "metadata": {},
   "outputs": [],
   "source": [
    "steam_combined_fuzzy = pd.merge(steam_games_df, steamDB_users_df_fuzzy_final, left_on='app_name', right_on='steam_match_name', how='inner', sort=False)"
   ]
  },
  {
   "cell_type": "code",
   "execution_count": 548,
   "metadata": {},
   "outputs": [
    {
     "data": {
      "text/plain": [
       "799"
      ]
     },
     "execution_count": 548,
     "metadata": {},
     "output_type": "execute_result"
    }
   ],
   "source": [
    "# check number of recovered entries\n",
    "len(steamDB_users_df_fuzzy_final)-len(steam_combined)"
   ]
  },
  {
   "cell_type": "code",
   "execution_count": 550,
   "metadata": {},
   "outputs": [
    {
     "data": {
      "text/html": [
       "<div>\n",
       "<style scoped>\n",
       "    .dataframe tbody tr th:only-of-type {\n",
       "        vertical-align: middle;\n",
       "    }\n",
       "\n",
       "    .dataframe tbody tr th {\n",
       "        vertical-align: top;\n",
       "    }\n",
       "\n",
       "    .dataframe thead th {\n",
       "        text-align: right;\n",
       "    }\n",
       "</style>\n",
       "<table border=\"1\" class=\"dataframe\">\n",
       "  <thead>\n",
       "    <tr style=\"text-align: right;\">\n",
       "      <th></th>\n",
       "      <th>Developer</th>\n",
       "      <th>Genre</th>\n",
       "      <th>Publisher</th>\n",
       "      <th>Release Date</th>\n",
       "      <th>Title</th>\n",
       "      <th>app_id</th>\n",
       "      <th>app_name</th>\n",
       "      <th>discount_price</th>\n",
       "      <th>early_access</th>\n",
       "      <th>esrb</th>\n",
       "      <th>...</th>\n",
       "      <th>steam_Achievement_n</th>\n",
       "      <th>tags</th>\n",
       "      <th>url</th>\n",
       "      <th>AppID</th>\n",
       "      <th>Name</th>\n",
       "      <th>Current</th>\n",
       "      <th>24h Peak</th>\n",
       "      <th>All-Time Peak</th>\n",
       "      <th>steam_match_name</th>\n",
       "      <th>fuzzy_score</th>\n",
       "    </tr>\n",
       "  </thead>\n",
       "  <tbody>\n",
       "    <tr>\n",
       "      <th>0</th>\n",
       "      <td>[WTFOMGames]</td>\n",
       "      <td>[Action, Adventure, Casual, Indie]</td>\n",
       "      <td>[WTFOMGames]</td>\n",
       "      <td>Mar 1, 2016</td>\n",
       "      <td>! That Bastard Is Trying To Steal Our Gold !</td>\n",
       "      <td>449940</td>\n",
       "      <td>! That Bastard Is Trying To Steal Our Gold !</td>\n",
       "      <td>3.99</td>\n",
       "      <td>False</td>\n",
       "      <td></td>\n",
       "      <td>...</td>\n",
       "      <td>0</td>\n",
       "      <td>[Action, Indie, Casual, Adventure, Memes, Psyc...</td>\n",
       "      <td>https://store.steampowered.com/app/449940/_Tha...</td>\n",
       "      <td>449940</td>\n",
       "      <td>! That Bastard Is Trying To Steal Our Gold !</td>\n",
       "      <td>1</td>\n",
       "      <td>27</td>\n",
       "      <td>1951</td>\n",
       "      <td>! That Bastard Is Trying To Steal Our Gold !</td>\n",
       "      <td>100</td>\n",
       "    </tr>\n",
       "    <tr>\n",
       "      <th>1</th>\n",
       "      <td>[Beatshapers]</td>\n",
       "      <td>[Action, Indie]</td>\n",
       "      <td>[8Floor, Beatshapers]</td>\n",
       "      <td>Aug 10, 2016</td>\n",
       "      <td>#KILLALLZOMBIES</td>\n",
       "      <td>303720</td>\n",
       "      <td>#KILLALLZOMBIES</td>\n",
       "      <td>4.99</td>\n",
       "      <td>False</td>\n",
       "      <td>t</td>\n",
       "      <td>...</td>\n",
       "      <td>10</td>\n",
       "      <td>[Action, Indie, Zombies, Twin Stick Shooter]</td>\n",
       "      <td>https://store.steampowered.com/app/303720/KILL...</td>\n",
       "      <td>303720</td>\n",
       "      <td>#killallzombies</td>\n",
       "      <td>2</td>\n",
       "      <td>163</td>\n",
       "      <td>3879</td>\n",
       "      <td>#KILLALLZOMBIES</td>\n",
       "      <td>100</td>\n",
       "    </tr>\n",
       "    <tr>\n",
       "      <th>2</th>\n",
       "      <td>[Paleno Games]</td>\n",
       "      <td>[Casual, Indie]</td>\n",
       "      <td>[Paleno Games]</td>\n",
       "      <td>May 5, 2017</td>\n",
       "      <td>#monstercakes</td>\n",
       "      <td>614910</td>\n",
       "      <td>#monstercakes</td>\n",
       "      <td>0.99</td>\n",
       "      <td>False</td>\n",
       "      <td></td>\n",
       "      <td>...</td>\n",
       "      <td>18</td>\n",
       "      <td>[Casual, Indie, Puzzle, Match 3]</td>\n",
       "      <td>https://store.steampowered.com/app/614910/mons...</td>\n",
       "      <td>614910</td>\n",
       "      <td>#monstercakes</td>\n",
       "      <td>57</td>\n",
       "      <td>70</td>\n",
       "      <td>189</td>\n",
       "      <td>#monstercakes</td>\n",
       "      <td>100</td>\n",
       "    </tr>\n",
       "    <tr>\n",
       "      <th>3</th>\n",
       "      <td>[Eko]</td>\n",
       "      <td>[Adventure, Indie]</td>\n",
       "      <td>[Eko]</td>\n",
       "      <td>Mar 14, 2018</td>\n",
       "      <td>#WarGames</td>\n",
       "      <td>779420</td>\n",
       "      <td>#WarGames</td>\n",
       "      <td>2.99</td>\n",
       "      <td>False</td>\n",
       "      <td></td>\n",
       "      <td>...</td>\n",
       "      <td>55</td>\n",
       "      <td>[Adventure, Indie, FMV]</td>\n",
       "      <td>https://store.steampowered.com/app/779420/WarG...</td>\n",
       "      <td>779420</td>\n",
       "      <td>#WarGames</td>\n",
       "      <td>2</td>\n",
       "      <td>5</td>\n",
       "      <td>36</td>\n",
       "      <td>#WarGames</td>\n",
       "      <td>100</td>\n",
       "    </tr>\n",
       "    <tr>\n",
       "      <th>4</th>\n",
       "      <td>[BeHappy Studios]</td>\n",
       "      <td>[Action, Casual, Indie]</td>\n",
       "      <td>[Back To Basics Gaming]</td>\n",
       "      <td>Jul 28, 2016</td>\n",
       "      <td>$1 Ride</td>\n",
       "      <td>508290</td>\n",
       "      <td>$1 Ride</td>\n",
       "      <td>0.98</td>\n",
       "      <td>False</td>\n",
       "      <td></td>\n",
       "      <td>...</td>\n",
       "      <td>0</td>\n",
       "      <td>[Casual, Indie, Action]</td>\n",
       "      <td>https://store.steampowered.com/app/508290/1_Ride/</td>\n",
       "      <td>508290</td>\n",
       "      <td>$1 Ride</td>\n",
       "      <td>1</td>\n",
       "      <td>4</td>\n",
       "      <td>2002</td>\n",
       "      <td>$1 Ride</td>\n",
       "      <td>100</td>\n",
       "    </tr>\n",
       "  </tbody>\n",
       "</table>\n",
       "<p>5 rows × 29 columns</p>\n",
       "</div>"
      ],
      "text/plain": [
       "           Developer                               Genre  \\\n",
       "0       [WTFOMGames]  [Action, Adventure, Casual, Indie]   \n",
       "1      [Beatshapers]                     [Action, Indie]   \n",
       "2     [Paleno Games]                     [Casual, Indie]   \n",
       "3              [Eko]                  [Adventure, Indie]   \n",
       "4  [BeHappy Studios]             [Action, Casual, Indie]   \n",
       "\n",
       "                 Publisher  Release Date  \\\n",
       "0             [WTFOMGames]   Mar 1, 2016   \n",
       "1    [8Floor, Beatshapers]  Aug 10, 2016   \n",
       "2           [Paleno Games]   May 5, 2017   \n",
       "3                    [Eko]  Mar 14, 2018   \n",
       "4  [Back To Basics Gaming]  Jul 28, 2016   \n",
       "\n",
       "                                          Title  app_id  \\\n",
       "0  ! That Bastard Is Trying To Steal Our Gold !  449940   \n",
       "1                               #KILLALLZOMBIES  303720   \n",
       "2                                 #monstercakes  614910   \n",
       "3                                     #WarGames  779420   \n",
       "4                                       $1 Ride  508290   \n",
       "\n",
       "                                       app_name discount_price  early_access  \\\n",
       "0  ! That Bastard Is Trying To Steal Our Gold !           3.99         False   \n",
       "1                               #KILLALLZOMBIES           4.99         False   \n",
       "2                                 #monstercakes           0.99         False   \n",
       "3                                     #WarGames           2.99         False   \n",
       "4                                       $1 Ride           0.98         False   \n",
       "\n",
       "  esrb     ...      steam_Achievement_n  \\\n",
       "0          ...                        0   \n",
       "1    t     ...                       10   \n",
       "2          ...                       18   \n",
       "3          ...                       55   \n",
       "4          ...                        0   \n",
       "\n",
       "                                                tags  \\\n",
       "0  [Action, Indie, Casual, Adventure, Memes, Psyc...   \n",
       "1       [Action, Indie, Zombies, Twin Stick Shooter]   \n",
       "2                   [Casual, Indie, Puzzle, Match 3]   \n",
       "3                            [Adventure, Indie, FMV]   \n",
       "4                            [Casual, Indie, Action]   \n",
       "\n",
       "                                                 url   AppID  \\\n",
       "0  https://store.steampowered.com/app/449940/_Tha...  449940   \n",
       "1  https://store.steampowered.com/app/303720/KILL...  303720   \n",
       "2  https://store.steampowered.com/app/614910/mons...  614910   \n",
       "3  https://store.steampowered.com/app/779420/WarG...  779420   \n",
       "4  https://store.steampowered.com/app/508290/1_Ride/  508290   \n",
       "\n",
       "                                           Name  Current 24h Peak  \\\n",
       "0  ! That Bastard Is Trying To Steal Our Gold !        1       27   \n",
       "1                               #killallzombies        2      163   \n",
       "2                                 #monstercakes       57       70   \n",
       "3                                     #WarGames        2        5   \n",
       "4                                       $1 Ride        1        4   \n",
       "\n",
       "  All-Time Peak                              steam_match_name  fuzzy_score  \n",
       "0          1951  ! That Bastard Is Trying To Steal Our Gold !          100  \n",
       "1          3879                               #KILLALLZOMBIES          100  \n",
       "2           189                                 #monstercakes          100  \n",
       "3            36                                     #WarGames          100  \n",
       "4          2002                                       $1 Ride          100  \n",
       "\n",
       "[5 rows x 29 columns]"
      ]
     },
     "execution_count": 550,
     "metadata": {},
     "output_type": "execute_result"
    }
   ],
   "source": [
    "steam_combined_fuzzy.head()"
   ]
  },
  {
   "cell_type": "code",
   "execution_count": 551,
   "metadata": {},
   "outputs": [
    {
     "name": "stdout",
     "output_type": "stream",
     "text": [
      "<class 'pandas.core.frame.DataFrame'>\n",
      "Int64Index: 7295 entries, 0 to 7294\n",
      "Data columns (total 29 columns):\n",
      "Developer               7295 non-null object\n",
      "Genre                   7295 non-null object\n",
      "Publisher               7295 non-null object\n",
      "Release Date            7295 non-null object\n",
      "Title                   7295 non-null object\n",
      "app_id                  7295 non-null object\n",
      "app_name                7295 non-null object\n",
      "discount_price          7295 non-null object\n",
      "early_access            7295 non-null bool\n",
      "esrb                    7295 non-null object\n",
      "mature_reasons          7295 non-null object\n",
      "metascore               7295 non-null object\n",
      "overall_rev_pos_perc    7295 non-null int64\n",
      "overall_reviews_n       7295 non-null int64\n",
      "price                   7295 non-null float64\n",
      "recent_rev_pos_perc     7295 non-null int64\n",
      "recent_reviews_n        7295 non-null object\n",
      "reviews_url             7295 non-null object\n",
      "specs                   7295 non-null object\n",
      "steam_Achievement_n     7295 non-null int64\n",
      "tags                    7295 non-null object\n",
      "url                     7295 non-null object\n",
      "AppID                   7295 non-null int64\n",
      "Name                    7295 non-null object\n",
      "Current                 7295 non-null int64\n",
      "24h Peak                7295 non-null int64\n",
      "All-Time Peak           7295 non-null int64\n",
      "steam_match_name        7295 non-null object\n",
      "fuzzy_score             7295 non-null int64\n",
      "dtypes: bool(1), float64(1), int64(9), object(18)\n",
      "memory usage: 1.6+ MB\n"
     ]
    }
   ],
   "source": [
    "steam_combined_fuzzy.info()"
   ]
  },
  {
   "cell_type": "markdown",
   "metadata": {},
   "source": [
    "### Loading the pickled dataframes:"
   ]
  },
  {
   "cell_type": "code",
   "execution_count": 3,
   "metadata": {
    "ExecuteTime": {
     "end_time": "2018-04-26T16:55:11.683125Z",
     "start_time": "2018-04-26T16:55:09.892758Z"
    }
   },
   "outputs": [],
   "source": [
    "import pickle\n",
    "\n",
    "# Getting back the objects:\n",
    "with open('objs_steam_data.pkl', 'rb') as f:\n",
    "    y, X, steamDB_users_df_fuzzy_final, steamDB_users_df_fuzzy, steamDB_users_df, steam_combined_expanded, steam_combined_fuzzy = pickle.load(f)\n",
    "f.close()"
   ]
  },
  {
   "cell_type": "code",
   "execution_count": 7,
   "metadata": {
    "ExecuteTime": {
     "end_time": "2018-04-26T16:56:50.119263Z",
     "start_time": "2018-04-26T16:56:50.100139Z"
    }
   },
   "outputs": [],
   "source": [
    "# Combining all cleaning of steam_combined:\n",
    "\n",
    "# changing spaces in column names to underscores to make dealing with them easier\n",
    "steam_combined_fuzzy.rename(columns={'All-Time Peak': 'All_Time_Peak_concurrent_users', 'Release Date': 'Release_Date'}, inplace=True)\n",
    "\n",
    "# temporarily dealing with missing esrb ratings by filling empty values with nr for \"not rated\"\n",
    "steam_combined_fuzzy['esrb'].replace('', 'nr', inplace= True)\n",
    "\n",
    "# replacing string values in discount_price as 0.00 and making it type float\n",
    "steam_combined_fuzzy['discount_price'] = steam_combined_fuzzy.discount_price.replace('Free To Play',0.00).replace('Free to Play',0.00).replace('Free',0.00).astype(float)\n",
    "\n",
    "steam_combined_fuzzy.metascore = steam_combined_fuzzy.metascore.replace('NA','NaN').astype('float')"
   ]
  },
  {
   "cell_type": "markdown",
   "metadata": {},
   "source": [
    "### Expanding the lists in the dataframe into new columns:\n",
    "#### I scraped some of the features as lists, because for tags, genre, specs, and a few other features there were multiple entries per game. This means that these columns have to be expanded for linear regression, however, as these lists won't be interpreted correctly by getdummies() or patsy."
   ]
  },
  {
   "cell_type": "code",
   "execution_count": 9,
   "metadata": {
    "ExecuteTime": {
     "end_time": "2018-04-26T17:04:48.275446Z",
     "start_time": "2018-04-26T17:04:48.272601Z"
    }
   },
   "outputs": [],
   "source": [
    "def not_list_to_empty_list(row):\n",
    "    if type(row) != list:\n",
    "        row = []\n",
    "    return row"
   ]
  },
  {
   "cell_type": "code",
   "execution_count": 13,
   "metadata": {
    "ExecuteTime": {
     "end_time": "2018-04-26T17:06:49.958587Z",
     "start_time": "2018-04-26T17:06:49.508601Z"
    }
   },
   "outputs": [],
   "source": [
    "def create_new_columns_as_counts_from_lists(old_df, colname):\n",
    "    vect = cv()\n",
    "    vect.fit(old_df[colname].str.join(' '))\n",
    "    X = vect.transform(old_df[colname].str.join(' '))\n",
    "    df_of_new_cols = pd.DataFrame(X.toarray(),columns=vect.get_feature_names())\n",
    "    new_df = old_df.join(df_of_new_cols, rsuffix=colname).copy()\n",
    "    return new_df\n",
    "    \"\"\"Makes a new dataframe expanding a column with lists into several columns with counts for each element\"\"\""
   ]
  },
  {
   "cell_type": "code",
   "execution_count": 14,
   "metadata": {
    "ExecuteTime": {
     "end_time": "2018-04-26T17:06:51.359723Z",
     "start_time": "2018-04-26T17:06:51.356542Z"
    }
   },
   "outputs": [],
   "source": [
    "def expand_list_columns(df, colname):\n",
    "    newcolname = colname+'_new'\n",
    "    df[newcolname] = df[colname].apply(not_list_to_empty_list)\n",
    "    df = create_new_columns_as_counts_from_lists(df,newcolname).copy()\n",
    "    return df"
   ]
  },
  {
   "cell_type": "code",
   "execution_count": 17,
   "metadata": {
    "ExecuteTime": {
     "end_time": "2018-04-26T17:07:46.657857Z",
     "start_time": "2018-04-26T17:07:46.187709Z"
    }
   },
   "outputs": [],
   "source": [
    "steam_combined_expanded_fuzzy = expand_list_columns(steam_combined_fuzzy,'tags').copy()"
   ]
  },
  {
   "cell_type": "code",
   "execution_count": 18,
   "metadata": {
    "ExecuteTime": {
     "end_time": "2018-04-26T17:07:47.837334Z",
     "start_time": "2018-04-26T17:07:47.682795Z"
    }
   },
   "outputs": [],
   "source": [
    "steam_combined_expanded_fuzzy = expand_list_columns(steam_combined_expanded_fuzzy,'Genre').copy()"
   ]
  },
  {
   "cell_type": "code",
   "execution_count": 19,
   "metadata": {
    "ExecuteTime": {
     "end_time": "2018-04-26T17:07:50.381283Z",
     "start_time": "2018-04-26T17:07:48.698494Z"
    }
   },
   "outputs": [],
   "source": [
    "steam_combined_expanded_fuzzy = expand_list_columns(steam_combined_expanded_fuzzy,'Developer').copy()"
   ]
  },
  {
   "cell_type": "code",
   "execution_count": 20,
   "metadata": {
    "ExecuteTime": {
     "end_time": "2018-04-26T17:07:52.662604Z",
     "start_time": "2018-04-26T17:07:50.383541Z"
    }
   },
   "outputs": [],
   "source": [
    "steam_combined_expanded_fuzzy = expand_list_columns(steam_combined_expanded_fuzzy,'Publisher').copy()"
   ]
  },
  {
   "cell_type": "code",
   "execution_count": 21,
   "metadata": {
    "ExecuteTime": {
     "end_time": "2018-04-26T17:07:54.588333Z",
     "start_time": "2018-04-26T17:07:52.664709Z"
    }
   },
   "outputs": [],
   "source": [
    "steam_combined_expanded_fuzzy = expand_list_columns(steam_combined_expanded_fuzzy,'specs').copy()"
   ]
  },
  {
   "cell_type": "code",
   "execution_count": 22,
   "metadata": {
    "ExecuteTime": {
     "end_time": "2018-04-26T17:07:56.145946Z",
     "start_time": "2018-04-26T17:07:54.591541Z"
    }
   },
   "outputs": [],
   "source": [
    "steam_combined_expanded_fuzzy = expand_list_columns(steam_combined_expanded_fuzzy,'mature_reasons').copy()"
   ]
  },
  {
   "cell_type": "markdown",
   "metadata": {},
   "source": [
    "### Creating the x and y variables in patsy:"
   ]
  },
  {
   "cell_type": "code",
   "execution_count": 23,
   "metadata": {
    "ExecuteTime": {
     "end_time": "2018-04-26T17:07:59.392117Z",
     "start_time": "2018-04-26T17:07:59.345487Z"
    }
   },
   "outputs": [],
   "source": [
    "#steam_combined_expanded = create_new_columns_as_counts_from_lists(steam_combined_expanded,'esrb').copy()\n",
    "y,X = patsy.dmatrices('All_Time_Peak_concurrent_users ~ esrb + early_access', data=steam_combined_expanded_fuzzy, return_type=\"dataframe\")\n",
    "#X.head()\n",
    "for colname in X.columns:\n",
    "    steam_combined_expanded_fuzzy[colname] = X[colname]"
   ]
  },
  {
   "cell_type": "code",
   "execution_count": 25,
   "metadata": {
    "ExecuteTime": {
     "end_time": "2018-04-26T17:10:27.172738Z",
     "start_time": "2018-04-26T17:10:26.838637Z"
    }
   },
   "outputs": [
    {
     "name": "stdout",
     "output_type": "stream",
     "text": [
      "<class 'pandas.core.frame.DataFrame'>\n",
      "Int64Index: 7295 entries, 0 to 7294\n",
      "Columns: 9882 entries, Developer to early_access[T.True]\n",
      "dtypes: bool(1), float64(10), int64(9849), object(22)\n",
      "memory usage: 550.3+ MB\n"
     ]
    }
   ],
   "source": [
    "steam_combined_expanded_fuzzy.info()"
   ]
  },
  {
   "cell_type": "code",
   "execution_count": 31,
   "metadata": {
    "ExecuteTime": {
     "end_time": "2018-04-26T17:11:48.108934Z",
     "start_time": "2018-04-26T17:11:47.786676Z"
    }
   },
   "outputs": [],
   "source": [
    "y = steam_combined_expanded_fuzzy['All_Time_Peak_concurrent_users']\n",
    "X = steam_combined_expanded_fuzzy.drop(['steam_match_name','specs','specs_new','early_access','Title' , 'tags' , 'tags_new' , 'Genre' , 'Genre_new' , 'Developer' , 'Developer_new' , 'Publisher' , 'Publisher_new' , 'mature_reasons' , 'mature_reasons_new' , 'esrb' , 'app_id' , 'app_name' , 'url' , 'reviews_url' , 'AppID' , 'Name' , 'Current' , '24h Peak', 'All_Time_Peak_concurrent_users'], axis=1)\n",
    "#X['intercept']=1 #This is now taken care off by the patsy step with esrb\n",
    "#X.intercept.dtype"
   ]
  },
  {
   "cell_type": "code",
   "execution_count": 32,
   "metadata": {
    "ExecuteTime": {
     "end_time": "2018-04-26T17:11:48.762952Z",
     "start_time": "2018-04-26T17:11:48.739707Z"
    }
   },
   "outputs": [
    {
     "data": {
      "text/html": [
       "<div>\n",
       "<style scoped>\n",
       "    .dataframe tbody tr th:only-of-type {\n",
       "        vertical-align: middle;\n",
       "    }\n",
       "\n",
       "    .dataframe tbody tr th {\n",
       "        vertical-align: top;\n",
       "    }\n",
       "\n",
       "    .dataframe thead th {\n",
       "        text-align: right;\n",
       "    }\n",
       "</style>\n",
       "<table border=\"1\" class=\"dataframe\">\n",
       "  <thead>\n",
       "    <tr style=\"text-align: right;\">\n",
       "      <th></th>\n",
       "      <th>Release_Date</th>\n",
       "      <th>discount_price</th>\n",
       "      <th>metascore</th>\n",
       "      <th>overall_rev_pos_perc</th>\n",
       "      <th>overall_reviews_n</th>\n",
       "      <th>price</th>\n",
       "      <th>recent_rev_pos_perc</th>\n",
       "      <th>recent_reviews_n</th>\n",
       "      <th>steam_Achievement_n</th>\n",
       "      <th>fuzzy_score</th>\n",
       "      <th>...</th>\n",
       "      <th>violentmature_reasons_new</th>\n",
       "      <th>visit</th>\n",
       "      <th>withmature_reasons_new</th>\n",
       "      <th>Intercept</th>\n",
       "      <th>esrb[T.e]</th>\n",
       "      <th>esrb[T.m]</th>\n",
       "      <th>esrb[T.nr]</th>\n",
       "      <th>esrb[T.r]</th>\n",
       "      <th>esrb[T.t]</th>\n",
       "      <th>early_access[T.True]</th>\n",
       "    </tr>\n",
       "  </thead>\n",
       "  <tbody>\n",
       "    <tr>\n",
       "      <th>0</th>\n",
       "      <td>Mar 1, 2016</td>\n",
       "      <td>3.99</td>\n",
       "      <td>0.0</td>\n",
       "      <td>46</td>\n",
       "      <td>15</td>\n",
       "      <td>3.99</td>\n",
       "      <td>0</td>\n",
       "      <td>0</td>\n",
       "      <td>0</td>\n",
       "      <td>100</td>\n",
       "      <td>...</td>\n",
       "      <td>0</td>\n",
       "      <td>0</td>\n",
       "      <td>0</td>\n",
       "      <td>1.0</td>\n",
       "      <td>0.0</td>\n",
       "      <td>0.0</td>\n",
       "      <td>1.0</td>\n",
       "      <td>0.0</td>\n",
       "      <td>0.0</td>\n",
       "      <td>0.0</td>\n",
       "    </tr>\n",
       "    <tr>\n",
       "      <th>1</th>\n",
       "      <td>Aug 10, 2016</td>\n",
       "      <td>4.99</td>\n",
       "      <td>0.0</td>\n",
       "      <td>47</td>\n",
       "      <td>19</td>\n",
       "      <td>4.99</td>\n",
       "      <td>0</td>\n",
       "      <td>0</td>\n",
       "      <td>10</td>\n",
       "      <td>100</td>\n",
       "      <td>...</td>\n",
       "      <td>0</td>\n",
       "      <td>0</td>\n",
       "      <td>0</td>\n",
       "      <td>1.0</td>\n",
       "      <td>0.0</td>\n",
       "      <td>0.0</td>\n",
       "      <td>0.0</td>\n",
       "      <td>0.0</td>\n",
       "      <td>1.0</td>\n",
       "      <td>0.0</td>\n",
       "    </tr>\n",
       "    <tr>\n",
       "      <th>2</th>\n",
       "      <td>May 5, 2017</td>\n",
       "      <td>0.99</td>\n",
       "      <td>0.0</td>\n",
       "      <td>90</td>\n",
       "      <td>272</td>\n",
       "      <td>0.99</td>\n",
       "      <td>80</td>\n",
       "      <td>10</td>\n",
       "      <td>18</td>\n",
       "      <td>100</td>\n",
       "      <td>...</td>\n",
       "      <td>0</td>\n",
       "      <td>0</td>\n",
       "      <td>0</td>\n",
       "      <td>1.0</td>\n",
       "      <td>0.0</td>\n",
       "      <td>0.0</td>\n",
       "      <td>1.0</td>\n",
       "      <td>0.0</td>\n",
       "      <td>0.0</td>\n",
       "      <td>0.0</td>\n",
       "    </tr>\n",
       "    <tr>\n",
       "      <th>3</th>\n",
       "      <td>Mar 14, 2018</td>\n",
       "      <td>2.99</td>\n",
       "      <td>0.0</td>\n",
       "      <td>66</td>\n",
       "      <td>54</td>\n",
       "      <td>2.99</td>\n",
       "      <td>0</td>\n",
       "      <td>0</td>\n",
       "      <td>55</td>\n",
       "      <td>100</td>\n",
       "      <td>...</td>\n",
       "      <td>0</td>\n",
       "      <td>0</td>\n",
       "      <td>0</td>\n",
       "      <td>1.0</td>\n",
       "      <td>0.0</td>\n",
       "      <td>0.0</td>\n",
       "      <td>1.0</td>\n",
       "      <td>0.0</td>\n",
       "      <td>0.0</td>\n",
       "      <td>0.0</td>\n",
       "    </tr>\n",
       "    <tr>\n",
       "      <th>4</th>\n",
       "      <td>Jul 28, 2016</td>\n",
       "      <td>0.98</td>\n",
       "      <td>0.0</td>\n",
       "      <td>58</td>\n",
       "      <td>80</td>\n",
       "      <td>0.98</td>\n",
       "      <td>0</td>\n",
       "      <td>0</td>\n",
       "      <td>0</td>\n",
       "      <td>100</td>\n",
       "      <td>...</td>\n",
       "      <td>0</td>\n",
       "      <td>0</td>\n",
       "      <td>0</td>\n",
       "      <td>1.0</td>\n",
       "      <td>0.0</td>\n",
       "      <td>0.0</td>\n",
       "      <td>1.0</td>\n",
       "      <td>0.0</td>\n",
       "      <td>0.0</td>\n",
       "      <td>0.0</td>\n",
       "    </tr>\n",
       "  </tbody>\n",
       "</table>\n",
       "<p>5 rows × 9857 columns</p>\n",
       "</div>"
      ],
      "text/plain": [
       "   Release_Date  discount_price  metascore  overall_rev_pos_perc  \\\n",
       "0   Mar 1, 2016            3.99        0.0                    46   \n",
       "1  Aug 10, 2016            4.99        0.0                    47   \n",
       "2   May 5, 2017            0.99        0.0                    90   \n",
       "3  Mar 14, 2018            2.99        0.0                    66   \n",
       "4  Jul 28, 2016            0.98        0.0                    58   \n",
       "\n",
       "   overall_reviews_n  price  recent_rev_pos_perc recent_reviews_n  \\\n",
       "0                 15   3.99                    0                0   \n",
       "1                 19   4.99                    0                0   \n",
       "2                272   0.99                   80               10   \n",
       "3                 54   2.99                    0                0   \n",
       "4                 80   0.98                    0                0   \n",
       "\n",
       "   steam_Achievement_n  fuzzy_score          ...           \\\n",
       "0                    0          100          ...            \n",
       "1                   10          100          ...            \n",
       "2                   18          100          ...            \n",
       "3                   55          100          ...            \n",
       "4                    0          100          ...            \n",
       "\n",
       "   violentmature_reasons_new  visit  withmature_reasons_new  Intercept  \\\n",
       "0                          0      0                       0        1.0   \n",
       "1                          0      0                       0        1.0   \n",
       "2                          0      0                       0        1.0   \n",
       "3                          0      0                       0        1.0   \n",
       "4                          0      0                       0        1.0   \n",
       "\n",
       "   esrb[T.e]  esrb[T.m]  esrb[T.nr]  esrb[T.r]  esrb[T.t]  \\\n",
       "0        0.0        0.0         1.0        0.0        0.0   \n",
       "1        0.0        0.0         0.0        0.0        1.0   \n",
       "2        0.0        0.0         1.0        0.0        0.0   \n",
       "3        0.0        0.0         1.0        0.0        0.0   \n",
       "4        0.0        0.0         1.0        0.0        0.0   \n",
       "\n",
       "   early_access[T.True]  \n",
       "0                   0.0  \n",
       "1                   0.0  \n",
       "2                   0.0  \n",
       "3                   0.0  \n",
       "4                   0.0  \n",
       "\n",
       "[5 rows x 9857 columns]"
      ]
     },
     "execution_count": 32,
     "metadata": {},
     "output_type": "execute_result"
    }
   ],
   "source": [
    "X.head()"
   ]
  },
  {
   "cell_type": "markdown",
   "metadata": {},
   "source": [
    "Figuring out which columns still had offending non-numerical values:"
   ]
  },
  {
   "cell_type": "code",
   "execution_count": 33,
   "metadata": {
    "ExecuteTime": {
     "end_time": "2018-04-26T17:11:50.826515Z",
     "start_time": "2018-04-26T17:11:50.456403Z"
    }
   },
   "outputs": [
    {
     "name": "stdout",
     "output_type": "stream",
     "text": [
      "<class 'pandas.core.frame.DataFrame'>\n",
      "Int64Index: 7295 entries, 0 to 7294\n",
      "Columns: 9857 entries, Release_Date to early_access[T.True]\n",
      "dtypes: float64(10), int64(9845), object(2)\n",
      "memory usage: 549.0+ MB\n"
     ]
    }
   ],
   "source": [
    "X.info()"
   ]
  },
  {
   "cell_type": "code",
   "execution_count": 35,
   "metadata": {
    "ExecuteTime": {
     "end_time": "2018-04-26T17:12:03.381907Z",
     "start_time": "2018-04-26T17:12:03.325039Z"
    }
   },
   "outputs": [
    {
     "data": {
      "text/html": [
       "<div>\n",
       "<style scoped>\n",
       "    .dataframe tbody tr th:only-of-type {\n",
       "        vertical-align: middle;\n",
       "    }\n",
       "\n",
       "    .dataframe tbody tr th {\n",
       "        vertical-align: top;\n",
       "    }\n",
       "\n",
       "    .dataframe thead th {\n",
       "        text-align: right;\n",
       "    }\n",
       "</style>\n",
       "<table border=\"1\" class=\"dataframe\">\n",
       "  <thead>\n",
       "    <tr style=\"text-align: right;\">\n",
       "      <th></th>\n",
       "      <th>Release_Date</th>\n",
       "      <th>recent_reviews_n</th>\n",
       "    </tr>\n",
       "  </thead>\n",
       "  <tbody>\n",
       "    <tr>\n",
       "      <th>0</th>\n",
       "      <td>Mar 1, 2016</td>\n",
       "      <td>0</td>\n",
       "    </tr>\n",
       "    <tr>\n",
       "      <th>1</th>\n",
       "      <td>Aug 10, 2016</td>\n",
       "      <td>0</td>\n",
       "    </tr>\n",
       "    <tr>\n",
       "      <th>2</th>\n",
       "      <td>May 5, 2017</td>\n",
       "      <td>10</td>\n",
       "    </tr>\n",
       "    <tr>\n",
       "      <th>3</th>\n",
       "      <td>Mar 14, 2018</td>\n",
       "      <td>0</td>\n",
       "    </tr>\n",
       "    <tr>\n",
       "      <th>4</th>\n",
       "      <td>Jul 28, 2016</td>\n",
       "      <td>0</td>\n",
       "    </tr>\n",
       "  </tbody>\n",
       "</table>\n",
       "</div>"
      ],
      "text/plain": [
       "   Release_Date recent_reviews_n\n",
       "0   Mar 1, 2016                0\n",
       "1  Aug 10, 2016                0\n",
       "2   May 5, 2017               10\n",
       "3  Mar 14, 2018                0\n",
       "4  Jul 28, 2016                0"
      ]
     },
     "execution_count": 35,
     "metadata": {},
     "output_type": "execute_result"
    }
   ],
   "source": [
    "X.select_dtypes(include='object').head()\n",
    "# Release_Date and recent_reviews_n"
   ]
  },
  {
   "cell_type": "markdown",
   "metadata": {},
   "source": [
    "### Making appropriate dataframes for modeling by dropping inapppriate columns (X variables):"
   ]
  },
  {
   "cell_type": "code",
   "execution_count": 38,
   "metadata": {
    "ExecuteTime": {
     "end_time": "2018-04-26T17:18:37.828633Z",
     "start_time": "2018-04-26T17:18:37.260914Z"
    }
   },
   "outputs": [],
   "source": [
    "y = steam_combined_expanded_fuzzy['All_Time_Peak_concurrent_users']\n",
    "X = steam_combined_expanded_fuzzy.drop(['steam_match_name','Release_Date','specs','specs_new','early_access','Title' , 'tags' , 'tags_new' , 'Genre' , 'Genre_new' , 'Developer' , 'Developer_new' , 'Publisher' , 'Publisher_new' , 'mature_reasons' , 'mature_reasons_new' , 'esrb' , 'app_id' , 'app_name' , 'url' , 'reviews_url' , 'AppID' , 'Name' , 'Current' , '24h Peak', 'All_Time_Peak_concurrent_users'], axis=1)\n",
    "#X['intercept']=1 #This is now taken care off by the patsy step with esrb\n",
    "#X.intercept.dtype"
   ]
  },
  {
   "cell_type": "markdown",
   "metadata": {},
   "source": [
    "### Fixing columns with offending non-numerical values:"
   ]
  },
  {
   "cell_type": "code",
   "execution_count": 39,
   "metadata": {
    "ExecuteTime": {
     "end_time": "2018-04-26T17:18:39.454265Z",
     "start_time": "2018-04-26T17:18:39.452455Z"
    }
   },
   "outputs": [],
   "source": [
    "# Temporarily excluding release date\n",
    "#X.Release_Date = pd.to_datetime(X.Release_Date, errors='coerce')"
   ]
  },
  {
   "cell_type": "code",
   "execution_count": 40,
   "metadata": {
    "ExecuteTime": {
     "end_time": "2018-04-26T17:18:40.942462Z",
     "start_time": "2018-04-26T17:18:40.930781Z"
    }
   },
   "outputs": [],
   "source": [
    "X.recent_reviews_n = X.recent_reviews_n.str.replace(',','').astype(float)"
   ]
  },
  {
   "cell_type": "code",
   "execution_count": 41,
   "metadata": {
    "ExecuteTime": {
     "end_time": "2018-04-26T17:22:25.937578Z",
     "start_time": "2018-04-26T17:18:49.596845Z"
    }
   },
   "outputs": [
    {
     "ename": "KeyboardInterrupt",
     "evalue": "",
     "output_type": "error",
     "traceback": [
      "\u001b[0;31m---------------------------------------------------------------------------\u001b[0m",
      "\u001b[0;31mValueError\u001b[0m                                Traceback (most recent call last)",
      "\u001b[0;32m~/anaconda/lib/python3.6/site-packages/IPython/core/interactiveshell.py\u001b[0m in \u001b[0;36mrun_code\u001b[0;34m(self, code_obj, result)\u001b[0m\n\u001b[1;32m   2962\u001b[0m                 \u001b[0;31m#rprint('Running code', repr(code_obj)) # dbg\u001b[0m\u001b[0;34m\u001b[0m\u001b[0;34m\u001b[0m\u001b[0m\n\u001b[0;32m-> 2963\u001b[0;31m                 \u001b[0mexec\u001b[0m\u001b[0;34m(\u001b[0m\u001b[0mcode_obj\u001b[0m\u001b[0;34m,\u001b[0m \u001b[0mself\u001b[0m\u001b[0;34m.\u001b[0m\u001b[0muser_global_ns\u001b[0m\u001b[0;34m,\u001b[0m \u001b[0mself\u001b[0m\u001b[0;34m.\u001b[0m\u001b[0muser_ns\u001b[0m\u001b[0;34m)\u001b[0m\u001b[0;34m\u001b[0m\u001b[0m\n\u001b[0m\u001b[1;32m   2964\u001b[0m             \u001b[0;32mfinally\u001b[0m\u001b[0;34m:\u001b[0m\u001b[0;34m\u001b[0m\u001b[0m\n",
      "\u001b[0;32m<ipython-input-41-2ea8cdfe6037>\u001b[0m in \u001b[0;36m<module>\u001b[0;34m()\u001b[0m\n\u001b[1;32m      4\u001b[0m \u001b[0;31m# Fit your model to your training set\u001b[0m\u001b[0;34m\u001b[0m\u001b[0;34m\u001b[0m\u001b[0m\n\u001b[0;32m----> 5\u001b[0;31m \u001b[0mfit\u001b[0m \u001b[0;34m=\u001b[0m \u001b[0mmodel\u001b[0m\u001b[0;34m.\u001b[0m\u001b[0mfit\u001b[0m\u001b[0;34m(\u001b[0m\u001b[0;34m)\u001b[0m\u001b[0;34m\u001b[0m\u001b[0m\n\u001b[0m\u001b[1;32m      6\u001b[0m \u001b[0;31m# Print summary statistics of the model's performance\u001b[0m\u001b[0;34m\u001b[0m\u001b[0;34m\u001b[0m\u001b[0m\n",
      "\u001b[0;32m~/anaconda/lib/python3.6/site-packages/statsmodels/regression/linear_model.py\u001b[0m in \u001b[0;36mfit\u001b[0;34m(self, method, cov_type, cov_kwds, use_t, **kwargs)\u001b[0m\n\u001b[1;32m    189\u001b[0m \u001b[0;34m\u001b[0m\u001b[0m\n\u001b[0;32m--> 190\u001b[0;31m                 \u001b[0mself\u001b[0m\u001b[0;34m.\u001b[0m\u001b[0mpinv_wexog\u001b[0m\u001b[0;34m,\u001b[0m \u001b[0msingular_values\u001b[0m \u001b[0;34m=\u001b[0m \u001b[0mpinv_extended\u001b[0m\u001b[0;34m(\u001b[0m\u001b[0mself\u001b[0m\u001b[0;34m.\u001b[0m\u001b[0mwexog\u001b[0m\u001b[0;34m)\u001b[0m\u001b[0;34m\u001b[0m\u001b[0m\n\u001b[0m\u001b[1;32m    191\u001b[0m                 self.normalized_cov_params = np.dot(self.pinv_wexog,\n",
      "\u001b[0;32m~/anaconda/lib/python3.6/site-packages/statsmodels/tools/tools.py\u001b[0m in \u001b[0;36mpinv_extended\u001b[0;34m(X, rcond)\u001b[0m\n\u001b[1;32m    341\u001b[0m     \u001b[0mX\u001b[0m \u001b[0;34m=\u001b[0m \u001b[0mX\u001b[0m\u001b[0;34m.\u001b[0m\u001b[0mconjugate\u001b[0m\u001b[0;34m(\u001b[0m\u001b[0;34m)\u001b[0m\u001b[0;34m\u001b[0m\u001b[0m\n\u001b[0;32m--> 342\u001b[0;31m     \u001b[0mu\u001b[0m\u001b[0;34m,\u001b[0m \u001b[0ms\u001b[0m\u001b[0;34m,\u001b[0m \u001b[0mvt\u001b[0m \u001b[0;34m=\u001b[0m \u001b[0mnp\u001b[0m\u001b[0;34m.\u001b[0m\u001b[0mlinalg\u001b[0m\u001b[0;34m.\u001b[0m\u001b[0msvd\u001b[0m\u001b[0;34m(\u001b[0m\u001b[0mX\u001b[0m\u001b[0;34m,\u001b[0m \u001b[0;36m0\u001b[0m\u001b[0;34m)\u001b[0m\u001b[0;34m\u001b[0m\u001b[0m\n\u001b[0m\u001b[1;32m    343\u001b[0m     \u001b[0ms_orig\u001b[0m \u001b[0;34m=\u001b[0m \u001b[0mnp\u001b[0m\u001b[0;34m.\u001b[0m\u001b[0mcopy\u001b[0m\u001b[0;34m(\u001b[0m\u001b[0ms\u001b[0m\u001b[0;34m)\u001b[0m\u001b[0;34m\u001b[0m\u001b[0m\n",
      "\u001b[0;32m~/anaconda/lib/python3.6/site-packages/numpy/linalg/linalg.py\u001b[0m in \u001b[0;36msvd\u001b[0;34m(a, full_matrices, compute_uv)\u001b[0m\n\u001b[1;32m   1443\u001b[0m         \u001b[0msignature\u001b[0m \u001b[0;34m=\u001b[0m \u001b[0;34m'D->DdD'\u001b[0m \u001b[0;32mif\u001b[0m \u001b[0misComplexType\u001b[0m\u001b[0;34m(\u001b[0m\u001b[0mt\u001b[0m\u001b[0;34m)\u001b[0m \u001b[0;32melse\u001b[0m \u001b[0;34m'd->ddd'\u001b[0m\u001b[0;34m\u001b[0m\u001b[0m\n\u001b[0;32m-> 1444\u001b[0;31m         \u001b[0mu\u001b[0m\u001b[0;34m,\u001b[0m \u001b[0ms\u001b[0m\u001b[0;34m,\u001b[0m \u001b[0mvh\u001b[0m \u001b[0;34m=\u001b[0m \u001b[0mgufunc\u001b[0m\u001b[0;34m(\u001b[0m\u001b[0ma\u001b[0m\u001b[0;34m,\u001b[0m \u001b[0msignature\u001b[0m\u001b[0;34m=\u001b[0m\u001b[0msignature\u001b[0m\u001b[0;34m,\u001b[0m \u001b[0mextobj\u001b[0m\u001b[0;34m=\u001b[0m\u001b[0mextobj\u001b[0m\u001b[0;34m)\u001b[0m\u001b[0;34m\u001b[0m\u001b[0m\n\u001b[0m\u001b[1;32m   1445\u001b[0m         \u001b[0mu\u001b[0m \u001b[0;34m=\u001b[0m \u001b[0mu\u001b[0m\u001b[0;34m.\u001b[0m\u001b[0mastype\u001b[0m\u001b[0;34m(\u001b[0m\u001b[0mresult_t\u001b[0m\u001b[0;34m,\u001b[0m \u001b[0mcopy\u001b[0m\u001b[0;34m=\u001b[0m\u001b[0;32mFalse\u001b[0m\u001b[0;34m)\u001b[0m\u001b[0;34m\u001b[0m\u001b[0m\n",
      "\u001b[0;31mValueError\u001b[0m: On entry to DLASCL parameter number 4 had an illegal value",
      "\nDuring handling of the above exception, another exception occurred:\n",
      "\u001b[0;31mKeyboardInterrupt\u001b[0m                         Traceback (most recent call last)",
      "\u001b[0;31mKeyboardInterrupt\u001b[0m: "
     ]
    }
   ],
   "source": [
    "# Create your model\n",
    "#model = sm.OLS(y,X)\n",
    "model = sm.OLS(y,X.astype(float))\n",
    "# Fit your model to your training set\n",
    "fit = model.fit()\n",
    "# Print summary statistics of the model's performance\n",
    "fit.summary()"
   ]
  },
  {
   "cell_type": "code",
   "execution_count": 42,
   "metadata": {
    "ExecuteTime": {
     "end_time": "2018-04-26T17:22:57.405820Z",
     "start_time": "2018-04-26T17:22:57.325118Z"
    }
   },
   "outputs": [],
   "source": [
    "from sklearn import model_selection, pipeline, preprocessing, linear_model\n",
    "from sklearn.metrics import mean_squared_error\n",
    "from sklearn.linear_model import Lasso\n",
    "import numpy as np"
   ]
  },
  {
   "cell_type": "code",
   "execution_count": 46,
   "metadata": {
    "ExecuteTime": {
     "end_time": "2018-04-26T17:23:52.664280Z",
     "start_time": "2018-04-26T17:23:51.764941Z"
    }
   },
   "outputs": [],
   "source": [
    "y = y.astype(float)\n",
    "X = X.astype(float)"
   ]
  },
  {
   "cell_type": "code",
   "execution_count": 49,
   "metadata": {
    "ExecuteTime": {
     "end_time": "2018-04-26T17:24:45.679739Z",
     "start_time": "2018-04-26T17:24:45.657184Z"
    }
   },
   "outputs": [
    {
     "data": {
      "text/html": [
       "<div>\n",
       "<style scoped>\n",
       "    .dataframe tbody tr th:only-of-type {\n",
       "        vertical-align: middle;\n",
       "    }\n",
       "\n",
       "    .dataframe tbody tr th {\n",
       "        vertical-align: top;\n",
       "    }\n",
       "\n",
       "    .dataframe thead th {\n",
       "        text-align: right;\n",
       "    }\n",
       "</style>\n",
       "<table border=\"1\" class=\"dataframe\">\n",
       "  <thead>\n",
       "    <tr style=\"text-align: right;\">\n",
       "      <th></th>\n",
       "      <th>discount_price</th>\n",
       "      <th>metascore</th>\n",
       "      <th>overall_rev_pos_perc</th>\n",
       "      <th>overall_reviews_n</th>\n",
       "      <th>price</th>\n",
       "      <th>recent_rev_pos_perc</th>\n",
       "      <th>recent_reviews_n</th>\n",
       "      <th>steam_Achievement_n</th>\n",
       "      <th>fuzzy_score</th>\n",
       "      <th>1980s</th>\n",
       "      <th>...</th>\n",
       "      <th>violentmature_reasons_new</th>\n",
       "      <th>visit</th>\n",
       "      <th>withmature_reasons_new</th>\n",
       "      <th>Intercept</th>\n",
       "      <th>esrb[T.e]</th>\n",
       "      <th>esrb[T.m]</th>\n",
       "      <th>esrb[T.nr]</th>\n",
       "      <th>esrb[T.r]</th>\n",
       "      <th>esrb[T.t]</th>\n",
       "      <th>early_access[T.True]</th>\n",
       "    </tr>\n",
       "  </thead>\n",
       "  <tbody>\n",
       "    <tr>\n",
       "      <th>0</th>\n",
       "      <td>3.99</td>\n",
       "      <td>0.0</td>\n",
       "      <td>46.0</td>\n",
       "      <td>15.0</td>\n",
       "      <td>3.99</td>\n",
       "      <td>0.0</td>\n",
       "      <td>NaN</td>\n",
       "      <td>0.0</td>\n",
       "      <td>100.0</td>\n",
       "      <td>0.0</td>\n",
       "      <td>...</td>\n",
       "      <td>0.0</td>\n",
       "      <td>0.0</td>\n",
       "      <td>0.0</td>\n",
       "      <td>1.0</td>\n",
       "      <td>0.0</td>\n",
       "      <td>0.0</td>\n",
       "      <td>1.0</td>\n",
       "      <td>0.0</td>\n",
       "      <td>0.0</td>\n",
       "      <td>0.0</td>\n",
       "    </tr>\n",
       "    <tr>\n",
       "      <th>1</th>\n",
       "      <td>4.99</td>\n",
       "      <td>0.0</td>\n",
       "      <td>47.0</td>\n",
       "      <td>19.0</td>\n",
       "      <td>4.99</td>\n",
       "      <td>0.0</td>\n",
       "      <td>NaN</td>\n",
       "      <td>10.0</td>\n",
       "      <td>100.0</td>\n",
       "      <td>0.0</td>\n",
       "      <td>...</td>\n",
       "      <td>0.0</td>\n",
       "      <td>0.0</td>\n",
       "      <td>0.0</td>\n",
       "      <td>1.0</td>\n",
       "      <td>0.0</td>\n",
       "      <td>0.0</td>\n",
       "      <td>0.0</td>\n",
       "      <td>0.0</td>\n",
       "      <td>1.0</td>\n",
       "      <td>0.0</td>\n",
       "    </tr>\n",
       "    <tr>\n",
       "      <th>2</th>\n",
       "      <td>0.99</td>\n",
       "      <td>0.0</td>\n",
       "      <td>90.0</td>\n",
       "      <td>272.0</td>\n",
       "      <td>0.99</td>\n",
       "      <td>80.0</td>\n",
       "      <td>NaN</td>\n",
       "      <td>18.0</td>\n",
       "      <td>100.0</td>\n",
       "      <td>0.0</td>\n",
       "      <td>...</td>\n",
       "      <td>0.0</td>\n",
       "      <td>0.0</td>\n",
       "      <td>0.0</td>\n",
       "      <td>1.0</td>\n",
       "      <td>0.0</td>\n",
       "      <td>0.0</td>\n",
       "      <td>1.0</td>\n",
       "      <td>0.0</td>\n",
       "      <td>0.0</td>\n",
       "      <td>0.0</td>\n",
       "    </tr>\n",
       "    <tr>\n",
       "      <th>3</th>\n",
       "      <td>2.99</td>\n",
       "      <td>0.0</td>\n",
       "      <td>66.0</td>\n",
       "      <td>54.0</td>\n",
       "      <td>2.99</td>\n",
       "      <td>0.0</td>\n",
       "      <td>NaN</td>\n",
       "      <td>55.0</td>\n",
       "      <td>100.0</td>\n",
       "      <td>0.0</td>\n",
       "      <td>...</td>\n",
       "      <td>0.0</td>\n",
       "      <td>0.0</td>\n",
       "      <td>0.0</td>\n",
       "      <td>1.0</td>\n",
       "      <td>0.0</td>\n",
       "      <td>0.0</td>\n",
       "      <td>1.0</td>\n",
       "      <td>0.0</td>\n",
       "      <td>0.0</td>\n",
       "      <td>0.0</td>\n",
       "    </tr>\n",
       "    <tr>\n",
       "      <th>4</th>\n",
       "      <td>0.98</td>\n",
       "      <td>0.0</td>\n",
       "      <td>58.0</td>\n",
       "      <td>80.0</td>\n",
       "      <td>0.98</td>\n",
       "      <td>0.0</td>\n",
       "      <td>NaN</td>\n",
       "      <td>0.0</td>\n",
       "      <td>100.0</td>\n",
       "      <td>0.0</td>\n",
       "      <td>...</td>\n",
       "      <td>0.0</td>\n",
       "      <td>0.0</td>\n",
       "      <td>0.0</td>\n",
       "      <td>1.0</td>\n",
       "      <td>0.0</td>\n",
       "      <td>0.0</td>\n",
       "      <td>1.0</td>\n",
       "      <td>0.0</td>\n",
       "      <td>0.0</td>\n",
       "      <td>0.0</td>\n",
       "    </tr>\n",
       "  </tbody>\n",
       "</table>\n",
       "<p>5 rows × 9856 columns</p>\n",
       "</div>"
      ],
      "text/plain": [
       "   discount_price  metascore  overall_rev_pos_perc  overall_reviews_n  price  \\\n",
       "0            3.99        0.0                  46.0               15.0   3.99   \n",
       "1            4.99        0.0                  47.0               19.0   4.99   \n",
       "2            0.99        0.0                  90.0              272.0   0.99   \n",
       "3            2.99        0.0                  66.0               54.0   2.99   \n",
       "4            0.98        0.0                  58.0               80.0   0.98   \n",
       "\n",
       "   recent_rev_pos_perc  recent_reviews_n  steam_Achievement_n  fuzzy_score  \\\n",
       "0                  0.0               NaN                  0.0        100.0   \n",
       "1                  0.0               NaN                 10.0        100.0   \n",
       "2                 80.0               NaN                 18.0        100.0   \n",
       "3                  0.0               NaN                 55.0        100.0   \n",
       "4                  0.0               NaN                  0.0        100.0   \n",
       "\n",
       "   1980s          ...           violentmature_reasons_new  visit  \\\n",
       "0    0.0          ...                                 0.0    0.0   \n",
       "1    0.0          ...                                 0.0    0.0   \n",
       "2    0.0          ...                                 0.0    0.0   \n",
       "3    0.0          ...                                 0.0    0.0   \n",
       "4    0.0          ...                                 0.0    0.0   \n",
       "\n",
       "   withmature_reasons_new  Intercept  esrb[T.e]  esrb[T.m]  esrb[T.nr]  \\\n",
       "0                     0.0        1.0        0.0        0.0         1.0   \n",
       "1                     0.0        1.0        0.0        0.0         0.0   \n",
       "2                     0.0        1.0        0.0        0.0         1.0   \n",
       "3                     0.0        1.0        0.0        0.0         1.0   \n",
       "4                     0.0        1.0        0.0        0.0         1.0   \n",
       "\n",
       "   esrb[T.r]  esrb[T.t]  early_access[T.True]  \n",
       "0        0.0        0.0                   0.0  \n",
       "1        0.0        1.0                   0.0  \n",
       "2        0.0        0.0                   0.0  \n",
       "3        0.0        0.0                   0.0  \n",
       "4        0.0        0.0                   0.0  \n",
       "\n",
       "[5 rows x 9856 columns]"
      ]
     },
     "execution_count": 49,
     "metadata": {},
     "output_type": "execute_result"
    }
   ],
   "source": [
    "X.head()"
   ]
  },
  {
   "cell_type": "code",
   "execution_count": null,
   "metadata": {},
   "outputs": [],
   "source": [
    "#y = y.reset_index().as_matrix().astype(np.float)\n",
    "#X = X.reset_index().as_matrix().astype(np.float)"
   ]
  },
  {
   "cell_type": "code",
   "execution_count": 54,
   "metadata": {
    "ExecuteTime": {
     "end_time": "2018-04-26T17:34:02.139788Z",
     "start_time": "2018-04-26T17:33:58.840077Z"
    }
   },
   "outputs": [],
   "source": [
    "# Saving X and y as pickles:\n",
    "\n",
    "with open('X.pkl', 'wb') as f:\n",
    "    pickle.dump(X, f)\n",
    "f.close()\n",
    "\n",
    "with open('y.pkl', 'wb') as f:\n",
    "    pickle.dump(y, f)\n",
    "f.close()\n",
    "\n",
    "with open('steam_combined_expanded_fuzzy.pkl', 'wb') as f:\n",
    "    pickle.dump(steam_combined_expanded_fuzzy, f)\n",
    "f.close()"
   ]
  },
  {
   "cell_type": "code",
   "execution_count": null,
   "metadata": {},
   "outputs": [],
   "source": []
  },
  {
   "cell_type": "markdown",
   "metadata": {},
   "source": [
    "notes on steps from Julia:\n",
    "\n",
    "test-train split\n",
    "\n",
    "score on x_train, y_train and x_test, y_test\n",
    "\n",
    "standardize\n",
    "\n",
    "lasso\n",
    "\n",
    "plot residuals\n",
    "\n",
    "seaborn jointplot for my strongest x\n",
    "\n",
    "put my lasso-determined variables back into statsmodels"
   ]
  },
  {
   "cell_type": "code",
   "execution_count": 47,
   "metadata": {
    "ExecuteTime": {
     "end_time": "2018-04-26T17:24:05.766390Z",
     "start_time": "2018-04-26T17:24:05.763319Z"
    }
   },
   "outputs": [],
   "source": [
    "elastic_pipe = pipeline.Pipeline([\n",
    "    (\"std\", preprocessing.StandardScaler()),\n",
    "    (\"elastic\", linear_model.ElasticNet(alpha=1.0, l1_ratio=0.5))\n",
    "])"
   ]
  },
  {
   "cell_type": "code",
   "execution_count": 48,
   "metadata": {
    "ExecuteTime": {
     "end_time": "2018-04-26T17:24:36.353550Z",
     "start_time": "2018-04-26T17:24:07.352394Z"
    }
   },
   "outputs": [
    {
     "data": {
      "text/plain": [
       "Pipeline(memory=None,\n",
       "     steps=[('std', StandardScaler(copy=True, with_mean=True, with_std=True)), ('elastic', ElasticNet(alpha=1.0, copy_X=True, fit_intercept=True, l1_ratio=0.5,\n",
       "      max_iter=1000, normalize=False, positive=False, precompute=False,\n",
       "      random_state=None, selection='cyclic', tol=0.0001, warm_start=False))])"
      ]
     },
     "execution_count": 48,
     "metadata": {},
     "output_type": "execute_result"
    }
   ],
   "source": [
    "elastic_pipe.fit(np.nan_to_num(X), y)\n",
    "#linear_model.ElasticNet(alpha=1.0, l1_ratio=0.5).fit(X.astype(float), y)"
   ]
  },
  {
   "cell_type": "code",
   "execution_count": 50,
   "metadata": {
    "ExecuteTime": {
     "end_time": "2018-04-26T17:26:46.641349Z",
     "start_time": "2018-04-26T17:26:45.253817Z"
    }
   },
   "outputs": [
    {
     "data": {
      "text/plain": [
       "0.8469663269691714"
      ]
     },
     "execution_count": 50,
     "metadata": {},
     "output_type": "execute_result"
    }
   ],
   "source": [
    "elastic_pipe.score(np.nan_to_num(X), y)"
   ]
  },
  {
   "cell_type": "code",
   "execution_count": 52,
   "metadata": {
    "ExecuteTime": {
     "end_time": "2018-04-26T17:28:19.366589Z",
     "start_time": "2018-04-26T17:28:19.362486Z"
    }
   },
   "outputs": [
    {
     "data": {
      "text/plain": [
       "array([ 494.65309165,  750.3583255 , -190.37428903, ...,  136.76775283,\n",
       "         -1.72511321, -106.89049196])"
      ]
     },
     "execution_count": 52,
     "metadata": {},
     "output_type": "execute_result"
    }
   ],
   "source": [
    "coefs = elastic_pipe.named_steps[\"elastic\"].coef_\n",
    "coefs"
   ]
  },
  {
   "cell_type": "code",
   "execution_count": null,
   "metadata": {},
   "outputs": [],
   "source": []
  },
  {
   "cell_type": "code",
   "execution_count": null,
   "metadata": {},
   "outputs": [],
   "source": []
  },
  {
   "cell_type": "code",
   "execution_count": 511,
   "metadata": {},
   "outputs": [],
   "source": [
    "y_pred = elastic_pipe.predict(np.nan_to_num(X))"
   ]
  },
  {
   "cell_type": "code",
   "execution_count": 512,
   "metadata": {
    "scrolled": true
   },
   "outputs": [
    {
     "ename": "AttributeError",
     "evalue": "module 'seaborn' has no attribute 'plot'",
     "output_type": "error",
     "traceback": [
      "\u001b[0;31m---------------------------------------------------------------------------\u001b[0m",
      "\u001b[0;31mAttributeError\u001b[0m                            Traceback (most recent call last)",
      "\u001b[0;32m<ipython-input-512-25d0cdb4bc3e>\u001b[0m in \u001b[0;36m<module>\u001b[0;34m()\u001b[0m\n\u001b[0;32m----> 1\u001b[0;31m \u001b[0msns\u001b[0m\u001b[0;34m.\u001b[0m\u001b[0mplot\u001b[0m\u001b[0;34m(\u001b[0m\u001b[0my\u001b[0m\u001b[0;34m,\u001b[0m\u001b[0mX\u001b[0m\u001b[0;34m)\u001b[0m\u001b[0;34m\u001b[0m\u001b[0m\n\u001b[0m",
      "\u001b[0;31mAttributeError\u001b[0m: module 'seaborn' has no attribute 'plot'"
     ]
    }
   ],
   "source": [
    "sns.plot(y,X)"
   ]
  },
  {
   "cell_type": "code",
   "execution_count": 51,
   "metadata": {
    "ExecuteTime": {
     "end_time": "2018-04-26T17:27:48.415286Z",
     "start_time": "2018-04-26T17:27:48.410948Z"
    }
   },
   "outputs": [
    {
     "data": {
      "text/plain": [
       "array([ 494.65309165,  750.3583255 , -190.37428903, ...,  136.76775283,\n",
       "         -1.72511321, -106.89049196])"
      ]
     },
     "execution_count": 51,
     "metadata": {},
     "output_type": "execute_result"
    }
   ],
   "source": [
    "coefs = elastic_pipe.named_steps[\"elastic\"].coef_\n",
    "coefs"
   ]
  },
  {
   "cell_type": "code",
   "execution_count": 508,
   "metadata": {},
   "outputs": [
    {
     "data": {
      "text/plain": [
       "array([[ 856.32369741,    5.61155376,    1.35147682, ...,   -2.83633939,\n",
       "           1.89528958,    4.02693438],\n",
       "       [ -83.30222803,  443.44070888,  725.20906803, ...,  103.6567206 ,\n",
       "          78.26826457, -117.4336927 ]])"
      ]
     },
     "execution_count": 508,
     "metadata": {},
     "output_type": "execute_result"
    }
   ],
   "source": [
    "coefs"
   ]
  },
  {
   "cell_type": "code",
   "execution_count": 507,
   "metadata": {},
   "outputs": [
    {
     "ename": "NameError",
     "evalue": "name 'best_i' is not defined",
     "output_type": "error",
     "traceback": [
      "\u001b[0;31m---------------------------------------------------------------------------\u001b[0m",
      "\u001b[0;31mNameError\u001b[0m                                 Traceback (most recent call last)",
      "\u001b[0;32m<ipython-input-507-781d291b1821>\u001b[0m in \u001b[0;36m<module>\u001b[0;34m()\u001b[0m\n\u001b[0;32m----> 1\u001b[0;31m \u001b[0mbest_c\u001b[0m \u001b[0;34m=\u001b[0m \u001b[0mcoefs\u001b[0m\u001b[0;34m[\u001b[0m\u001b[0mbest_i\u001b[0m\u001b[0;34m,\u001b[0m\u001b[0;34m:\u001b[0m\u001b[0;34m]\u001b[0m\u001b[0;34m\u001b[0m\u001b[0m\n\u001b[0m\u001b[1;32m      2\u001b[0m \u001b[0mbest_c\u001b[0m\u001b[0;34m\u001b[0m\u001b[0m\n",
      "\u001b[0;31mNameError\u001b[0m: name 'best_i' is not defined"
     ]
    }
   ],
   "source": [
    "best_i = np.argmax(test_scores)\n",
    "\n",
    "best_c = coefs[best_i,:]\n",
    "best_c"
   ]
  },
  {
   "cell_type": "code",
   "execution_count": null,
   "metadata": {},
   "outputs": [],
   "source": [
    "scatter(np.arange(len(best_c)), np.abs(best_c))\n",
    "plt.xticks(np.arange(len(best_c)), x.columns, rotation=90);"
   ]
  },
  {
   "cell_type": "code",
   "execution_count": 503,
   "metadata": {},
   "outputs": [
    {
     "data": {
      "text/plain": [
       "array([[-1.73178345, -0.49174893, -0.59838096, ..., -0.06348038,\n",
       "        -0.31031241, -0.31418305],\n",
       "       [-1.73124871, -0.70170418, -0.59838096, ..., -0.06348038,\n",
       "        -0.31031241, -0.31418305],\n",
       "       [-1.73071396, -0.56173401, -0.59838096, ..., -0.06348038,\n",
       "        -0.31031241, -0.31418305],\n",
       "       ...,\n",
       "       [ 1.73071396,  0.27808699, -0.59838096, ..., -0.06348038,\n",
       "         3.22255888, -0.31418305],\n",
       "       [ 1.73124871,  0.27808699, -0.59838096, ..., -0.06348038,\n",
       "        -0.31031241, -0.31418305],\n",
       "       [ 1.73178345, -0.77098941, -0.59838096, ..., -0.06348038,\n",
       "        -0.31031241, -0.31418305]])"
      ]
     },
     "execution_count": 503,
     "metadata": {},
     "output_type": "execute_result"
    }
   ],
   "source": [
    "#import numpy as np\n",
    "#y = y.reset_index().as_matrix().astype(np.float)\n",
    "#X = X.reset_index().as_matrix().astype(np.float)\n",
    "preprocessing.StandardScaler().fit_transform(np.nan_to_num(X), y)"
   ]
  },
  {
   "cell_type": "code",
   "execution_count": 501,
   "metadata": {},
   "outputs": [
    {
     "data": {
      "text/plain": [
       "array([[0.000e+00, 3.990e+00, 0.000e+00, ..., 0.000e+00, 0.000e+00,\n",
       "        0.000e+00],\n",
       "       [1.000e+00, 9.900e-01, 0.000e+00, ..., 0.000e+00, 0.000e+00,\n",
       "        0.000e+00],\n",
       "       [2.000e+00, 2.990e+00, 0.000e+00, ..., 0.000e+00, 0.000e+00,\n",
       "        0.000e+00],\n",
       "       ...,\n",
       "       [6.475e+03, 1.499e+01, 0.000e+00, ..., 0.000e+00, 1.000e+00,\n",
       "        0.000e+00],\n",
       "       [6.476e+03, 1.499e+01, 0.000e+00, ..., 0.000e+00, 0.000e+00,\n",
       "        0.000e+00],\n",
       "       [6.477e+03, 0.000e+00, 0.000e+00, ..., 0.000e+00, 0.000e+00,\n",
       "        0.000e+00]])"
      ]
     },
     "execution_count": 501,
     "metadata": {},
     "output_type": "execute_result"
    }
   ],
   "source": [
    "np.nan_to_num(X)"
   ]
  },
  {
   "cell_type": "code",
   "execution_count": null,
   "metadata": {},
   "outputs": [],
   "source": []
  },
  {
   "cell_type": "code",
   "execution_count": null,
   "metadata": {},
   "outputs": [],
   "source": [
    "# Unpack this:\n",
    "\n",
    "fig, axes = plt.subplots(2,1, figsize=(15, 8), sharex=True, tight_layout=True)\n",
    "\n",
    "alphas = np.logspace(.5,5, num=50)\n",
    "coefs = []\n",
    "train_scores = []\n",
    "test_scores = []\n",
    "\n",
    "# fig, axes = plt.subplots(1,len(alphas), figsize=(20, 8), sharey=True)\n",
    "for i, alpha in enumerate(alphas):\n",
    "    lasso_pipe.set_params(lasso__alpha=alpha)\n",
    "    cv_result = model_selection.cross_validate(\n",
    "        lasso_pipe, X=x, y=y, cv=10, return_train_score=True)\n",
    "    train_scores.append(np.maximum(np.mean(cv_result['train_score']), 0))\n",
    "    test_scores.append(np.maximum(np.mean(cv_result['test_score']), 0))\n",
    "    lasso_pipe.fit(x_train, y_train)\n",
    "    coefs.append(lasso_pipe.named_steps[\"lasso\"].coef_)\n",
    "    \n",
    "\n",
    "coefs = np.squeeze(coefs, axis=1)\n",
    "ax0 = axes.flat[0]\n",
    "ax0.plot(-alphas, 1 - np.array(train_scores), label=\"train\")\n",
    "ax0.plot(-alphas, 1 - np.maximum(test_scores, 0), label=\"test\")\n",
    "best_i = np.argmax(test_scores)\n",
    "ax0.vlines(-alphas[best_i], 0,1, colors=\"red\", linestyles=\"dotted\")\n",
    "ax0.set_ylabel(\"1 - $r^2$\")\n",
    "ax1 = axes.flat[1]\n",
    "ax1.plot(-alphas,coefs)\n",
    "ax1.set_ylabel(\"coefficient values\")\n",
    "ax1.set_xlabel(\"-alpha\")\n",
    "ax1.set_xscale(\"symlog\")\n",
    "plt.xscale(\"symlog\")\n",
    "# plt.yscale(\"symlog\")"
   ]
  },
  {
   "cell_type": "code",
   "execution_count": null,
   "metadata": {},
   "outputs": [],
   "source": []
  },
  {
   "cell_type": "code",
   "execution_count": null,
   "metadata": {},
   "outputs": [],
   "source": []
  },
  {
   "cell_type": "markdown",
   "metadata": {},
   "source": [
    "From notebooks:"
   ]
  },
  {
   "cell_type": "code",
   "execution_count": null,
   "metadata": {},
   "outputs": [],
   "source": [
    "model = ols(\"line_duration ~\"+ regression_formula, data=df_r).fit()\n",
    "fig = plt.figure(figsize=(15,15))\n",
    "\n",
    "# pass in the model as the first parameter, then specify the \n",
    "# predictor variable we want to analyze\n",
    "fig = sm.graphics.plot_regress_exog(model, \"year\", fig=fig)"
   ]
  },
  {
   "cell_type": "code",
   "execution_count": null,
   "metadata": {},
   "outputs": [],
   "source": [
    "from sklearn.model_selection import cross_validate\n",
    "\n",
    "lasso_pipe = pipeline.Pipeline([\n",
    "    (\"imp\", preprocessing.Imputer()), \n",
    "    (\"std\", preprocessing.StandardScaler()),\n",
    "    (\"lasso\", linear_model.Lasso())\n",
    "])\n",
    "fig, axes = plt.subplots(2,1, figsize=(15, 8), sharex=True, tight_layout=True)\n",
    "\n",
    "# start lower -- .1\n",
    "alphas = np.logspace(-1,3, num=50)\n",
    "coefs = []\n",
    "train_scores = []\n",
    "test_scores = []\n",
    "# fig, axes = plt.subplots(1,len(alphas), figsize=(20, 8), sharey=True)\n",
    "for i, alpha in enumerate(alphas):\n",
    "    lasso_pipe.set_params(lasso__alpha=alpha)\n",
    "    cv_result = cross_validate(lasso_pipe, X=X, y=y, cv=10, return_train_score=True)\n",
    "    train_scores.append(np.maximum(np.mean(cv_result['train_score']), 0))\n",
    "    test_scores.append(np.maximum(np.mean(cv_result['test_score']), 0))\n",
    "    lasso_pipe.fit(X_train, y_train)\n",
    "    coefs.append(lasso_pipe.named_steps[\"lasso\"].coef_)\n",
    "    \n",
    "\n",
    "coefs = np.squeeze(coefs, axis=1)\n",
    "ax0 = axes.flat[0]\n",
    "ax0.plot(-alphas, 1 - np.array(train_scores), label=\"train\")\n",
    "ax0.plot(-alphas, 1 - np.maximum(test_scores, 0), label=\"test\")\n",
    "best_i = np.argmax(test_scores)\n",
    "ax0.vlines(-alphas[best_i], 0,1, colors=\"red\", linestyles=\"dotted\")\n",
    "ax0.set_ylabel(\"1 - $r^2$\")\n",
    "ax1 = axes.flat[1]\n",
    "ax1.plot(-alphas,coefs)\n",
    "ax1.set_ylabel(\"coefficient values\")\n",
    "ax1.set_xlabel(\"-alpha\")\n",
    "ax1.set_xscale(\"symlog\")\n",
    "plt.xscale(\"symlog\")\n",
    "# plt.yscale(\"symlog\")"
   ]
  },
  {
   "cell_type": "code",
   "execution_count": null,
   "metadata": {},
   "outputs": [],
   "source": [
    "#getting X and Y\n",
    "X = df_r.loc[:, df_r.columns != 'line_duration']\n",
    "# Choose response variable(s)\n",
    "y = df_r['line_duration']"
   ]
  },
  {
   "cell_type": "code",
   "execution_count": null,
   "metadata": {},
   "outputs": [],
   "source": [
    "# same as above, just using more straightforward OLS method from statsmodels\n",
    "model = sm.OLS(y,X)\n",
    "results = model.fit()\n",
    "results.summary()\n",
    "#fig = sm.graphics.plot_regress_exog(results, \"year\", fig=fig)"
   ]
  },
  {
   "cell_type": "code",
   "execution_count": null,
   "metadata": {},
   "outputs": [],
   "source": []
  },
  {
   "cell_type": "code",
   "execution_count": 75,
   "metadata": {},
   "outputs": [],
   "source": []
  },
  {
   "cell_type": "code",
   "execution_count": 98,
   "metadata": {},
   "outputs": [],
   "source": []
  },
  {
   "cell_type": "code",
   "execution_count": 106,
   "metadata": {},
   "outputs": [],
   "source": []
  },
  {
   "cell_type": "code",
   "execution_count": 12,
   "metadata": {},
   "outputs": [
    {
     "data": {
      "text/plain": [
       "<seaborn.axisgrid.PairGrid at 0x114511a90>"
      ]
     },
     "execution_count": 12,
     "metadata": {},
     "output_type": "execute_result"
    },
    {
     "data": {
      "image/png": "[encoded data removed]",
      "text/plain": [
       "<Figure size 1080x1080 with 42 Axes>"
      ]
     },
     "metadata": {},
     "output_type": "display_data"
    }
   ],
   "source": [
    "sns.pairplot(steam_games_df);"
   ]
  },
  {
   "cell_type": "code",
   "execution_count": 41,
   "metadata": {},
   "outputs": [
    {
     "data": {
      "image/png": "[encoded data removed]",
      "text/plain": [
       "<Figure size 720x720 with 20 Axes>"
      ]
     },
     "metadata": {},
     "output_type": "display_data"
    }
   ],
   "source": [
    "sns.pairplot(steamDB_users_df);"
   ]
  },
  {
   "cell_type": "code",
   "execution_count": 61,
   "metadata": {},
   "outputs": [],
   "source": [
    "steamDB_users_df['AppID'] = steamDB_users_df['AppID'].astype('int64')\n",
    "steamDB_users_df['AppID'].dtype"
   ]
  },
  {
   "cell_type": "code",
   "execution_count": null,
   "metadata": {},
   "outputs": [],
   "source": []
  },
  {
   "cell_type": "code",
   "execution_count": null,
   "metadata": {},
   "outputs": [],
   "source": []
  },
  {
   "cell_type": "code",
   "execution_count": 67,
   "metadata": {},
   "outputs": [],
   "source": [
    "# combine the tables:\n",
    "steam_combined = pd.merge(steam_games_df, steamDB_users_df, left_on='app_name', right_on='Name', how='inner', sort=False)"
   ]
  },
  {
   "cell_type": "code",
   "execution_count": 102,
   "metadata": {},
   "outputs": [],
   "source": [
    "steam_combined.rename(columns={'All-Time Peak': 'All_Time_Peak_concurrent_users', 'Release Date': 'Release_Date'}, inplace=True)"
   ]
  },
  {
   "cell_type": "code",
   "execution_count": null,
   "metadata": {},
   "outputs": [],
   "source": [
    "steam_combined.fillna(0)\n",
    "\n",
    "# Create your feature matrix (X) and target vector (y)\n",
    "y, X = patsy.dmatrices('All_Time_Peak_concurrent_users ~ Developer + Genre + Publisher + \\\n",
    "Release_Date + discount_price + early_access + esrb + mature_reasons + \\\n",
    "metascore + overall_rev_pos_perc + overall_reviews_n + price + \\\n",
    "recent_rev_pos_perc + recent_reviews_n + reviews_url + specs + \\\n",
    "steam_Achievement_n + tags', data=steam_combined, return_type=\"dataframe\")\n",
    "\n",
    "# Create your model\n",
    "model = sm.OLS(y,X)\n",
    "# Fit your model to your training set\n",
    "fit = model.fit()\n",
    "# Print summary statistics of the model's performance\n",
    "fit.summary()"
   ]
  },
  {
   "cell_type": "markdown",
   "metadata": {},
   "source": [
    "When we run this we get an error from patsy saying that not all entries are hashable.\n",
    "\n",
    "We need to deal with the lists including the 'tags' column."
   ]
  },
  {
   "cell_type": "code",
   "execution_count": null,
   "metadata": {},
   "outputs": [],
   "source": [
    "steam_combined.fillna(0)\n",
    "\n",
    "# Create your feature matrix (X) and target vector (y)\n",
    "y, X = patsy.dmatrices('All_Time_Peak_concurrent_users ~ \\\n",
    "overall_reviews_n + price + overall_rev_pos_perc + tags.astype(str)'\\\n",
    "                       , data=steam_combined, return_type=\"dataframe\")\n",
    "\n",
    "# Create your model\n",
    "model = sm.OLS(y,X)\n",
    "# Fit your model to your training set\n",
    "fit = model.fit()\n",
    "# Print summary statistics of the model's performance\n",
    "fit.summary()"
   ]
  },
  {
   "cell_type": "markdown",
   "metadata": {},
   "source": [
    "When we run this we get an R-squared of 1.00.\n",
    "\n",
    "This is because the tag strings from each title is effectively uniquely identifying."
   ]
  },
  {
   "cell_type": "code",
   "execution_count": 92,
   "metadata": {},
   "outputs": [
    {
     "name": "stdout",
     "output_type": "stream",
     "text": [
      "<class 'pandas.core.frame.DataFrame'>\n",
      "Int64Index: 6478 entries, 0 to 6477\n",
      "Data columns (total 27 columns):\n",
      "Developer               6478 non-null object\n",
      "Genre                   6478 non-null object\n",
      "Publisher               6478 non-null object\n",
      "Release Date            6478 non-null object\n",
      "Title                   6478 non-null object\n",
      "app_id                  6478 non-null object\n",
      "app_name                6478 non-null object\n",
      "discount_price          6478 non-null object\n",
      "early_access            6478 non-null bool\n",
      "esrb                    6478 non-null object\n",
      "mature_reasons          6478 non-null object\n",
      "metascore               6478 non-null object\n",
      "overall_rev_pos_perc    6478 non-null int64\n",
      "overall_reviews_n       6478 non-null int64\n",
      "price                   6478 non-null float64\n",
      "recent_rev_pos_perc     6478 non-null int64\n",
      "recent_reviews_n        6478 non-null object\n",
      "reviews_url             6478 non-null object\n",
      "specs                   6478 non-null object\n",
      "steam_Achievement_n     6478 non-null int64\n",
      "tags                    6478 non-null object\n",
      "url                     6478 non-null object\n",
      "AppID                   6478 non-null int64\n",
      "Name                    6478 non-null object\n",
      "Current                 6478 non-null int64\n",
      "24h Peak                6478 non-null int64\n",
      "All-Time Peak           6478 non-null int64\n",
      "dtypes: bool(1), float64(1), int64(8), object(17)\n",
      "memory usage: 1.7+ MB\n"
     ]
    }
   ],
   "source": [
    "steam_combined.info() \n",
    "#steam_combined.esrb.astype(str).fillna(0)"
   ]
  },
  {
   "cell_type": "code",
   "execution_count": 94,
   "metadata": {},
   "outputs": [
    {
     "data": {
      "text/plain": [
       "0"
      ]
     },
     "execution_count": 94,
     "metadata": {},
     "output_type": "execute_result"
    }
   ],
   "source": [
    "steam_combined.esrb.isnull().sum()"
   ]
  },
  {
   "cell_type": "code",
   "execution_count": 98,
   "metadata": {},
   "outputs": [],
   "source": []
  },
  {
   "cell_type": "code",
   "execution_count": 106,
   "metadata": {},
   "outputs": [],
   "source": []
  },
  {
   "cell_type": "code",
   "execution_count": 107,
   "metadata": {},
   "outputs": [
    {
     "name": "stdout",
     "output_type": "stream",
     "text": [
      "<class 'pandas.core.frame.DataFrame'>\n",
      "Int64Index: 6478 entries, 0 to 6477\n",
      "Data columns (total 27 columns):\n",
      "Developer                         6478 non-null object\n",
      "Genre                             6478 non-null object\n",
      "Publisher                         6478 non-null object\n",
      "Release_Date                      6478 non-null object\n",
      "Title                             6478 non-null object\n",
      "app_id                            6478 non-null object\n",
      "app_name                          6478 non-null object\n",
      "discount_price                    6478 non-null float64\n",
      "early_access                      6478 non-null bool\n",
      "esrb                              6478 non-null object\n",
      "mature_reasons                    6478 non-null object\n",
      "metascore                         6478 non-null object\n",
      "overall_rev_pos_perc              6478 non-null int64\n",
      "overall_reviews_n                 6478 non-null int64\n",
      "price                             6478 non-null float64\n",
      "recent_rev_pos_perc               6478 non-null int64\n",
      "recent_reviews_n                  6478 non-null object\n",
      "reviews_url                       6478 non-null object\n",
      "specs                             6478 non-null object\n",
      "steam_Achievement_n               6478 non-null int64\n",
      "tags                              6478 non-null object\n",
      "url                               6478 non-null object\n",
      "AppID                             6478 non-null int64\n",
      "Name                              6478 non-null object\n",
      "Current                           6478 non-null int64\n",
      "24h Peak                          6478 non-null int64\n",
      "All_Time_Peak_concurrent_users    6478 non-null int64\n",
      "dtypes: bool(1), float64(2), int64(8), object(16)\n",
      "memory usage: 1.7+ MB\n"
     ]
    }
   ],
   "source": [
    "steam_combined.info() "
   ]
  },
  {
   "cell_type": "code",
   "execution_count": 108,
   "metadata": {},
   "outputs": [
    {
     "data": {
      "text/plain": [
       "array([0, 69, 67, 80, 74, 'NA', 84, 68, 66, 77, 60, 79, 72, 71, 73, 54,\n",
       "       75, 65, 81, 82, 64, 70, 78, 45, 57, 83, 55, 63, 52, 76, 85, 62, 59,\n",
       "       47, 49, 58, 86, 87, 90, 46, 94, 88, 96, 89, 56, 41, 61, 91, 92, 20,\n",
       "       93, 44, 51, 53, 37, 43, 50, 38, 40, 35, 48, 39, 95, 34, 33],\n",
       "      dtype=object)"
      ]
     },
     "execution_count": 108,
     "metadata": {},
     "output_type": "execute_result"
    }
   ],
   "source": [
    "steam_combined.metascore.unique()"
   ]
  },
  {
   "cell_type": "code",
   "execution_count": 115,
   "metadata": {},
   "outputs": [],
   "source": [
    "steam_combined.metascore = steam_combined.metascore.replace('NA','NaN').astype('float')"
   ]
  },
  {
   "cell_type": "code",
   "execution_count": 99,
   "metadata": {},
   "outputs": [
    {
     "data": {
      "text/html": [
       "<div>\n",
       "<style scoped>\n",
       "    .dataframe tbody tr th:only-of-type {\n",
       "        vertical-align: middle;\n",
       "    }\n",
       "\n",
       "    .dataframe tbody tr th {\n",
       "        vertical-align: top;\n",
       "    }\n",
       "\n",
       "    .dataframe thead th {\n",
       "        text-align: right;\n",
       "    }\n",
       "</style>\n",
       "<table border=\"1\" class=\"dataframe\">\n",
       "  <thead>\n",
       "    <tr style=\"text-align: right;\">\n",
       "      <th></th>\n",
       "      <th>Developer</th>\n",
       "      <th>Genre</th>\n",
       "      <th>Publisher</th>\n",
       "      <th>Release Date</th>\n",
       "      <th>Title</th>\n",
       "      <th>app_id</th>\n",
       "      <th>app_name</th>\n",
       "      <th>discount_price</th>\n",
       "      <th>early_access</th>\n",
       "      <th>esrb</th>\n",
       "      <th>...</th>\n",
       "      <th>reviews_url</th>\n",
       "      <th>specs</th>\n",
       "      <th>steam_Achievement_n</th>\n",
       "      <th>tags</th>\n",
       "      <th>url</th>\n",
       "      <th>AppID</th>\n",
       "      <th>Name</th>\n",
       "      <th>Current</th>\n",
       "      <th>24h Peak</th>\n",
       "      <th>All-Time Peak</th>\n",
       "    </tr>\n",
       "  </thead>\n",
       "  <tbody>\n",
       "    <tr>\n",
       "      <th>0</th>\n",
       "      <td>[WTFOMGames]</td>\n",
       "      <td>[Action, Adventure, Casual, Indie]</td>\n",
       "      <td>[WTFOMGames]</td>\n",
       "      <td>Mar 1, 2016</td>\n",
       "      <td>! That Bastard Is Trying To Steal Our Gold !</td>\n",
       "      <td>449940</td>\n",
       "      <td>! That Bastard Is Trying To Steal Our Gold !</td>\n",
       "      <td>3.99</td>\n",
       "      <td>False</td>\n",
       "      <td>nr</td>\n",
       "      <td>...</td>\n",
       "      <td>http://steamcommunity.com/app/449940/reviews/?...</td>\n",
       "      <td>[Single-player, Steam Trading Cards, Partial C...</td>\n",
       "      <td>0</td>\n",
       "      <td>[Action, Indie, Casual, Adventure, Memes, Psyc...</td>\n",
       "      <td>https://store.steampowered.com/app/449940/_Tha...</td>\n",
       "      <td>449940</td>\n",
       "      <td>! That Bastard Is Trying To Steal Our Gold !</td>\n",
       "      <td>1</td>\n",
       "      <td>27</td>\n",
       "      <td>1951</td>\n",
       "    </tr>\n",
       "    <tr>\n",
       "      <th>1</th>\n",
       "      <td>[Paleno Games]</td>\n",
       "      <td>[Casual, Indie]</td>\n",
       "      <td>[Paleno Games]</td>\n",
       "      <td>May 5, 2017</td>\n",
       "      <td>#monstercakes</td>\n",
       "      <td>614910</td>\n",
       "      <td>#monstercakes</td>\n",
       "      <td>0.99</td>\n",
       "      <td>False</td>\n",
       "      <td>nr</td>\n",
       "      <td>...</td>\n",
       "      <td>http://steamcommunity.com/app/614910/reviews/?...</td>\n",
       "      <td>[Single-player, Steam Achievements, Steam Trad...</td>\n",
       "      <td>18</td>\n",
       "      <td>[Casual, Indie, Puzzle, Match 3]</td>\n",
       "      <td>https://store.steampowered.com/app/614910/mons...</td>\n",
       "      <td>614910</td>\n",
       "      <td>#monstercakes</td>\n",
       "      <td>57</td>\n",
       "      <td>70</td>\n",
       "      <td>189</td>\n",
       "    </tr>\n",
       "    <tr>\n",
       "      <th>2</th>\n",
       "      <td>[Eko]</td>\n",
       "      <td>[Adventure, Indie]</td>\n",
       "      <td>[Eko]</td>\n",
       "      <td>Mar 14, 2018</td>\n",
       "      <td>#WarGames</td>\n",
       "      <td>779420</td>\n",
       "      <td>#WarGames</td>\n",
       "      <td>2.99</td>\n",
       "      <td>False</td>\n",
       "      <td>nr</td>\n",
       "      <td>...</td>\n",
       "      <td>http://steamcommunity.com/app/779420/reviews/?...</td>\n",
       "      <td>[Single-player, Steam Achievements, Full contr...</td>\n",
       "      <td>55</td>\n",
       "      <td>[Adventure, Indie, FMV]</td>\n",
       "      <td>https://store.steampowered.com/app/779420/WarG...</td>\n",
       "      <td>779420</td>\n",
       "      <td>#WarGames</td>\n",
       "      <td>2</td>\n",
       "      <td>5</td>\n",
       "      <td>36</td>\n",
       "    </tr>\n",
       "    <tr>\n",
       "      <th>3</th>\n",
       "      <td>[BeHappy Studios]</td>\n",
       "      <td>[Action, Casual, Indie]</td>\n",
       "      <td>[Back To Basics Gaming]</td>\n",
       "      <td>Jul 28, 2016</td>\n",
       "      <td>$1 Ride</td>\n",
       "      <td>508290</td>\n",
       "      <td>$1 Ride</td>\n",
       "      <td>0.98</td>\n",
       "      <td>False</td>\n",
       "      <td>nr</td>\n",
       "      <td>...</td>\n",
       "      <td>http://steamcommunity.com/app/508290/reviews/?...</td>\n",
       "      <td>[Single-player, Steam Trading Cards]</td>\n",
       "      <td>0</td>\n",
       "      <td>[Casual, Indie, Action]</td>\n",
       "      <td>https://store.steampowered.com/app/508290/1_Ride/</td>\n",
       "      <td>508290</td>\n",
       "      <td>$1 Ride</td>\n",
       "      <td>1</td>\n",
       "      <td>4</td>\n",
       "      <td>2002</td>\n",
       "    </tr>\n",
       "    <tr>\n",
       "      <th>4</th>\n",
       "      <td>[Arcane Raise]</td>\n",
       "      <td>[Adventure, Casual, Indie, RPG, Strategy]</td>\n",
       "      <td>[ArcaneRaise]</td>\n",
       "      <td>May 2, 2017</td>\n",
       "      <td>- Arcane preRaise -</td>\n",
       "      <td>603780</td>\n",
       "      <td>- Arcane preRaise -</td>\n",
       "      <td>2.99</td>\n",
       "      <td>False</td>\n",
       "      <td>nr</td>\n",
       "      <td>...</td>\n",
       "      <td>http://steamcommunity.com/app/603780/reviews/?...</td>\n",
       "      <td>[Single-player, Steam Achievements, Steam Trad...</td>\n",
       "      <td>36</td>\n",
       "      <td>[RPG, Casual, Adventure, Indie, Strategy, Fant...</td>\n",
       "      <td>https://store.steampowered.com/app/603780/_Arc...</td>\n",
       "      <td>603780</td>\n",
       "      <td>- Arcane preRaise -</td>\n",
       "      <td>34</td>\n",
       "      <td>76</td>\n",
       "      <td>3016</td>\n",
       "    </tr>\n",
       "  </tbody>\n",
       "</table>\n",
       "<p>5 rows × 27 columns</p>\n",
       "</div>"
      ],
      "text/plain": [
       "           Developer                                      Genre  \\\n",
       "0       [WTFOMGames]         [Action, Adventure, Casual, Indie]   \n",
       "1     [Paleno Games]                            [Casual, Indie]   \n",
       "2              [Eko]                         [Adventure, Indie]   \n",
       "3  [BeHappy Studios]                    [Action, Casual, Indie]   \n",
       "4     [Arcane Raise]  [Adventure, Casual, Indie, RPG, Strategy]   \n",
       "\n",
       "                 Publisher  Release Date  \\\n",
       "0             [WTFOMGames]   Mar 1, 2016   \n",
       "1           [Paleno Games]   May 5, 2017   \n",
       "2                    [Eko]  Mar 14, 2018   \n",
       "3  [Back To Basics Gaming]  Jul 28, 2016   \n",
       "4            [ArcaneRaise]   May 2, 2017   \n",
       "\n",
       "                                          Title  app_id  \\\n",
       "0  ! That Bastard Is Trying To Steal Our Gold !  449940   \n",
       "1                                 #monstercakes  614910   \n",
       "2                                     #WarGames  779420   \n",
       "3                                       $1 Ride  508290   \n",
       "4                           - Arcane preRaise -  603780   \n",
       "\n",
       "                                       app_name discount_price  early_access  \\\n",
       "0  ! That Bastard Is Trying To Steal Our Gold !           3.99         False   \n",
       "1                                 #monstercakes           0.99         False   \n",
       "2                                     #WarGames           2.99         False   \n",
       "3                                       $1 Ride           0.98         False   \n",
       "4                           - Arcane preRaise -           2.99         False   \n",
       "\n",
       "  esrb      ...                                              reviews_url  \\\n",
       "0   nr      ...        http://steamcommunity.com/app/449940/reviews/?...   \n",
       "1   nr      ...        http://steamcommunity.com/app/614910/reviews/?...   \n",
       "2   nr      ...        http://steamcommunity.com/app/779420/reviews/?...   \n",
       "3   nr      ...        http://steamcommunity.com/app/508290/reviews/?...   \n",
       "4   nr      ...        http://steamcommunity.com/app/603780/reviews/?...   \n",
       "\n",
       "                                               specs  steam_Achievement_n  \\\n",
       "0  [Single-player, Steam Trading Cards, Partial C...                    0   \n",
       "1  [Single-player, Steam Achievements, Steam Trad...                   18   \n",
       "2  [Single-player, Steam Achievements, Full contr...                   55   \n",
       "3               [Single-player, Steam Trading Cards]                    0   \n",
       "4  [Single-player, Steam Achievements, Steam Trad...                   36   \n",
       "\n",
       "                                                tags  \\\n",
       "0  [Action, Indie, Casual, Adventure, Memes, Psyc...   \n",
       "1                   [Casual, Indie, Puzzle, Match 3]   \n",
       "2                            [Adventure, Indie, FMV]   \n",
       "3                            [Casual, Indie, Action]   \n",
       "4  [RPG, Casual, Adventure, Indie, Strategy, Fant...   \n",
       "\n",
       "                                                 url   AppID  \\\n",
       "0  https://store.steampowered.com/app/449940/_Tha...  449940   \n",
       "1  https://store.steampowered.com/app/614910/mons...  614910   \n",
       "2  https://store.steampowered.com/app/779420/WarG...  779420   \n",
       "3  https://store.steampowered.com/app/508290/1_Ride/  508290   \n",
       "4  https://store.steampowered.com/app/603780/_Arc...  603780   \n",
       "\n",
       "                                           Name Current 24h Peak  \\\n",
       "0  ! That Bastard Is Trying To Steal Our Gold !       1       27   \n",
       "1                                 #monstercakes      57       70   \n",
       "2                                     #WarGames       2        5   \n",
       "3                                       $1 Ride       1        4   \n",
       "4                           - Arcane preRaise -      34       76   \n",
       "\n",
       "   All-Time Peak  \n",
       "0           1951  \n",
       "1            189  \n",
       "2             36  \n",
       "3           2002  \n",
       "4           3016  \n",
       "\n",
       "[5 rows x 27 columns]"
      ]
     },
     "execution_count": 99,
     "metadata": {},
     "output_type": "execute_result"
    }
   ],
   "source": [
    "steam_combined.head()"
   ]
  },
  {
   "cell_type": "code",
   "execution_count": 128,
   "metadata": {},
   "outputs": [
    {
     "data": {
      "text/html": [
       "<table class=\"simpletable\">\n",
       "<caption>OLS Regression Results</caption>\n",
       "<tr>\n",
       "  <th>Dep. Variable:</th>    <td>All_Time_Peak_concurrent_users</td> <th>  R-squared:         </th> <td>   0.377</td> \n",
       "</tr>\n",
       "<tr>\n",
       "  <th>Model:</th>                          <td>OLS</td>              <th>  Adj. R-squared:    </th> <td>   0.376</td> \n",
       "</tr>\n",
       "<tr>\n",
       "  <th>Method:</th>                    <td>Least Squares</td>         <th>  F-statistic:       </th> <td>   354.7</td> \n",
       "</tr>\n",
       "<tr>\n",
       "  <th>Date:</th>                    <td>Tue, 24 Apr 2018</td>        <th>  Prob (F-statistic):</th>  <td>  0.00</td>  \n",
       "</tr>\n",
       "<tr>\n",
       "  <th>Time:</th>                        <td>21:23:04</td>            <th>  Log-Likelihood:    </th> <td> -77030.</td> \n",
       "</tr>\n",
       "<tr>\n",
       "  <th>No. Observations:</th>             <td>  6454</td>             <th>  AIC:               </th> <td>1.541e+05</td>\n",
       "</tr>\n",
       "<tr>\n",
       "  <th>Df Residuals:</th>                 <td>  6442</td>             <th>  BIC:               </th> <td>1.542e+05</td>\n",
       "</tr>\n",
       "<tr>\n",
       "  <th>Df Model:</th>                     <td>    11</td>             <th>                     </th>     <td> </td>    \n",
       "</tr>\n",
       "<tr>\n",
       "  <th>Covariance Type:</th>             <td>nonrobust</td>           <th>                     </th>     <td> </td>    \n",
       "</tr>\n",
       "</table>\n",
       "<table class=\"simpletable\">\n",
       "<tr>\n",
       "            <td></td>              <th>coef</th>     <th>std err</th>      <th>t</th>      <th>P>|t|</th>  <th>[0.025</th>    <th>0.975]</th>  \n",
       "</tr>\n",
       "<tr>\n",
       "  <th>Intercept</th>            <td> 1704.9610</td> <td> 1.66e+04</td> <td>    0.103</td> <td> 0.918</td> <td>-3.07e+04</td> <td> 3.42e+04</td>\n",
       "</tr>\n",
       "<tr>\n",
       "  <th>early_access[T.True]</th> <td> -559.0148</td> <td> 1645.771</td> <td>   -0.340</td> <td> 0.734</td> <td>-3785.272</td> <td> 2667.242</td>\n",
       "</tr>\n",
       "<tr>\n",
       "  <th>esrb[T.e]</th>            <td> -134.3428</td> <td> 1.66e+04</td> <td>   -0.008</td> <td> 0.994</td> <td>-3.27e+04</td> <td> 3.24e+04</td>\n",
       "</tr>\n",
       "<tr>\n",
       "  <th>esrb[T.m]</th>            <td> 1276.6759</td> <td> 1.66e+04</td> <td>    0.077</td> <td> 0.939</td> <td>-3.13e+04</td> <td> 3.39e+04</td>\n",
       "</tr>\n",
       "<tr>\n",
       "  <th>esrb[T.nr]</th>           <td>   60.6402</td> <td> 1.65e+04</td> <td>    0.004</td> <td> 0.997</td> <td>-3.24e+04</td> <td> 3.25e+04</td>\n",
       "</tr>\n",
       "<tr>\n",
       "  <th>esrb[T.r]</th>            <td> 2615.2252</td> <td> 1.81e+04</td> <td>    0.145</td> <td> 0.885</td> <td>-3.28e+04</td> <td>  3.8e+04</td>\n",
       "</tr>\n",
       "<tr>\n",
       "  <th>esrb[T.t]</th>            <td> 4641.9969</td> <td> 1.66e+04</td> <td>    0.280</td> <td> 0.780</td> <td>-2.79e+04</td> <td> 3.72e+04</td>\n",
       "</tr>\n",
       "<tr>\n",
       "  <th>overall_reviews_n</th>    <td>    0.9711</td> <td>    0.016</td> <td>   61.563</td> <td> 0.000</td> <td>    0.940</td> <td>    1.002</td>\n",
       "</tr>\n",
       "<tr>\n",
       "  <th>price</th>                <td>   -7.2259</td> <td>  174.066</td> <td>   -0.042</td> <td> 0.967</td> <td> -348.454</td> <td>  334.002</td>\n",
       "</tr>\n",
       "<tr>\n",
       "  <th>overall_rev_pos_perc</th> <td>  -42.9889</td> <td>   18.244</td> <td>   -2.356</td> <td> 0.018</td> <td>  -78.753</td> <td>   -7.225</td>\n",
       "</tr>\n",
       "<tr>\n",
       "  <th>discount_price</th>       <td>   89.4572</td> <td>  175.799</td> <td>    0.509</td> <td> 0.611</td> <td> -255.167</td> <td>  434.082</td>\n",
       "</tr>\n",
       "<tr>\n",
       "  <th>metascore</th>            <td>   24.5742</td> <td>   15.863</td> <td>    1.549</td> <td> 0.121</td> <td>   -6.522</td> <td>   55.670</td>\n",
       "</tr>\n",
       "</table>\n",
       "<table class=\"simpletable\">\n",
       "<tr>\n",
       "  <th>Omnibus:</th>       <td>21069.868</td> <th>  Durbin-Watson:     </th>    <td>   2.014</td>   \n",
       "</tr>\n",
       "<tr>\n",
       "  <th>Prob(Omnibus):</th>  <td> 0.000</td>   <th>  Jarque-Bera (JB):  </th> <td>4608422136.414</td>\n",
       "</tr>\n",
       "<tr>\n",
       "  <th>Skew:</th>           <td>54.706</td>   <th>  Prob(JB):          </th>    <td>    0.00</td>   \n",
       "</tr>\n",
       "<tr>\n",
       "  <th>Kurtosis:</th>      <td>4141.239</td>  <th>  Cond. No.          </th>    <td>2.60e+06</td>   \n",
       "</tr>\n",
       "</table>"
      ],
      "text/plain": [
       "<class 'statsmodels.iolib.summary.Summary'>\n",
       "\"\"\"\n",
       "                                  OLS Regression Results                                  \n",
       "==========================================================================================\n",
       "Dep. Variable:     All_Time_Peak_concurrent_users   R-squared:                       0.377\n",
       "Model:                                        OLS   Adj. R-squared:                  0.376\n",
       "Method:                             Least Squares   F-statistic:                     354.7\n",
       "Date:                            Tue, 24 Apr 2018   Prob (F-statistic):               0.00\n",
       "Time:                                    21:23:04   Log-Likelihood:                -77030.\n",
       "No. Observations:                            6454   AIC:                         1.541e+05\n",
       "Df Residuals:                                6442   BIC:                         1.542e+05\n",
       "Df Model:                                      11                                         \n",
       "Covariance Type:                        nonrobust                                         \n",
       "========================================================================================\n",
       "                           coef    std err          t      P>|t|      [0.025      0.975]\n",
       "----------------------------------------------------------------------------------------\n",
       "Intercept             1704.9610   1.66e+04      0.103      0.918   -3.07e+04    3.42e+04\n",
       "early_access[T.True]  -559.0148   1645.771     -0.340      0.734   -3785.272    2667.242\n",
       "esrb[T.e]             -134.3428   1.66e+04     -0.008      0.994   -3.27e+04    3.24e+04\n",
       "esrb[T.m]             1276.6759   1.66e+04      0.077      0.939   -3.13e+04    3.39e+04\n",
       "esrb[T.nr]              60.6402   1.65e+04      0.004      0.997   -3.24e+04    3.25e+04\n",
       "esrb[T.r]             2615.2252   1.81e+04      0.145      0.885   -3.28e+04     3.8e+04\n",
       "esrb[T.t]             4641.9969   1.66e+04      0.280      0.780   -2.79e+04    3.72e+04\n",
       "overall_reviews_n        0.9711      0.016     61.563      0.000       0.940       1.002\n",
       "price                   -7.2259    174.066     -0.042      0.967    -348.454     334.002\n",
       "overall_rev_pos_perc   -42.9889     18.244     -2.356      0.018     -78.753      -7.225\n",
       "discount_price          89.4572    175.799      0.509      0.611    -255.167     434.082\n",
       "metascore               24.5742     15.863      1.549      0.121      -6.522      55.670\n",
       "==============================================================================\n",
       "Omnibus:                    21069.868   Durbin-Watson:                   2.014\n",
       "Prob(Omnibus):                  0.000   Jarque-Bera (JB):       4608422136.414\n",
       "Skew:                          54.706   Prob(JB):                         0.00\n",
       "Kurtosis:                    4141.239   Cond. No.                     2.60e+06\n",
       "==============================================================================\n",
       "\n",
       "Warnings:\n",
       "[1] Standard Errors assume that the covariance matrix of the errors is correctly specified.\n",
       "[2] The condition number is large, 2.6e+06. This might indicate that there are\n",
       "strong multicollinearity or other numerical problems.\n",
       "\"\"\""
      ]
     },
     "execution_count": 128,
     "metadata": {},
     "output_type": "execute_result"
    }
   ],
   "source": [
    "steam_combined.fillna(0)\n",
    "\n",
    "# Create your feature matrix (X) and target vector (y)\n",
    "y, X = patsy.dmatrices('All_Time_Peak_concurrent_users ~ \\\n",
    "overall_reviews_n + price + overall_rev_pos_perc + discount_price + early_access + esrb + metascore'\\\n",
    "                       , data=steam_combined, return_type=\"dataframe\")\n",
    "\n",
    "# figure out how to deal with the variables that are lists, otherwise effectively every title gets a unique variable:\n",
    "# tags.astype(str)\n",
    "\n",
    "# Create your model\n",
    "model = sm.OLS(y,X)\n",
    "# Fit your model to your training set\n",
    "fit = model.fit()\n",
    "# Print summary statistics of the model's performance\n",
    "fit.summary()"
   ]
  },
  {
   "cell_type": "code",
   "execution_count": 194,
   "metadata": {},
   "outputs": [],
   "source": []
  },
  {
   "cell_type": "markdown",
   "metadata": {},
   "source": [
    "## Combining and streamlining all of the data cleaning and applying it to the steam_combined_fuzzy df (in addition to the original steam_combined df):"
   ]
  },
  {
   "cell_type": "code",
   "execution_count": null,
   "metadata": {},
   "outputs": [],
   "source": []
  },
  {
   "cell_type": "code",
   "execution_count": null,
   "metadata": {},
   "outputs": [],
   "source": []
  },
  {
   "cell_type": "code",
   "execution_count": null,
   "metadata": {},
   "outputs": [],
   "source": []
  },
  {
   "cell_type": "code",
   "execution_count": null,
   "metadata": {},
   "outputs": [],
   "source": []
  },
  {
   "cell_type": "code",
   "execution_count": null,
   "metadata": {},
   "outputs": [],
   "source": []
  },
  {
   "cell_type": "code",
   "execution_count": null,
   "metadata": {},
   "outputs": [],
   "source": []
  },
  {
   "cell_type": "code",
   "execution_count": null,
   "metadata": {},
   "outputs": [],
   "source": []
  },
  {
   "cell_type": "code",
   "execution_count": 198,
   "metadata": {},
   "outputs": [],
   "source": [
    "from sklearn.feature_extraction.text import CountVectorizer as cv"
   ]
  },
  {
   "cell_type": "code",
   "execution_count": 207,
   "metadata": {},
   "outputs": [],
   "source": [
    "vect = cv()\n",
    "vect.fit(steam_combined.tags.str.join(' '))\n",
    "X = vect.transform(steam_combined.tags.str.join(' '))\n",
    "df2 = pd.DataFrame(X.toarray(),columns=vect.get_feature_names())\n",
    "steam_combined_expanded = steam_combined.join(df2)"
   ]
  },
  {
   "cell_type": "code",
   "execution_count": 208,
   "metadata": {},
   "outputs": [
    {
     "name": "stdout",
     "output_type": "stream",
     "text": [
      "<class 'pandas.core.frame.DataFrame'>\n",
      "Int64Index: 6478 entries, 0 to 6477\n",
      "Columns: 407 entries, Developer to zombies\n",
      "dtypes: bool(1), float64(3), int64(388), object(15)\n",
      "memory usage: 20.4+ MB\n"
     ]
    }
   ],
   "source": [
    "steam_combined_expanded.info()"
   ]
  },
  {
   "cell_type": "code",
   "execution_count": 209,
   "metadata": {},
   "outputs": [
    {
     "data": {
      "text/html": [
       "<div>\n",
       "<style scoped>\n",
       "    .dataframe tbody tr th:only-of-type {\n",
       "        vertical-align: middle;\n",
       "    }\n",
       "\n",
       "    .dataframe tbody tr th {\n",
       "        vertical-align: top;\n",
       "    }\n",
       "\n",
       "    .dataframe thead th {\n",
       "        text-align: right;\n",
       "    }\n",
       "</style>\n",
       "<table border=\"1\" class=\"dataframe\">\n",
       "  <thead>\n",
       "    <tr style=\"text-align: right;\">\n",
       "      <th></th>\n",
       "      <th>Developer</th>\n",
       "      <th>Genre</th>\n",
       "      <th>Publisher</th>\n",
       "      <th>Release_Date</th>\n",
       "      <th>Title</th>\n",
       "      <th>app_id</th>\n",
       "      <th>app_name</th>\n",
       "      <th>discount_price</th>\n",
       "      <th>early_access</th>\n",
       "      <th>esrb</th>\n",
       "      <th>...</th>\n",
       "      <th>web</th>\n",
       "      <th>werewolves</th>\n",
       "      <th>western</th>\n",
       "      <th>with</th>\n",
       "      <th>word</th>\n",
       "      <th>workshop</th>\n",
       "      <th>world</th>\n",
       "      <th>wrestling</th>\n",
       "      <th>your</th>\n",
       "      <th>zombies</th>\n",
       "    </tr>\n",
       "  </thead>\n",
       "  <tbody>\n",
       "    <tr>\n",
       "      <th>0</th>\n",
       "      <td>[WTFOMGames]</td>\n",
       "      <td>[Action, Adventure, Casual, Indie]</td>\n",
       "      <td>[WTFOMGames]</td>\n",
       "      <td>Mar 1, 2016</td>\n",
       "      <td>! That Bastard Is Trying To Steal Our Gold !</td>\n",
       "      <td>449940</td>\n",
       "      <td>! That Bastard Is Trying To Steal Our Gold !</td>\n",
       "      <td>3.99</td>\n",
       "      <td>False</td>\n",
       "      <td>nr</td>\n",
       "      <td>...</td>\n",
       "      <td>0</td>\n",
       "      <td>0</td>\n",
       "      <td>0</td>\n",
       "      <td>0</td>\n",
       "      <td>0</td>\n",
       "      <td>0</td>\n",
       "      <td>0</td>\n",
       "      <td>0</td>\n",
       "      <td>0</td>\n",
       "      <td>0</td>\n",
       "    </tr>\n",
       "    <tr>\n",
       "      <th>1</th>\n",
       "      <td>[Paleno Games]</td>\n",
       "      <td>[Casual, Indie]</td>\n",
       "      <td>[Paleno Games]</td>\n",
       "      <td>May 5, 2017</td>\n",
       "      <td>#monstercakes</td>\n",
       "      <td>614910</td>\n",
       "      <td>#monstercakes</td>\n",
       "      <td>0.99</td>\n",
       "      <td>False</td>\n",
       "      <td>nr</td>\n",
       "      <td>...</td>\n",
       "      <td>0</td>\n",
       "      <td>0</td>\n",
       "      <td>0</td>\n",
       "      <td>0</td>\n",
       "      <td>0</td>\n",
       "      <td>0</td>\n",
       "      <td>0</td>\n",
       "      <td>0</td>\n",
       "      <td>0</td>\n",
       "      <td>0</td>\n",
       "    </tr>\n",
       "    <tr>\n",
       "      <th>2</th>\n",
       "      <td>[Eko]</td>\n",
       "      <td>[Adventure, Indie]</td>\n",
       "      <td>[Eko]</td>\n",
       "      <td>Mar 14, 2018</td>\n",
       "      <td>#WarGames</td>\n",
       "      <td>779420</td>\n",
       "      <td>#WarGames</td>\n",
       "      <td>2.99</td>\n",
       "      <td>False</td>\n",
       "      <td>nr</td>\n",
       "      <td>...</td>\n",
       "      <td>0</td>\n",
       "      <td>0</td>\n",
       "      <td>0</td>\n",
       "      <td>0</td>\n",
       "      <td>0</td>\n",
       "      <td>0</td>\n",
       "      <td>0</td>\n",
       "      <td>0</td>\n",
       "      <td>0</td>\n",
       "      <td>0</td>\n",
       "    </tr>\n",
       "    <tr>\n",
       "      <th>3</th>\n",
       "      <td>[BeHappy Studios]</td>\n",
       "      <td>[Action, Casual, Indie]</td>\n",
       "      <td>[Back To Basics Gaming]</td>\n",
       "      <td>Jul 28, 2016</td>\n",
       "      <td>$1 Ride</td>\n",
       "      <td>508290</td>\n",
       "      <td>$1 Ride</td>\n",
       "      <td>0.98</td>\n",
       "      <td>False</td>\n",
       "      <td>nr</td>\n",
       "      <td>...</td>\n",
       "      <td>0</td>\n",
       "      <td>0</td>\n",
       "      <td>0</td>\n",
       "      <td>0</td>\n",
       "      <td>0</td>\n",
       "      <td>0</td>\n",
       "      <td>0</td>\n",
       "      <td>0</td>\n",
       "      <td>0</td>\n",
       "      <td>0</td>\n",
       "    </tr>\n",
       "    <tr>\n",
       "      <th>4</th>\n",
       "      <td>[Arcane Raise]</td>\n",
       "      <td>[Adventure, Casual, Indie, RPG, Strategy]</td>\n",
       "      <td>[ArcaneRaise]</td>\n",
       "      <td>May 2, 2017</td>\n",
       "      <td>- Arcane preRaise -</td>\n",
       "      <td>603780</td>\n",
       "      <td>- Arcane preRaise -</td>\n",
       "      <td>2.99</td>\n",
       "      <td>False</td>\n",
       "      <td>nr</td>\n",
       "      <td>...</td>\n",
       "      <td>0</td>\n",
       "      <td>0</td>\n",
       "      <td>0</td>\n",
       "      <td>0</td>\n",
       "      <td>0</td>\n",
       "      <td>0</td>\n",
       "      <td>0</td>\n",
       "      <td>0</td>\n",
       "      <td>0</td>\n",
       "      <td>0</td>\n",
       "    </tr>\n",
       "  </tbody>\n",
       "</table>\n",
       "<p>5 rows × 407 columns</p>\n",
       "</div>"
      ],
      "text/plain": [
       "           Developer                                      Genre  \\\n",
       "0       [WTFOMGames]         [Action, Adventure, Casual, Indie]   \n",
       "1     [Paleno Games]                            [Casual, Indie]   \n",
       "2              [Eko]                         [Adventure, Indie]   \n",
       "3  [BeHappy Studios]                    [Action, Casual, Indie]   \n",
       "4     [Arcane Raise]  [Adventure, Casual, Indie, RPG, Strategy]   \n",
       "\n",
       "                 Publisher  Release_Date  \\\n",
       "0             [WTFOMGames]   Mar 1, 2016   \n",
       "1           [Paleno Games]   May 5, 2017   \n",
       "2                    [Eko]  Mar 14, 2018   \n",
       "3  [Back To Basics Gaming]  Jul 28, 2016   \n",
       "4            [ArcaneRaise]   May 2, 2017   \n",
       "\n",
       "                                          Title  app_id  \\\n",
       "0  ! That Bastard Is Trying To Steal Our Gold !  449940   \n",
       "1                                 #monstercakes  614910   \n",
       "2                                     #WarGames  779420   \n",
       "3                                       $1 Ride  508290   \n",
       "4                           - Arcane preRaise -  603780   \n",
       "\n",
       "                                       app_name  discount_price  early_access  \\\n",
       "0  ! That Bastard Is Trying To Steal Our Gold !            3.99         False   \n",
       "1                                 #monstercakes            0.99         False   \n",
       "2                                     #WarGames            2.99         False   \n",
       "3                                       $1 Ride            0.98         False   \n",
       "4                           - Arcane preRaise -            2.99         False   \n",
       "\n",
       "  esrb   ...    web  werewolves  western  with  word  workshop world  \\\n",
       "0   nr   ...      0           0        0     0     0         0     0   \n",
       "1   nr   ...      0           0        0     0     0         0     0   \n",
       "2   nr   ...      0           0        0     0     0         0     0   \n",
       "3   nr   ...      0           0        0     0     0         0     0   \n",
       "4   nr   ...      0           0        0     0     0         0     0   \n",
       "\n",
       "  wrestling your  zombies  \n",
       "0         0    0        0  \n",
       "1         0    0        0  \n",
       "2         0    0        0  \n",
       "3         0    0        0  \n",
       "4         0    0        0  \n",
       "\n",
       "[5 rows x 407 columns]"
      ]
     },
     "execution_count": 209,
     "metadata": {},
     "output_type": "execute_result"
    }
   ],
   "source": [
    "steam_combined_expanded.head()"
   ]
  },
  {
   "cell_type": "markdown",
   "metadata": {},
   "source": [
    "Let's turn this into a function now that it's working:"
   ]
  },
  {
   "cell_type": "code",
   "execution_count": 390,
   "metadata": {},
   "outputs": [],
   "source": [
    "def create_new_columns_as_counts_from_lists(old_df, colname):\n",
    "    vect = cv()\n",
    "    vect.fit(old_df[colname].str.join(' '))\n",
    "    X = vect.transform(old_df[colname].str.join(' '))\n",
    "    df_of_new_cols = pd.DataFrame(X.toarray(),columns=vect.get_feature_names())\n",
    "    new_df = old_df.join(df_of_new_cols, rsuffix=colname).copy()\n",
    "    return new_df\n",
    "    \"\"\"Function takes an old dataframe and makes a new dataframe expanding a column with lists into several columns with counts for each element in the set of values in the lists.\n",
    "\n",
    "    Args:\n",
    "        old_df: The original dataframe.\n",
    "        colname: The name of the column containing the lists.\n",
    "\n",
    "    Returns:\n",
    "        New dataframe with additional columns with counts for the elements in the lists in the original column\n",
    "\n",
    "    \"\"\""
   ]
  },
  {
   "cell_type": "code",
   "execution_count": 378,
   "metadata": {},
   "outputs": [],
   "source": [
    "steam_combined_expanded = create_new_columns_as_counts_from_lists(steam_combined,'tags')"
   ]
  },
  {
   "cell_type": "code",
   "execution_count": 361,
   "metadata": {},
   "outputs": [
    {
     "data": {
      "text/html": [
       "<div>\n",
       "<style scoped>\n",
       "    .dataframe tbody tr th:only-of-type {\n",
       "        vertical-align: middle;\n",
       "    }\n",
       "\n",
       "    .dataframe tbody tr th {\n",
       "        vertical-align: top;\n",
       "    }\n",
       "\n",
       "    .dataframe thead th {\n",
       "        text-align: right;\n",
       "    }\n",
       "</style>\n",
       "<table border=\"1\" class=\"dataframe\">\n",
       "  <thead>\n",
       "    <tr style=\"text-align: right;\">\n",
       "      <th></th>\n",
       "      <th>level_0</th>\n",
       "      <th>index</th>\n",
       "      <th>Developer</th>\n",
       "      <th>Genre</th>\n",
       "      <th>Publisher</th>\n",
       "      <th>Release_Date</th>\n",
       "      <th>Title</th>\n",
       "      <th>app_id</th>\n",
       "      <th>app_name</th>\n",
       "      <th>discount_price</th>\n",
       "      <th>...</th>\n",
       "      <th>web</th>\n",
       "      <th>werewolves</th>\n",
       "      <th>western</th>\n",
       "      <th>with</th>\n",
       "      <th>word</th>\n",
       "      <th>workshop</th>\n",
       "      <th>world</th>\n",
       "      <th>wrestling</th>\n",
       "      <th>your</th>\n",
       "      <th>zombies</th>\n",
       "    </tr>\n",
       "  </thead>\n",
       "  <tbody>\n",
       "    <tr>\n",
       "      <th>0</th>\n",
       "      <td>0</td>\n",
       "      <td>0</td>\n",
       "      <td>[WTFOMGames]</td>\n",
       "      <td>[Action, Adventure, Casual, Indie]</td>\n",
       "      <td>[WTFOMGames]</td>\n",
       "      <td>Mar 1, 2016</td>\n",
       "      <td>! That Bastard Is Trying To Steal Our Gold !</td>\n",
       "      <td>449940</td>\n",
       "      <td>! That Bastard Is Trying To Steal Our Gold !</td>\n",
       "      <td>3.99</td>\n",
       "      <td>...</td>\n",
       "      <td>0</td>\n",
       "      <td>0</td>\n",
       "      <td>0</td>\n",
       "      <td>0</td>\n",
       "      <td>0</td>\n",
       "      <td>0</td>\n",
       "      <td>0</td>\n",
       "      <td>0</td>\n",
       "      <td>0</td>\n",
       "      <td>0</td>\n",
       "    </tr>\n",
       "    <tr>\n",
       "      <th>1</th>\n",
       "      <td>1</td>\n",
       "      <td>1</td>\n",
       "      <td>[Paleno Games]</td>\n",
       "      <td>[Casual, Indie]</td>\n",
       "      <td>[Paleno Games]</td>\n",
       "      <td>May 5, 2017</td>\n",
       "      <td>#monstercakes</td>\n",
       "      <td>614910</td>\n",
       "      <td>#monstercakes</td>\n",
       "      <td>0.99</td>\n",
       "      <td>...</td>\n",
       "      <td>0</td>\n",
       "      <td>0</td>\n",
       "      <td>0</td>\n",
       "      <td>0</td>\n",
       "      <td>0</td>\n",
       "      <td>0</td>\n",
       "      <td>0</td>\n",
       "      <td>0</td>\n",
       "      <td>0</td>\n",
       "      <td>0</td>\n",
       "    </tr>\n",
       "    <tr>\n",
       "      <th>2</th>\n",
       "      <td>2</td>\n",
       "      <td>2</td>\n",
       "      <td>[Eko]</td>\n",
       "      <td>[Adventure, Indie]</td>\n",
       "      <td>[Eko]</td>\n",
       "      <td>Mar 14, 2018</td>\n",
       "      <td>#WarGames</td>\n",
       "      <td>779420</td>\n",
       "      <td>#WarGames</td>\n",
       "      <td>2.99</td>\n",
       "      <td>...</td>\n",
       "      <td>0</td>\n",
       "      <td>0</td>\n",
       "      <td>0</td>\n",
       "      <td>0</td>\n",
       "      <td>0</td>\n",
       "      <td>0</td>\n",
       "      <td>0</td>\n",
       "      <td>0</td>\n",
       "      <td>0</td>\n",
       "      <td>0</td>\n",
       "    </tr>\n",
       "    <tr>\n",
       "      <th>3</th>\n",
       "      <td>3</td>\n",
       "      <td>3</td>\n",
       "      <td>[BeHappy Studios]</td>\n",
       "      <td>[Action, Casual, Indie]</td>\n",
       "      <td>[Back To Basics Gaming]</td>\n",
       "      <td>Jul 28, 2016</td>\n",
       "      <td>$1 Ride</td>\n",
       "      <td>508290</td>\n",
       "      <td>$1 Ride</td>\n",
       "      <td>0.98</td>\n",
       "      <td>...</td>\n",
       "      <td>0</td>\n",
       "      <td>0</td>\n",
       "      <td>0</td>\n",
       "      <td>0</td>\n",
       "      <td>0</td>\n",
       "      <td>0</td>\n",
       "      <td>0</td>\n",
       "      <td>0</td>\n",
       "      <td>0</td>\n",
       "      <td>0</td>\n",
       "    </tr>\n",
       "    <tr>\n",
       "      <th>4</th>\n",
       "      <td>4</td>\n",
       "      <td>4</td>\n",
       "      <td>[Arcane Raise]</td>\n",
       "      <td>[Adventure, Casual, Indie, RPG, Strategy]</td>\n",
       "      <td>[ArcaneRaise]</td>\n",
       "      <td>May 2, 2017</td>\n",
       "      <td>- Arcane preRaise -</td>\n",
       "      <td>603780</td>\n",
       "      <td>- Arcane preRaise -</td>\n",
       "      <td>2.99</td>\n",
       "      <td>...</td>\n",
       "      <td>0</td>\n",
       "      <td>0</td>\n",
       "      <td>0</td>\n",
       "      <td>0</td>\n",
       "      <td>0</td>\n",
       "      <td>0</td>\n",
       "      <td>0</td>\n",
       "      <td>0</td>\n",
       "      <td>0</td>\n",
       "      <td>0</td>\n",
       "    </tr>\n",
       "  </tbody>\n",
       "</table>\n",
       "<p>5 rows × 409 columns</p>\n",
       "</div>"
      ],
      "text/plain": [
       "   level_0  index          Developer  \\\n",
       "0        0      0       [WTFOMGames]   \n",
       "1        1      1     [Paleno Games]   \n",
       "2        2      2              [Eko]   \n",
       "3        3      3  [BeHappy Studios]   \n",
       "4        4      4     [Arcane Raise]   \n",
       "\n",
       "                                       Genre                Publisher  \\\n",
       "0         [Action, Adventure, Casual, Indie]             [WTFOMGames]   \n",
       "1                            [Casual, Indie]           [Paleno Games]   \n",
       "2                         [Adventure, Indie]                    [Eko]   \n",
       "3                    [Action, Casual, Indie]  [Back To Basics Gaming]   \n",
       "4  [Adventure, Casual, Indie, RPG, Strategy]            [ArcaneRaise]   \n",
       "\n",
       "   Release_Date                                         Title  app_id  \\\n",
       "0   Mar 1, 2016  ! That Bastard Is Trying To Steal Our Gold !  449940   \n",
       "1   May 5, 2017                                 #monstercakes  614910   \n",
       "2  Mar 14, 2018                                     #WarGames  779420   \n",
       "3  Jul 28, 2016                                       $1 Ride  508290   \n",
       "4   May 2, 2017                           - Arcane preRaise -  603780   \n",
       "\n",
       "                                       app_name  discount_price   ...    web  \\\n",
       "0  ! That Bastard Is Trying To Steal Our Gold !            3.99   ...      0   \n",
       "1                                 #monstercakes            0.99   ...      0   \n",
       "2                                     #WarGames            2.99   ...      0   \n",
       "3                                       $1 Ride            0.98   ...      0   \n",
       "4                           - Arcane preRaise -            2.99   ...      0   \n",
       "\n",
       "  werewolves western  with  word  workshop  world  wrestling your zombies  \n",
       "0          0       0     0     0         0      0          0    0       0  \n",
       "1          0       0     0     0         0      0          0    0       0  \n",
       "2          0       0     0     0         0      0          0    0       0  \n",
       "3          0       0     0     0         0      0          0    0       0  \n",
       "4          0       0     0     0         0      0          0    0       0  \n",
       "\n",
       "[5 rows x 409 columns]"
      ]
     },
     "execution_count": 361,
     "metadata": {},
     "output_type": "execute_result"
    }
   ],
   "source": [
    "steam_combined_expanded.reset_index().head()"
   ]
  },
  {
   "cell_type": "code",
   "execution_count": 368,
   "metadata": {},
   "outputs": [
    {
     "data": {
      "text/plain": [
       "set()"
      ]
     },
     "execution_count": 368,
     "metadata": {},
     "output_type": "execute_result"
    }
   ],
   "source": [
    "set(steam_combined.columns)&set(df_of_new_cols.columns)"
   ]
  },
  {
   "cell_type": "code",
   "execution_count": null,
   "metadata": {},
   "outputs": [],
   "source": [
    "for i in steam_combined_expanded.columns:\n",
    "    print(i)"
   ]
  },
  {
   "cell_type": "code",
   "execution_count": 338,
   "metadata": {},
   "outputs": [],
   "source": [
    "def not_list_to_empty_list(row):\n",
    "    if type(row) != list:\n",
    "        row = []\n",
    "    return row"
   ]
  },
  {
   "cell_type": "code",
   "execution_count": 379,
   "metadata": {},
   "outputs": [],
   "source": [
    "steam_combined_expanded['Genre_new'] = steam_combined_expanded.Genre.apply(not_list_to_empty_list)"
   ]
  },
  {
   "cell_type": "markdown",
   "metadata": {},
   "source": [
    "Checking to make sure that this worked well:"
   ]
  },
  {
   "cell_type": "code",
   "execution_count": 380,
   "metadata": {},
   "outputs": [
    {
     "name": "stdout",
     "output_type": "stream",
     "text": [
      "False\n"
     ]
    }
   ],
   "source": [
    "#for elem in steam_combined_expanded.Genre_new:\n",
    "#    print(type(elem))\n",
    "\n",
    "typelist = []\n",
    "for x in steam_combined_expanded['Genre_new']:\n",
    "    typelist.append(type(x))\n",
    "\n",
    "print(int in typelist)"
   ]
  },
  {
   "cell_type": "code",
   "execution_count": 381,
   "metadata": {},
   "outputs": [],
   "source": [
    "steam_combined_expanded = create_new_columns_as_counts_from_lists(steam_combined_expanded,'Genre_new')"
   ]
  },
  {
   "cell_type": "code",
   "execution_count": null,
   "metadata": {},
   "outputs": [],
   "source": []
  },
  {
   "cell_type": "code",
   "execution_count": null,
   "metadata": {},
   "outputs": [],
   "source": []
  },
  {
   "cell_type": "markdown",
   "metadata": {},
   "source": [
    "Let's start fresh with our new functions:"
   ]
  },
  {
   "cell_type": "code",
   "execution_count": 406,
   "metadata": {},
   "outputs": [],
   "source": [
    "def not_list_to_empty_list(row):\n",
    "    if type(row) != list:\n",
    "        row = []\n",
    "    return row"
   ]
  },
  {
   "cell_type": "code",
   "execution_count": 416,
   "metadata": {},
   "outputs": [],
   "source": [
    "def create_new_columns_as_counts_from_lists(old_df, colname):\n",
    "    vect = cv()\n",
    "    vect.fit(old_df[colname].str.join(' '))\n",
    "    X = vect.transform(old_df[colname].str.join(' '))\n",
    "    df_of_new_cols = pd.DataFrame(X.toarray(),columns=vect.get_feature_names())\n",
    "    new_df = old_df.join(df_of_new_cols, rsuffix=colname).copy()\n",
    "    return new_df\n",
    "    \"\"\"Makes a new dataframe expanding a column with lists into several columns with counts for each element\"\"\""
   ]
  },
  {
   "cell_type": "code",
   "execution_count": 408,
   "metadata": {},
   "outputs": [],
   "source": [
    "def expand_list_columns(df, colname):\n",
    "    newcolname = colname+'_new'\n",
    "    df[newcolname] = df[colname].apply(not_list_to_empty_list)\n",
    "    df = create_new_columns_as_counts_from_lists(df,newcolname).copy()\n",
    "    return df"
   ]
  },
  {
   "cell_type": "code",
   "execution_count": 444,
   "metadata": {},
   "outputs": [],
   "source": [
    "steam_combined_expanded = expand_list_columns(steam_combined,'tags').copy()"
   ]
  },
  {
   "cell_type": "code",
   "execution_count": 445,
   "metadata": {},
   "outputs": [],
   "source": [
    "steam_combined_expanded = expand_list_columns(steam_combined_expanded,'Genre').copy()"
   ]
  },
  {
   "cell_type": "code",
   "execution_count": 446,
   "metadata": {},
   "outputs": [],
   "source": [
    "steam_combined_expanded = expand_list_columns(steam_combined_expanded,'Developer').copy()"
   ]
  },
  {
   "cell_type": "code",
   "execution_count": 447,
   "metadata": {},
   "outputs": [],
   "source": [
    "steam_combined_expanded = expand_list_columns(steam_combined_expanded,'Publisher').copy()"
   ]
  },
  {
   "cell_type": "code",
   "execution_count": 448,
   "metadata": {},
   "outputs": [],
   "source": [
    "steam_combined_expanded = expand_list_columns(steam_combined_expanded,'specs').copy()"
   ]
  },
  {
   "cell_type": "code",
   "execution_count": 449,
   "metadata": {},
   "outputs": [],
   "source": [
    "steam_combined_expanded = expand_list_columns(steam_combined_expanded,'mature_reasons').copy()"
   ]
  },
  {
   "cell_type": "code",
   "execution_count": 450,
   "metadata": {},
   "outputs": [],
   "source": [
    "#steam_combined_expanded = create_new_columns_as_counts_from_lists(steam_combined_expanded,'esrb').copy()\n",
    "y,X = patsy.dmatrices('All_Time_Peak_concurrent_users ~ esrb + early_access', data=steam_combined_expanded, return_type=\"dataframe\")\n",
    "#X.head()\n",
    "for colname in X.columns:\n",
    "    steam_combined_expanded[colname] = X[colname]"
   ]
  },
  {
   "cell_type": "code",
   "execution_count": 451,
   "metadata": {},
   "outputs": [
    {
     "name": "stdout",
     "output_type": "stream",
     "text": [
      "<class 'pandas.core.frame.DataFrame'>\n",
      "Int64Index: 6478 entries, 0 to 6477\n",
      "Columns: 9501 entries, Developer to early_access[T.True]\n",
      "dtypes: bool(1), float64(10), int64(9469), object(21)\n",
      "memory usage: 469.9+ MB\n"
     ]
    }
   ],
   "source": [
    "steam_combined_expanded.info()"
   ]
  },
  {
   "cell_type": "code",
   "execution_count": 475,
   "metadata": {},
   "outputs": [],
   "source": [
    "y = steam_combined_expanded['All_Time_Peak_concurrent_users']\n",
    "X = steam_combined_expanded.drop(['specs','specs_new','early_access','Title' , 'tags' , 'tags_new' , 'Genre' , 'Genre_new' , 'Developer' , 'Developer_new' , 'Publisher' , 'Publisher_new' , 'mature_reasons' , 'mature_reasons_new' , 'esrb' , 'app_id' , 'app_name' , 'url' , 'reviews_url' , 'AppID' , 'Name' , 'Current' , '24h Peak', 'All_Time_Peak_concurrent_users'], axis=1)\n",
    "#X['intercept']=1 #This is now taken care off by the patsy step with esrb\n",
    "#X.intercept.dtype"
   ]
  },
  {
   "cell_type": "code",
   "execution_count": 443,
   "metadata": {},
   "outputs": [
    {
     "data": {
      "text/html": [
       "<div>\n",
       "<style scoped>\n",
       "    .dataframe tbody tr th:only-of-type {\n",
       "        vertical-align: middle;\n",
       "    }\n",
       "\n",
       "    .dataframe tbody tr th {\n",
       "        vertical-align: top;\n",
       "    }\n",
       "\n",
       "    .dataframe thead th {\n",
       "        text-align: right;\n",
       "    }\n",
       "</style>\n",
       "<table border=\"1\" class=\"dataframe\">\n",
       "  <thead>\n",
       "    <tr style=\"text-align: right;\">\n",
       "      <th></th>\n",
       "      <th>Release_Date</th>\n",
       "      <th>discount_price</th>\n",
       "      <th>early_access</th>\n",
       "      <th>metascore</th>\n",
       "      <th>overall_rev_pos_perc</th>\n",
       "      <th>overall_reviews_n</th>\n",
       "      <th>price</th>\n",
       "      <th>recent_rev_pos_perc</th>\n",
       "      <th>recent_reviews_n</th>\n",
       "      <th>specs</th>\n",
       "      <th>...</th>\n",
       "      <th>violenceblood</th>\n",
       "      <th>violentmature_reasons_new</th>\n",
       "      <th>visit</th>\n",
       "      <th>withmature_reasons_new</th>\n",
       "      <th>Intercept</th>\n",
       "      <th>esrb[T.e]</th>\n",
       "      <th>esrb[T.m]</th>\n",
       "      <th>esrb[T.nr]</th>\n",
       "      <th>esrb[T.r]</th>\n",
       "      <th>esrb[T.t]</th>\n",
       "    </tr>\n",
       "  </thead>\n",
       "  <tbody>\n",
       "    <tr>\n",
       "      <th>0</th>\n",
       "      <td>Mar 1, 2016</td>\n",
       "      <td>3.99</td>\n",
       "      <td>False</td>\n",
       "      <td>0.0</td>\n",
       "      <td>46</td>\n",
       "      <td>15</td>\n",
       "      <td>3.99</td>\n",
       "      <td>0</td>\n",
       "      <td>0</td>\n",
       "      <td>[Single-player, Steam Trading Cards, Partial C...</td>\n",
       "      <td>...</td>\n",
       "      <td>0</td>\n",
       "      <td>0</td>\n",
       "      <td>0</td>\n",
       "      <td>0</td>\n",
       "      <td>1.0</td>\n",
       "      <td>0.0</td>\n",
       "      <td>0.0</td>\n",
       "      <td>1.0</td>\n",
       "      <td>0.0</td>\n",
       "      <td>0.0</td>\n",
       "    </tr>\n",
       "    <tr>\n",
       "      <th>1</th>\n",
       "      <td>May 5, 2017</td>\n",
       "      <td>0.99</td>\n",
       "      <td>False</td>\n",
       "      <td>0.0</td>\n",
       "      <td>90</td>\n",
       "      <td>272</td>\n",
       "      <td>0.99</td>\n",
       "      <td>80</td>\n",
       "      <td>10</td>\n",
       "      <td>[Single-player, Steam Achievements, Steam Trad...</td>\n",
       "      <td>...</td>\n",
       "      <td>0</td>\n",
       "      <td>0</td>\n",
       "      <td>0</td>\n",
       "      <td>0</td>\n",
       "      <td>1.0</td>\n",
       "      <td>0.0</td>\n",
       "      <td>0.0</td>\n",
       "      <td>1.0</td>\n",
       "      <td>0.0</td>\n",
       "      <td>0.0</td>\n",
       "    </tr>\n",
       "    <tr>\n",
       "      <th>2</th>\n",
       "      <td>Mar 14, 2018</td>\n",
       "      <td>2.99</td>\n",
       "      <td>False</td>\n",
       "      <td>0.0</td>\n",
       "      <td>66</td>\n",
       "      <td>54</td>\n",
       "      <td>2.99</td>\n",
       "      <td>0</td>\n",
       "      <td>0</td>\n",
       "      <td>[Single-player, Steam Achievements, Full contr...</td>\n",
       "      <td>...</td>\n",
       "      <td>0</td>\n",
       "      <td>0</td>\n",
       "      <td>0</td>\n",
       "      <td>0</td>\n",
       "      <td>1.0</td>\n",
       "      <td>0.0</td>\n",
       "      <td>0.0</td>\n",
       "      <td>1.0</td>\n",
       "      <td>0.0</td>\n",
       "      <td>0.0</td>\n",
       "    </tr>\n",
       "    <tr>\n",
       "      <th>3</th>\n",
       "      <td>Jul 28, 2016</td>\n",
       "      <td>0.98</td>\n",
       "      <td>False</td>\n",
       "      <td>0.0</td>\n",
       "      <td>58</td>\n",
       "      <td>80</td>\n",
       "      <td>0.98</td>\n",
       "      <td>0</td>\n",
       "      <td>0</td>\n",
       "      <td>[Single-player, Steam Trading Cards]</td>\n",
       "      <td>...</td>\n",
       "      <td>0</td>\n",
       "      <td>0</td>\n",
       "      <td>0</td>\n",
       "      <td>0</td>\n",
       "      <td>1.0</td>\n",
       "      <td>0.0</td>\n",
       "      <td>0.0</td>\n",
       "      <td>1.0</td>\n",
       "      <td>0.0</td>\n",
       "      <td>0.0</td>\n",
       "    </tr>\n",
       "    <tr>\n",
       "      <th>4</th>\n",
       "      <td>May 2, 2017</td>\n",
       "      <td>2.99</td>\n",
       "      <td>False</td>\n",
       "      <td>0.0</td>\n",
       "      <td>28</td>\n",
       "      <td>25</td>\n",
       "      <td>2.99</td>\n",
       "      <td>0</td>\n",
       "      <td>0</td>\n",
       "      <td>[Single-player, Steam Achievements, Steam Trad...</td>\n",
       "      <td>...</td>\n",
       "      <td>0</td>\n",
       "      <td>0</td>\n",
       "      <td>0</td>\n",
       "      <td>0</td>\n",
       "      <td>1.0</td>\n",
       "      <td>0.0</td>\n",
       "      <td>0.0</td>\n",
       "      <td>1.0</td>\n",
       "      <td>0.0</td>\n",
       "      <td>0.0</td>\n",
       "    </tr>\n",
       "  </tbody>\n",
       "</table>\n",
       "<p>5 rows × 9412 columns</p>\n",
       "</div>"
      ],
      "text/plain": [
       "   Release_Date  discount_price  early_access  metascore  \\\n",
       "0   Mar 1, 2016            3.99         False        0.0   \n",
       "1   May 5, 2017            0.99         False        0.0   \n",
       "2  Mar 14, 2018            2.99         False        0.0   \n",
       "3  Jul 28, 2016            0.98         False        0.0   \n",
       "4   May 2, 2017            2.99         False        0.0   \n",
       "\n",
       "   overall_rev_pos_perc  overall_reviews_n  price  recent_rev_pos_perc  \\\n",
       "0                    46                 15   3.99                    0   \n",
       "1                    90                272   0.99                   80   \n",
       "2                    66                 54   2.99                    0   \n",
       "3                    58                 80   0.98                    0   \n",
       "4                    28                 25   2.99                    0   \n",
       "\n",
       "  recent_reviews_n                                              specs  \\\n",
       "0                0  [Single-player, Steam Trading Cards, Partial C...   \n",
       "1               10  [Single-player, Steam Achievements, Steam Trad...   \n",
       "2                0  [Single-player, Steam Achievements, Full contr...   \n",
       "3                0               [Single-player, Steam Trading Cards]   \n",
       "4                0  [Single-player, Steam Achievements, Steam Trad...   \n",
       "\n",
       "     ...      violenceblood  violentmature_reasons_new  visit  \\\n",
       "0    ...                  0                          0      0   \n",
       "1    ...                  0                          0      0   \n",
       "2    ...                  0                          0      0   \n",
       "3    ...                  0                          0      0   \n",
       "4    ...                  0                          0      0   \n",
       "\n",
       "   withmature_reasons_new  Intercept  esrb[T.e]  esrb[T.m]  esrb[T.nr]  \\\n",
       "0                       0        1.0        0.0        0.0         1.0   \n",
       "1                       0        1.0        0.0        0.0         1.0   \n",
       "2                       0        1.0        0.0        0.0         1.0   \n",
       "3                       0        1.0        0.0        0.0         1.0   \n",
       "4                       0        1.0        0.0        0.0         1.0   \n",
       "\n",
       "   esrb[T.r]  esrb[T.t]  \n",
       "0        0.0        0.0  \n",
       "1        0.0        0.0  \n",
       "2        0.0        0.0  \n",
       "3        0.0        0.0  \n",
       "4        0.0        0.0  \n",
       "\n",
       "[5 rows x 9412 columns]"
      ]
     },
     "execution_count": 443,
     "metadata": {},
     "output_type": "execute_result"
    }
   ],
   "source": [
    "X.head()"
   ]
  },
  {
   "cell_type": "markdown",
   "metadata": {},
   "source": [
    "Figuring out which columns still had offending non-numerical values:"
   ]
  },
  {
   "cell_type": "code",
   "execution_count": 454,
   "metadata": {},
   "outputs": [
    {
     "name": "stdout",
     "output_type": "stream",
     "text": [
      "<class 'pandas.core.frame.DataFrame'>\n",
      "Int64Index: 6478 entries, 0 to 6477\n",
      "Columns: 9477 entries, Release_Date to early_access[T.True]\n",
      "dtypes: float64(10), int64(9465), object(2)\n",
      "memory usage: 468.7+ MB\n"
     ]
    }
   ],
   "source": [
    "X.info()"
   ]
  },
  {
   "cell_type": "code",
   "execution_count": null,
   "metadata": {},
   "outputs": [],
   "source": [
    "X.select_dtypes(include='object')\n",
    "# Release_Date and recent_reviews_n"
   ]
  },
  {
   "cell_type": "markdown",
   "metadata": {},
   "source": [
    "Making appropriate dataframes for modeling by dropping inapppriate columns (X variables):"
   ]
  },
  {
   "cell_type": "code",
   "execution_count": 475,
   "metadata": {},
   "outputs": [],
   "source": [
    "y = steam_combined_expanded['All_Time_Peak_concurrent_users']\n",
    "X = steam_combined_expanded.drop(['Release_Date','specs','specs_new','early_access','Title' , 'tags' , 'tags_new' , 'Genre' , 'Genre_new' , 'Developer' , 'Developer_new' , 'Publisher' , 'Publisher_new' , 'mature_reasons' , 'mature_reasons_new' , 'esrb' , 'app_id' , 'app_name' , 'url' , 'reviews_url' , 'AppID' , 'Name' , 'Current' , '24h Peak', 'All_Time_Peak_concurrent_users'], axis=1)\n",
    "#X['intercept']=1 #This is now taken care off by the patsy step with esrb\n",
    "#X.intercept.dtype"
   ]
  },
  {
   "cell_type": "markdown",
   "metadata": {},
   "source": [
    "Fixing columns with offending non-numerical values:"
   ]
  },
  {
   "cell_type": "code",
   "execution_count": 471,
   "metadata": {},
   "outputs": [],
   "source": [
    "# Temporarily excluding release date\n",
    "#X.Release_Date = pd.to_datetime(X.Release_Date, errors='coerce')"
   ]
  },
  {
   "cell_type": "code",
   "execution_count": 477,
   "metadata": {},
   "outputs": [],
   "source": [
    "X.recent_reviews_n = X.recent_reviews_n.str.replace(',','').astype(float)"
   ]
  },
  {
   "cell_type": "code",
   "execution_count": 484,
   "metadata": {},
   "outputs": [
    {
     "ename": "ValueError",
     "evalue": "On entry to DLASCL parameter number 4 had an illegal value",
     "output_type": "error",
     "traceback": [
      "\u001b[0;31m---------------------------------------------------------------------------\u001b[0m",
      "\u001b[0;31mValueError\u001b[0m                                Traceback (most recent call last)",
      "\u001b[0;32m<ipython-input-484-2ea8cdfe6037>\u001b[0m in \u001b[0;36m<module>\u001b[0;34m()\u001b[0m\n\u001b[1;32m      3\u001b[0m \u001b[0mmodel\u001b[0m \u001b[0;34m=\u001b[0m \u001b[0msm\u001b[0m\u001b[0;34m.\u001b[0m\u001b[0mOLS\u001b[0m\u001b[0;34m(\u001b[0m\u001b[0my\u001b[0m\u001b[0;34m,\u001b[0m\u001b[0mX\u001b[0m\u001b[0;34m.\u001b[0m\u001b[0mastype\u001b[0m\u001b[0;34m(\u001b[0m\u001b[0mfloat\u001b[0m\u001b[0;34m)\u001b[0m\u001b[0;34m)\u001b[0m\u001b[0;34m\u001b[0m\u001b[0m\n\u001b[1;32m      4\u001b[0m \u001b[0;31m# Fit your model to your training set\u001b[0m\u001b[0;34m\u001b[0m\u001b[0;34m\u001b[0m\u001b[0m\n\u001b[0;32m----> 5\u001b[0;31m \u001b[0mfit\u001b[0m \u001b[0;34m=\u001b[0m \u001b[0mmodel\u001b[0m\u001b[0;34m.\u001b[0m\u001b[0mfit\u001b[0m\u001b[0;34m(\u001b[0m\u001b[0;34m)\u001b[0m\u001b[0;34m\u001b[0m\u001b[0m\n\u001b[0m\u001b[1;32m      6\u001b[0m \u001b[0;31m# Print summary statistics of the model's performance\u001b[0m\u001b[0;34m\u001b[0m\u001b[0;34m\u001b[0m\u001b[0m\n\u001b[1;32m      7\u001b[0m \u001b[0mfit\u001b[0m\u001b[0;34m.\u001b[0m\u001b[0msummary\u001b[0m\u001b[0;34m(\u001b[0m\u001b[0;34m)\u001b[0m\u001b[0;34m\u001b[0m\u001b[0m\n",
      "\u001b[0;32m~/anaconda/lib/python3.6/site-packages/statsmodels/regression/linear_model.py\u001b[0m in \u001b[0;36mfit\u001b[0;34m(self, method, cov_type, cov_kwds, use_t, **kwargs)\u001b[0m\n\u001b[1;32m    188\u001b[0m                 (not hasattr(self, 'rank'))):\n\u001b[1;32m    189\u001b[0m \u001b[0;34m\u001b[0m\u001b[0m\n\u001b[0;32m--> 190\u001b[0;31m                 \u001b[0mself\u001b[0m\u001b[0;34m.\u001b[0m\u001b[0mpinv_wexog\u001b[0m\u001b[0;34m,\u001b[0m \u001b[0msingular_values\u001b[0m \u001b[0;34m=\u001b[0m \u001b[0mpinv_extended\u001b[0m\u001b[0;34m(\u001b[0m\u001b[0mself\u001b[0m\u001b[0;34m.\u001b[0m\u001b[0mwexog\u001b[0m\u001b[0;34m)\u001b[0m\u001b[0;34m\u001b[0m\u001b[0m\n\u001b[0m\u001b[1;32m    191\u001b[0m                 self.normalized_cov_params = np.dot(self.pinv_wexog,\n\u001b[1;32m    192\u001b[0m                                         np.transpose(self.pinv_wexog))\n",
      "\u001b[0;32m~/anaconda/lib/python3.6/site-packages/statsmodels/tools/tools.py\u001b[0m in \u001b[0;36mpinv_extended\u001b[0;34m(X, rcond)\u001b[0m\n\u001b[1;32m    340\u001b[0m     \u001b[0mX\u001b[0m \u001b[0;34m=\u001b[0m \u001b[0mnp\u001b[0m\u001b[0;34m.\u001b[0m\u001b[0masarray\u001b[0m\u001b[0;34m(\u001b[0m\u001b[0mX\u001b[0m\u001b[0;34m)\u001b[0m\u001b[0;34m\u001b[0m\u001b[0m\n\u001b[1;32m    341\u001b[0m     \u001b[0mX\u001b[0m \u001b[0;34m=\u001b[0m \u001b[0mX\u001b[0m\u001b[0;34m.\u001b[0m\u001b[0mconjugate\u001b[0m\u001b[0;34m(\u001b[0m\u001b[0;34m)\u001b[0m\u001b[0;34m\u001b[0m\u001b[0m\n\u001b[0;32m--> 342\u001b[0;31m     \u001b[0mu\u001b[0m\u001b[0;34m,\u001b[0m \u001b[0ms\u001b[0m\u001b[0;34m,\u001b[0m \u001b[0mvt\u001b[0m \u001b[0;34m=\u001b[0m \u001b[0mnp\u001b[0m\u001b[0;34m.\u001b[0m\u001b[0mlinalg\u001b[0m\u001b[0;34m.\u001b[0m\u001b[0msvd\u001b[0m\u001b[0;34m(\u001b[0m\u001b[0mX\u001b[0m\u001b[0;34m,\u001b[0m \u001b[0;36m0\u001b[0m\u001b[0;34m)\u001b[0m\u001b[0;34m\u001b[0m\u001b[0m\n\u001b[0m\u001b[1;32m    343\u001b[0m     \u001b[0ms_orig\u001b[0m \u001b[0;34m=\u001b[0m \u001b[0mnp\u001b[0m\u001b[0;34m.\u001b[0m\u001b[0mcopy\u001b[0m\u001b[0;34m(\u001b[0m\u001b[0ms\u001b[0m\u001b[0;34m)\u001b[0m\u001b[0;34m\u001b[0m\u001b[0m\n\u001b[1;32m    344\u001b[0m     \u001b[0mm\u001b[0m \u001b[0;34m=\u001b[0m \u001b[0mu\u001b[0m\u001b[0;34m.\u001b[0m\u001b[0mshape\u001b[0m\u001b[0;34m[\u001b[0m\u001b[0;36m0\u001b[0m\u001b[0;34m]\u001b[0m\u001b[0;34m\u001b[0m\u001b[0m\n",
      "\u001b[0;32m~/anaconda/lib/python3.6/site-packages/numpy/linalg/linalg.py\u001b[0m in \u001b[0;36msvd\u001b[0;34m(a, full_matrices, compute_uv)\u001b[0m\n\u001b[1;32m   1442\u001b[0m \u001b[0;34m\u001b[0m\u001b[0m\n\u001b[1;32m   1443\u001b[0m         \u001b[0msignature\u001b[0m \u001b[0;34m=\u001b[0m \u001b[0;34m'D->DdD'\u001b[0m \u001b[0;32mif\u001b[0m \u001b[0misComplexType\u001b[0m\u001b[0;34m(\u001b[0m\u001b[0mt\u001b[0m\u001b[0;34m)\u001b[0m \u001b[0;32melse\u001b[0m \u001b[0;34m'd->ddd'\u001b[0m\u001b[0;34m\u001b[0m\u001b[0m\n\u001b[0;32m-> 1444\u001b[0;31m         \u001b[0mu\u001b[0m\u001b[0;34m,\u001b[0m \u001b[0ms\u001b[0m\u001b[0;34m,\u001b[0m \u001b[0mvh\u001b[0m \u001b[0;34m=\u001b[0m \u001b[0mgufunc\u001b[0m\u001b[0;34m(\u001b[0m\u001b[0ma\u001b[0m\u001b[0;34m,\u001b[0m \u001b[0msignature\u001b[0m\u001b[0;34m=\u001b[0m\u001b[0msignature\u001b[0m\u001b[0;34m,\u001b[0m \u001b[0mextobj\u001b[0m\u001b[0;34m=\u001b[0m\u001b[0mextobj\u001b[0m\u001b[0;34m)\u001b[0m\u001b[0;34m\u001b[0m\u001b[0m\n\u001b[0m\u001b[1;32m   1445\u001b[0m         \u001b[0mu\u001b[0m \u001b[0;34m=\u001b[0m \u001b[0mu\u001b[0m\u001b[0;34m.\u001b[0m\u001b[0mastype\u001b[0m\u001b[0;34m(\u001b[0m\u001b[0mresult_t\u001b[0m\u001b[0;34m,\u001b[0m \u001b[0mcopy\u001b[0m\u001b[0;34m=\u001b[0m\u001b[0;32mFalse\u001b[0m\u001b[0;34m)\u001b[0m\u001b[0;34m\u001b[0m\u001b[0m\n\u001b[1;32m   1446\u001b[0m         \u001b[0ms\u001b[0m \u001b[0;34m=\u001b[0m \u001b[0ms\u001b[0m\u001b[0;34m.\u001b[0m\u001b[0mastype\u001b[0m\u001b[0;34m(\u001b[0m\u001b[0m_realType\u001b[0m\u001b[0;34m(\u001b[0m\u001b[0mresult_t\u001b[0m\u001b[0;34m)\u001b[0m\u001b[0;34m,\u001b[0m \u001b[0mcopy\u001b[0m\u001b[0;34m=\u001b[0m\u001b[0;32mFalse\u001b[0m\u001b[0;34m)\u001b[0m\u001b[0;34m\u001b[0m\u001b[0m\n",
      "\u001b[0;31mValueError\u001b[0m: On entry to DLASCL parameter number 4 had an illegal value"
     ]
    }
   ],
   "source": [
    "# Create your model\n",
    "#model = sm.OLS(y,X)\n",
    "model = sm.OLS(y,X.astype(float))\n",
    "# Fit your model to your training set\n",
    "fit = model.fit()\n",
    "# Print summary statistics of the model's performance\n",
    "fit.summary()"
   ]
  },
  {
   "cell_type": "code",
   "execution_count": 481,
   "metadata": {},
   "outputs": [],
   "source": [
    "from sklearn import model_selection, pipeline, preprocessing, linear_model\n",
    "from sklearn.metrics import mean_squared_error\n",
    "from sklearn.linear_model import Lasso\n",
    "import numpy as np"
   ]
  },
  {
   "cell_type": "code",
   "execution_count": 486,
   "metadata": {},
   "outputs": [
    {
     "ename": "ValueError",
     "evalue": "Input contains NaN, infinity or a value too large for dtype('float64').",
     "output_type": "error",
     "traceback": [
      "\u001b[0;31m---------------------------------------------------------------------------\u001b[0m",
      "\u001b[0;31mValueError\u001b[0m                                Traceback (most recent call last)",
      "\u001b[0;32m<ipython-input-486-ff7e0b284579>\u001b[0m in \u001b[0;36m<module>\u001b[0;34m()\u001b[0m\n\u001b[1;32m      3\u001b[0m     \u001b[0;34m(\u001b[0m\u001b[0;34m\"elastic\"\u001b[0m\u001b[0;34m,\u001b[0m \u001b[0mlinear_model\u001b[0m\u001b[0;34m.\u001b[0m\u001b[0mElasticNet\u001b[0m\u001b[0;34m(\u001b[0m\u001b[0malpha\u001b[0m\u001b[0;34m=\u001b[0m\u001b[0;36m1.0\u001b[0m\u001b[0;34m,\u001b[0m \u001b[0ml1_ratio\u001b[0m\u001b[0;34m=\u001b[0m\u001b[0;36m0.5\u001b[0m\u001b[0;34m)\u001b[0m\u001b[0;34m)\u001b[0m\u001b[0;34m\u001b[0m\u001b[0m\n\u001b[1;32m      4\u001b[0m ])\n\u001b[0;32m----> 5\u001b[0;31m \u001b[0melastic_pipe\u001b[0m\u001b[0;34m.\u001b[0m\u001b[0mfit\u001b[0m\u001b[0;34m(\u001b[0m\u001b[0mX\u001b[0m\u001b[0;34m.\u001b[0m\u001b[0mastype\u001b[0m\u001b[0;34m(\u001b[0m\u001b[0mfloat\u001b[0m\u001b[0;34m)\u001b[0m\u001b[0;34m,\u001b[0m \u001b[0my\u001b[0m\u001b[0;34m)\u001b[0m\u001b[0;34m\u001b[0m\u001b[0m\n\u001b[0m\u001b[1;32m      6\u001b[0m \u001b[0;31m#linear_model.ElasticNet(alpha=1.0, l1_ratio=0.5).fit(X.astype(float), y)\u001b[0m\u001b[0;34m\u001b[0m\u001b[0;34m\u001b[0m\u001b[0m\n",
      "\u001b[0;32m~/anaconda/lib/python3.6/site-packages/sklearn/pipeline.py\u001b[0m in \u001b[0;36mfit\u001b[0;34m(self, X, y, **fit_params)\u001b[0m\n\u001b[1;32m    246\u001b[0m             \u001b[0mThis\u001b[0m \u001b[0mestimator\u001b[0m\u001b[0;34m\u001b[0m\u001b[0m\n\u001b[1;32m    247\u001b[0m         \"\"\"\n\u001b[0;32m--> 248\u001b[0;31m         \u001b[0mXt\u001b[0m\u001b[0;34m,\u001b[0m \u001b[0mfit_params\u001b[0m \u001b[0;34m=\u001b[0m \u001b[0mself\u001b[0m\u001b[0;34m.\u001b[0m\u001b[0m_fit\u001b[0m\u001b[0;34m(\u001b[0m\u001b[0mX\u001b[0m\u001b[0;34m,\u001b[0m \u001b[0my\u001b[0m\u001b[0;34m,\u001b[0m \u001b[0;34m**\u001b[0m\u001b[0mfit_params\u001b[0m\u001b[0;34m)\u001b[0m\u001b[0;34m\u001b[0m\u001b[0m\n\u001b[0m\u001b[1;32m    249\u001b[0m         \u001b[0;32mif\u001b[0m \u001b[0mself\u001b[0m\u001b[0;34m.\u001b[0m\u001b[0m_final_estimator\u001b[0m \u001b[0;32mis\u001b[0m \u001b[0;32mnot\u001b[0m \u001b[0;32mNone\u001b[0m\u001b[0;34m:\u001b[0m\u001b[0;34m\u001b[0m\u001b[0m\n\u001b[1;32m    250\u001b[0m             \u001b[0mself\u001b[0m\u001b[0;34m.\u001b[0m\u001b[0m_final_estimator\u001b[0m\u001b[0;34m.\u001b[0m\u001b[0mfit\u001b[0m\u001b[0;34m(\u001b[0m\u001b[0mXt\u001b[0m\u001b[0;34m,\u001b[0m \u001b[0my\u001b[0m\u001b[0;34m,\u001b[0m \u001b[0;34m**\u001b[0m\u001b[0mfit_params\u001b[0m\u001b[0;34m)\u001b[0m\u001b[0;34m\u001b[0m\u001b[0m\n",
      "\u001b[0;32m~/anaconda/lib/python3.6/site-packages/sklearn/pipeline.py\u001b[0m in \u001b[0;36m_fit\u001b[0;34m(self, X, y, **fit_params)\u001b[0m\n\u001b[1;32m    211\u001b[0m                 Xt, fitted_transformer = fit_transform_one_cached(\n\u001b[1;32m    212\u001b[0m                     \u001b[0mcloned_transformer\u001b[0m\u001b[0;34m,\u001b[0m \u001b[0;32mNone\u001b[0m\u001b[0;34m,\u001b[0m \u001b[0mXt\u001b[0m\u001b[0;34m,\u001b[0m \u001b[0my\u001b[0m\u001b[0;34m,\u001b[0m\u001b[0;34m\u001b[0m\u001b[0m\n\u001b[0;32m--> 213\u001b[0;31m                     **fit_params_steps[name])\n\u001b[0m\u001b[1;32m    214\u001b[0m                 \u001b[0;31m# Replace the transformer of the step with the fitted\u001b[0m\u001b[0;34m\u001b[0m\u001b[0;34m\u001b[0m\u001b[0m\n\u001b[1;32m    215\u001b[0m                 \u001b[0;31m# transformer. This is necessary when loading the transformer\u001b[0m\u001b[0;34m\u001b[0m\u001b[0;34m\u001b[0m\u001b[0m\n",
      "\u001b[0;32m~/anaconda/lib/python3.6/site-packages/sklearn/externals/joblib/memory.py\u001b[0m in \u001b[0;36m__call__\u001b[0;34m(self, *args, **kwargs)\u001b[0m\n\u001b[1;32m    360\u001b[0m \u001b[0;34m\u001b[0m\u001b[0m\n\u001b[1;32m    361\u001b[0m     \u001b[0;32mdef\u001b[0m \u001b[0m__call__\u001b[0m\u001b[0;34m(\u001b[0m\u001b[0mself\u001b[0m\u001b[0;34m,\u001b[0m \u001b[0;34m*\u001b[0m\u001b[0margs\u001b[0m\u001b[0;34m,\u001b[0m \u001b[0;34m**\u001b[0m\u001b[0mkwargs\u001b[0m\u001b[0;34m)\u001b[0m\u001b[0;34m:\u001b[0m\u001b[0;34m\u001b[0m\u001b[0m\n\u001b[0;32m--> 362\u001b[0;31m         \u001b[0;32mreturn\u001b[0m \u001b[0mself\u001b[0m\u001b[0;34m.\u001b[0m\u001b[0mfunc\u001b[0m\u001b[0;34m(\u001b[0m\u001b[0;34m*\u001b[0m\u001b[0margs\u001b[0m\u001b[0;34m,\u001b[0m \u001b[0;34m**\u001b[0m\u001b[0mkwargs\u001b[0m\u001b[0;34m)\u001b[0m\u001b[0;34m\u001b[0m\u001b[0m\n\u001b[0m\u001b[1;32m    363\u001b[0m \u001b[0;34m\u001b[0m\u001b[0m\n\u001b[1;32m    364\u001b[0m     \u001b[0;32mdef\u001b[0m \u001b[0mcall_and_shelve\u001b[0m\u001b[0;34m(\u001b[0m\u001b[0mself\u001b[0m\u001b[0;34m,\u001b[0m \u001b[0;34m*\u001b[0m\u001b[0margs\u001b[0m\u001b[0;34m,\u001b[0m \u001b[0;34m**\u001b[0m\u001b[0mkwargs\u001b[0m\u001b[0;34m)\u001b[0m\u001b[0;34m:\u001b[0m\u001b[0;34m\u001b[0m\u001b[0m\n",
      "\u001b[0;32m~/anaconda/lib/python3.6/site-packages/sklearn/pipeline.py\u001b[0m in \u001b[0;36m_fit_transform_one\u001b[0;34m(transformer, weight, X, y, **fit_params)\u001b[0m\n\u001b[1;32m    579\u001b[0m                        **fit_params):\n\u001b[1;32m    580\u001b[0m     \u001b[0;32mif\u001b[0m \u001b[0mhasattr\u001b[0m\u001b[0;34m(\u001b[0m\u001b[0mtransformer\u001b[0m\u001b[0;34m,\u001b[0m \u001b[0;34m'fit_transform'\u001b[0m\u001b[0;34m)\u001b[0m\u001b[0;34m:\u001b[0m\u001b[0;34m\u001b[0m\u001b[0m\n\u001b[0;32m--> 581\u001b[0;31m         \u001b[0mres\u001b[0m \u001b[0;34m=\u001b[0m \u001b[0mtransformer\u001b[0m\u001b[0;34m.\u001b[0m\u001b[0mfit_transform\u001b[0m\u001b[0;34m(\u001b[0m\u001b[0mX\u001b[0m\u001b[0;34m,\u001b[0m \u001b[0my\u001b[0m\u001b[0;34m,\u001b[0m \u001b[0;34m**\u001b[0m\u001b[0mfit_params\u001b[0m\u001b[0;34m)\u001b[0m\u001b[0;34m\u001b[0m\u001b[0m\n\u001b[0m\u001b[1;32m    582\u001b[0m     \u001b[0;32melse\u001b[0m\u001b[0;34m:\u001b[0m\u001b[0;34m\u001b[0m\u001b[0m\n\u001b[1;32m    583\u001b[0m         \u001b[0mres\u001b[0m \u001b[0;34m=\u001b[0m \u001b[0mtransformer\u001b[0m\u001b[0;34m.\u001b[0m\u001b[0mfit\u001b[0m\u001b[0;34m(\u001b[0m\u001b[0mX\u001b[0m\u001b[0;34m,\u001b[0m \u001b[0my\u001b[0m\u001b[0;34m,\u001b[0m \u001b[0;34m**\u001b[0m\u001b[0mfit_params\u001b[0m\u001b[0;34m)\u001b[0m\u001b[0;34m.\u001b[0m\u001b[0mtransform\u001b[0m\u001b[0;34m(\u001b[0m\u001b[0mX\u001b[0m\u001b[0;34m)\u001b[0m\u001b[0;34m\u001b[0m\u001b[0m\n",
      "\u001b[0;32m~/anaconda/lib/python3.6/site-packages/sklearn/base.py\u001b[0m in \u001b[0;36mfit_transform\u001b[0;34m(self, X, y, **fit_params)\u001b[0m\n\u001b[1;32m    518\u001b[0m         \u001b[0;32melse\u001b[0m\u001b[0;34m:\u001b[0m\u001b[0;34m\u001b[0m\u001b[0m\n\u001b[1;32m    519\u001b[0m             \u001b[0;31m# fit method of arity 2 (supervised transformation)\u001b[0m\u001b[0;34m\u001b[0m\u001b[0;34m\u001b[0m\u001b[0m\n\u001b[0;32m--> 520\u001b[0;31m             \u001b[0;32mreturn\u001b[0m \u001b[0mself\u001b[0m\u001b[0;34m.\u001b[0m\u001b[0mfit\u001b[0m\u001b[0;34m(\u001b[0m\u001b[0mX\u001b[0m\u001b[0;34m,\u001b[0m \u001b[0my\u001b[0m\u001b[0;34m,\u001b[0m \u001b[0;34m**\u001b[0m\u001b[0mfit_params\u001b[0m\u001b[0;34m)\u001b[0m\u001b[0;34m.\u001b[0m\u001b[0mtransform\u001b[0m\u001b[0;34m(\u001b[0m\u001b[0mX\u001b[0m\u001b[0;34m)\u001b[0m\u001b[0;34m\u001b[0m\u001b[0m\n\u001b[0m\u001b[1;32m    521\u001b[0m \u001b[0;34m\u001b[0m\u001b[0m\n\u001b[1;32m    522\u001b[0m \u001b[0;34m\u001b[0m\u001b[0m\n",
      "\u001b[0;32m~/anaconda/lib/python3.6/site-packages/sklearn/preprocessing/data.py\u001b[0m in \u001b[0;36mfit\u001b[0;34m(self, X, y)\u001b[0m\n\u001b[1;32m    588\u001b[0m         \u001b[0;31m# Reset internal state before fitting\u001b[0m\u001b[0;34m\u001b[0m\u001b[0;34m\u001b[0m\u001b[0m\n\u001b[1;32m    589\u001b[0m         \u001b[0mself\u001b[0m\u001b[0;34m.\u001b[0m\u001b[0m_reset\u001b[0m\u001b[0;34m(\u001b[0m\u001b[0;34m)\u001b[0m\u001b[0;34m\u001b[0m\u001b[0m\n\u001b[0;32m--> 590\u001b[0;31m         \u001b[0;32mreturn\u001b[0m \u001b[0mself\u001b[0m\u001b[0;34m.\u001b[0m\u001b[0mpartial_fit\u001b[0m\u001b[0;34m(\u001b[0m\u001b[0mX\u001b[0m\u001b[0;34m,\u001b[0m \u001b[0my\u001b[0m\u001b[0;34m)\u001b[0m\u001b[0;34m\u001b[0m\u001b[0m\n\u001b[0m\u001b[1;32m    591\u001b[0m \u001b[0;34m\u001b[0m\u001b[0m\n\u001b[1;32m    592\u001b[0m     \u001b[0;32mdef\u001b[0m \u001b[0mpartial_fit\u001b[0m\u001b[0;34m(\u001b[0m\u001b[0mself\u001b[0m\u001b[0;34m,\u001b[0m \u001b[0mX\u001b[0m\u001b[0;34m,\u001b[0m \u001b[0my\u001b[0m\u001b[0;34m=\u001b[0m\u001b[0;32mNone\u001b[0m\u001b[0;34m)\u001b[0m\u001b[0;34m:\u001b[0m\u001b[0;34m\u001b[0m\u001b[0m\n",
      "\u001b[0;32m~/anaconda/lib/python3.6/site-packages/sklearn/preprocessing/data.py\u001b[0m in \u001b[0;36mpartial_fit\u001b[0;34m(self, X, y)\u001b[0m\n\u001b[1;32m    610\u001b[0m         \"\"\"\n\u001b[1;32m    611\u001b[0m         X = check_array(X, accept_sparse=('csr', 'csc'), copy=self.copy,\n\u001b[0;32m--> 612\u001b[0;31m                         warn_on_dtype=True, estimator=self, dtype=FLOAT_DTYPES)\n\u001b[0m\u001b[1;32m    613\u001b[0m \u001b[0;34m\u001b[0m\u001b[0m\n\u001b[1;32m    614\u001b[0m         \u001b[0;31m# Even in the case of `with_mean=False`, we update the mean anyway\u001b[0m\u001b[0;34m\u001b[0m\u001b[0;34m\u001b[0m\u001b[0m\n",
      "\u001b[0;32m~/anaconda/lib/python3.6/site-packages/sklearn/utils/validation.py\u001b[0m in \u001b[0;36mcheck_array\u001b[0;34m(array, accept_sparse, dtype, order, copy, force_all_finite, ensure_2d, allow_nd, ensure_min_samples, ensure_min_features, warn_on_dtype, estimator)\u001b[0m\n\u001b[1;32m    451\u001b[0m                              % (array.ndim, estimator_name))\n\u001b[1;32m    452\u001b[0m         \u001b[0;32mif\u001b[0m \u001b[0mforce_all_finite\u001b[0m\u001b[0;34m:\u001b[0m\u001b[0;34m\u001b[0m\u001b[0m\n\u001b[0;32m--> 453\u001b[0;31m             \u001b[0m_assert_all_finite\u001b[0m\u001b[0;34m(\u001b[0m\u001b[0marray\u001b[0m\u001b[0;34m)\u001b[0m\u001b[0;34m\u001b[0m\u001b[0m\n\u001b[0m\u001b[1;32m    454\u001b[0m \u001b[0;34m\u001b[0m\u001b[0m\n\u001b[1;32m    455\u001b[0m     \u001b[0mshape_repr\u001b[0m \u001b[0;34m=\u001b[0m \u001b[0m_shape_repr\u001b[0m\u001b[0;34m(\u001b[0m\u001b[0marray\u001b[0m\u001b[0;34m.\u001b[0m\u001b[0mshape\u001b[0m\u001b[0;34m)\u001b[0m\u001b[0;34m\u001b[0m\u001b[0m\n",
      "\u001b[0;32m~/anaconda/lib/python3.6/site-packages/sklearn/utils/validation.py\u001b[0m in \u001b[0;36m_assert_all_finite\u001b[0;34m(X)\u001b[0m\n\u001b[1;32m     42\u001b[0m             and not np.isfinite(X).all()):\n\u001b[1;32m     43\u001b[0m         raise ValueError(\"Input contains NaN, infinity\"\n\u001b[0;32m---> 44\u001b[0;31m                          \" or a value too large for %r.\" % X.dtype)\n\u001b[0m\u001b[1;32m     45\u001b[0m \u001b[0;34m\u001b[0m\u001b[0m\n\u001b[1;32m     46\u001b[0m \u001b[0;34m\u001b[0m\u001b[0m\n",
      "\u001b[0;31mValueError\u001b[0m: Input contains NaN, infinity or a value too large for dtype('float64')."
     ]
    }
   ],
   "source": [
    "y = y.reset_index().as_matrix().astype(np.float)\n",
    "X = X.reset_index().as_matrix().astype(np.float)"
   ]
  },
  {
   "cell_type": "code",
   "execution_count": null,
   "metadata": {},
   "outputs": [],
   "source": []
  },
  {
   "cell_type": "code",
   "execution_count": 504,
   "metadata": {},
   "outputs": [],
   "source": [
    "elastic_pipe = pipeline.Pipeline([\n",
    "    (\"std\", preprocessing.StandardScaler()),\n",
    "    (\"elastic\", linear_model.ElasticNet(alpha=1.0, l1_ratio=0.5))\n",
    "])"
   ]
  },
  {
   "cell_type": "code",
   "execution_count": 505,
   "metadata": {},
   "outputs": [
    {
     "data": {
      "text/plain": [
       "Pipeline(memory=None,\n",
       "     steps=[('std', StandardScaler(copy=True, with_mean=True, with_std=True)), ('elastic', ElasticNet(alpha=1.0, copy_X=True, fit_intercept=True, l1_ratio=0.5,\n",
       "      max_iter=1000, normalize=False, positive=False, precompute=False,\n",
       "      random_state=None, selection='cyclic', tol=0.0001, warm_start=False))])"
      ]
     },
     "execution_count": 505,
     "metadata": {},
     "output_type": "execute_result"
    }
   ],
   "source": [
    "elastic_pipe.fit(np.nan_to_num(X), y)\n",
    "#linear_model.ElasticNet(alpha=1.0, l1_ratio=0.5).fit(X.astype(float), y)"
   ]
  },
  {
   "cell_type": "code",
   "execution_count": 511,
   "metadata": {},
   "outputs": [],
   "source": [
    "y_pred = elastic_pipe.predict(np.nan_to_num(X))"
   ]
  },
  {
   "cell_type": "code",
   "execution_count": 512,
   "metadata": {
    "scrolled": true
   },
   "outputs": [
    {
     "ename": "AttributeError",
     "evalue": "module 'seaborn' has no attribute 'plot'",
     "output_type": "error",
     "traceback": [
      "\u001b[0;31m---------------------------------------------------------------------------\u001b[0m",
      "\u001b[0;31mAttributeError\u001b[0m                            Traceback (most recent call last)",
      "\u001b[0;32m<ipython-input-512-25d0cdb4bc3e>\u001b[0m in \u001b[0;36m<module>\u001b[0;34m()\u001b[0m\n\u001b[0;32m----> 1\u001b[0;31m \u001b[0msns\u001b[0m\u001b[0;34m.\u001b[0m\u001b[0mplot\u001b[0m\u001b[0;34m(\u001b[0m\u001b[0my\u001b[0m\u001b[0;34m,\u001b[0m\u001b[0mX\u001b[0m\u001b[0;34m)\u001b[0m\u001b[0;34m\u001b[0m\u001b[0m\n\u001b[0m",
      "\u001b[0;31mAttributeError\u001b[0m: module 'seaborn' has no attribute 'plot'"
     ]
    }
   ],
   "source": [
    "sns.plot(y,X)"
   ]
  },
  {
   "cell_type": "code",
   "execution_count": 506,
   "metadata": {},
   "outputs": [],
   "source": [
    "coefs = elastic_pipe.named_steps[\"elastic\"].coef_"
   ]
  },
  {
   "cell_type": "code",
   "execution_count": 508,
   "metadata": {},
   "outputs": [
    {
     "data": {
      "text/plain": [
       "array([[ 856.32369741,    5.61155376,    1.35147682, ...,   -2.83633939,\n",
       "           1.89528958,    4.02693438],\n",
       "       [ -83.30222803,  443.44070888,  725.20906803, ...,  103.6567206 ,\n",
       "          78.26826457, -117.4336927 ]])"
      ]
     },
     "execution_count": 508,
     "metadata": {},
     "output_type": "execute_result"
    }
   ],
   "source": [
    "coefs"
   ]
  },
  {
   "cell_type": "code",
   "execution_count": 507,
   "metadata": {},
   "outputs": [
    {
     "ename": "NameError",
     "evalue": "name 'best_i' is not defined",
     "output_type": "error",
     "traceback": [
      "\u001b[0;31m---------------------------------------------------------------------------\u001b[0m",
      "\u001b[0;31mNameError\u001b[0m                                 Traceback (most recent call last)",
      "\u001b[0;32m<ipython-input-507-781d291b1821>\u001b[0m in \u001b[0;36m<module>\u001b[0;34m()\u001b[0m\n\u001b[0;32m----> 1\u001b[0;31m \u001b[0mbest_c\u001b[0m \u001b[0;34m=\u001b[0m \u001b[0mcoefs\u001b[0m\u001b[0;34m[\u001b[0m\u001b[0mbest_i\u001b[0m\u001b[0;34m,\u001b[0m\u001b[0;34m:\u001b[0m\u001b[0;34m]\u001b[0m\u001b[0;34m\u001b[0m\u001b[0m\n\u001b[0m\u001b[1;32m      2\u001b[0m \u001b[0mbest_c\u001b[0m\u001b[0;34m\u001b[0m\u001b[0m\n",
      "\u001b[0;31mNameError\u001b[0m: name 'best_i' is not defined"
     ]
    }
   ],
   "source": [
    "best_i = np.argmax(test_scores)\n",
    "\n",
    "best_c = coefs[best_i,:]\n",
    "best_c"
   ]
  },
  {
   "cell_type": "code",
   "execution_count": null,
   "metadata": {},
   "outputs": [],
   "source": [
    "scatter(np.arange(len(best_c)), np.abs(best_c))\n",
    "plt.xticks(np.arange(len(best_c)), x.columns, rotation=90);"
   ]
  },
  {
   "cell_type": "code",
   "execution_count": 503,
   "metadata": {},
   "outputs": [
    {
     "data": {
      "text/plain": [
       "array([[-1.73178345, -0.49174893, -0.59838096, ..., -0.06348038,\n",
       "        -0.31031241, -0.31418305],\n",
       "       [-1.73124871, -0.70170418, -0.59838096, ..., -0.06348038,\n",
       "        -0.31031241, -0.31418305],\n",
       "       [-1.73071396, -0.56173401, -0.59838096, ..., -0.06348038,\n",
       "        -0.31031241, -0.31418305],\n",
       "       ...,\n",
       "       [ 1.73071396,  0.27808699, -0.59838096, ..., -0.06348038,\n",
       "         3.22255888, -0.31418305],\n",
       "       [ 1.73124871,  0.27808699, -0.59838096, ..., -0.06348038,\n",
       "        -0.31031241, -0.31418305],\n",
       "       [ 1.73178345, -0.77098941, -0.59838096, ..., -0.06348038,\n",
       "        -0.31031241, -0.31418305]])"
      ]
     },
     "execution_count": 503,
     "metadata": {},
     "output_type": "execute_result"
    }
   ],
   "source": [
    "#import numpy as np\n",
    "#y = y.reset_index().as_matrix().astype(np.float)\n",
    "#X = X.reset_index().as_matrix().astype(np.float)\n",
    "preprocessing.StandardScaler().fit_transform(np.nan_to_num(X), y)"
   ]
  },
  {
   "cell_type": "code",
   "execution_count": 501,
   "metadata": {},
   "outputs": [
    {
     "data": {
      "text/plain": [
       "array([[0.000e+00, 3.990e+00, 0.000e+00, ..., 0.000e+00, 0.000e+00,\n",
       "        0.000e+00],\n",
       "       [1.000e+00, 9.900e-01, 0.000e+00, ..., 0.000e+00, 0.000e+00,\n",
       "        0.000e+00],\n",
       "       [2.000e+00, 2.990e+00, 0.000e+00, ..., 0.000e+00, 0.000e+00,\n",
       "        0.000e+00],\n",
       "       ...,\n",
       "       [6.475e+03, 1.499e+01, 0.000e+00, ..., 0.000e+00, 1.000e+00,\n",
       "        0.000e+00],\n",
       "       [6.476e+03, 1.499e+01, 0.000e+00, ..., 0.000e+00, 0.000e+00,\n",
       "        0.000e+00],\n",
       "       [6.477e+03, 0.000e+00, 0.000e+00, ..., 0.000e+00, 0.000e+00,\n",
       "        0.000e+00]])"
      ]
     },
     "execution_count": 501,
     "metadata": {},
     "output_type": "execute_result"
    }
   ],
   "source": [
    "np.nan_to_num(X)"
   ]
  },
  {
   "cell_type": "code",
   "execution_count": null,
   "metadata": {},
   "outputs": [],
   "source": []
  },
  {
   "cell_type": "code",
   "execution_count": null,
   "metadata": {},
   "outputs": [],
   "source": [
    "# Unpack this:\n",
    "\n",
    "fig, axes = plt.subplots(2,1, figsize=(15, 8), sharex=True, tight_layout=True)\n",
    "\n",
    "alphas = np.logspace(.5,5, num=50)\n",
    "coefs = []\n",
    "train_scores = []\n",
    "test_scores = []\n",
    "\n",
    "# fig, axes = plt.subplots(1,len(alphas), figsize=(20, 8), sharey=True)\n",
    "for i, alpha in enumerate(alphas):\n",
    "    lasso_pipe.set_params(lasso__alpha=alpha)\n",
    "    cv_result = model_selection.cross_validate(\n",
    "        lasso_pipe, X=x, y=y, cv=10, return_train_score=True)\n",
    "    train_scores.append(np.maximum(np.mean(cv_result['train_score']), 0))\n",
    "    test_scores.append(np.maximum(np.mean(cv_result['test_score']), 0))\n",
    "    lasso_pipe.fit(x_train, y_train)\n",
    "    coefs.append(lasso_pipe.named_steps[\"lasso\"].coef_)\n",
    "    \n",
    "\n",
    "coefs = np.squeeze(coefs, axis=1)\n",
    "ax0 = axes.flat[0]\n",
    "ax0.plot(-alphas, 1 - np.array(train_scores), label=\"train\")\n",
    "ax0.plot(-alphas, 1 - np.maximum(test_scores, 0), label=\"test\")\n",
    "best_i = np.argmax(test_scores)\n",
    "ax0.vlines(-alphas[best_i], 0,1, colors=\"red\", linestyles=\"dotted\")\n",
    "ax0.set_ylabel(\"1 - $r^2$\")\n",
    "ax1 = axes.flat[1]\n",
    "ax1.plot(-alphas,coefs)\n",
    "ax1.set_ylabel(\"coefficient values\")\n",
    "ax1.set_xlabel(\"-alpha\")\n",
    "ax1.set_xscale(\"symlog\")\n",
    "plt.xscale(\"symlog\")\n",
    "# plt.yscale(\"symlog\")"
   ]
  },
  {
   "cell_type": "code",
   "execution_count": null,
   "metadata": {},
   "outputs": [],
   "source": []
  },
  {
   "cell_type": "code",
   "execution_count": null,
   "metadata": {},
   "outputs": [],
   "source": []
  },
  {
   "cell_type": "markdown",
   "metadata": {},
   "source": [
    "From notebooks:"
   ]
  },
  {
   "cell_type": "code",
   "execution_count": null,
   "metadata": {},
   "outputs": [],
   "source": [
    "model = ols(\"line_duration ~\"+ regression_formula, data=df_r).fit()\n",
    "fig = plt.figure(figsize=(15,15))\n",
    "\n",
    "# pass in the model as the first parameter, then specify the \n",
    "# predictor variable we want to analyze\n",
    "fig = sm.graphics.plot_regress_exog(model, \"year\", fig=fig)"
   ]
  },
  {
   "cell_type": "code",
   "execution_count": null,
   "metadata": {},
   "outputs": [],
   "source": [
    "from sklearn.model_selection import cross_validate\n",
    "\n",
    "lasso_pipe = pipeline.Pipeline([\n",
    "    (\"imp\", preprocessing.Imputer()), \n",
    "    (\"std\", preprocessing.StandardScaler()),\n",
    "    (\"lasso\", linear_model.Lasso())\n",
    "])\n",
    "fig, axes = plt.subplots(2,1, figsize=(15, 8), sharex=True, tight_layout=True)\n",
    "\n",
    "# start lower -- .1\n",
    "alphas = np.logspace(-1,3, num=50)\n",
    "coefs = []\n",
    "train_scores = []\n",
    "test_scores = []\n",
    "# fig, axes = plt.subplots(1,len(alphas), figsize=(20, 8), sharey=True)\n",
    "for i, alpha in enumerate(alphas):\n",
    "    lasso_pipe.set_params(lasso__alpha=alpha)\n",
    "    cv_result = cross_validate(lasso_pipe, X=X, y=y, cv=10, return_train_score=True)\n",
    "    train_scores.append(np.maximum(np.mean(cv_result['train_score']), 0))\n",
    "    test_scores.append(np.maximum(np.mean(cv_result['test_score']), 0))\n",
    "    lasso_pipe.fit(X_train, y_train)\n",
    "    coefs.append(lasso_pipe.named_steps[\"lasso\"].coef_)\n",
    "    \n",
    "\n",
    "coefs = np.squeeze(coefs, axis=1)\n",
    "ax0 = axes.flat[0]\n",
    "ax0.plot(-alphas, 1 - np.array(train_scores), label=\"train\")\n",
    "ax0.plot(-alphas, 1 - np.maximum(test_scores, 0), label=\"test\")\n",
    "best_i = np.argmax(test_scores)\n",
    "ax0.vlines(-alphas[best_i], 0,1, colors=\"red\", linestyles=\"dotted\")\n",
    "ax0.set_ylabel(\"1 - $r^2$\")\n",
    "ax1 = axes.flat[1]\n",
    "ax1.plot(-alphas,coefs)\n",
    "ax1.set_ylabel(\"coefficient values\")\n",
    "ax1.set_xlabel(\"-alpha\")\n",
    "ax1.set_xscale(\"symlog\")\n",
    "plt.xscale(\"symlog\")\n",
    "# plt.yscale(\"symlog\")"
   ]
  },
  {
   "cell_type": "code",
   "execution_count": null,
   "metadata": {},
   "outputs": [],
   "source": [
    "#getting X and Y\n",
    "X = df_r.loc[:, df_r.columns != 'line_duration']\n",
    "# Choose response variable(s)\n",
    "y = df_r['line_duration']"
   ]
  },
  {
   "cell_type": "code",
   "execution_count": null,
   "metadata": {},
   "outputs": [],
   "source": [
    "# same as above, just using more straightforward OLS method from statsmodels\n",
    "model = sm.OLS(y,X)\n",
    "results = model.fit()\n",
    "results.summary()\n",
    "#fig = sm.graphics.plot_regress_exog(results, \"year\", fig=fig)"
   ]
  },
  {
   "cell_type": "markdown",
   "metadata": {},
   "source": [
    "Testing writing to output file for cleaner notebooks:"
   ]
  },
  {
   "cell_type": "code",
   "execution_count": 1,
   "metadata": {
    "ExecuteTime": {
     "end_time": "2018-04-26T15:49:33.810097Z",
     "start_time": "2018-04-26T15:49:33.807873Z"
    }
   },
   "outputs": [],
   "source": [
    "import pickle"
   ]
  },
  {
   "cell_type": "code",
   "execution_count": 555,
   "metadata": {},
   "outputs": [],
   "source": [
    "#picklelist = [y, X, steamDB_users_df_fuzzy_final, steamDB_users_df_fuzzy, steamDB_users_df, steam_combined, steam_combined_expanded, steam_combined_fuzzy]\n",
    "\n",
    "# Saving the objects:\n",
    "\n",
    "#with open('objs_steam_data.pkl', 'wb') as f:\n",
    "#    pickle.dump(picklelist, f)\n",
    "#f.close()"
   ]
  },
  {
   "cell_type": "code",
   "execution_count": 2,
   "metadata": {
    "ExecuteTime": {
     "end_time": "2018-04-26T15:49:38.164389Z",
     "start_time": "2018-04-26T15:49:36.176550Z"
    }
   },
   "outputs": [],
   "source": [
    "# Getting back the objects:\n",
    "with open('objs_steam_data.pkl', 'rb') as f:\n",
    "    y, X, steamDB_users_df_fuzzy_final, steamDB_users_df_fuzzy, steamDB_users_df, steam_combined, steam_combined_expanded, steam_combined_fuzzy = pickle.load(f)\n",
    "f.close()"
   ]
  },
  {
   "cell_type": "code",
   "execution_count": 558,
   "metadata": {},
   "outputs": [
    {
     "data": {
      "text/plain": [
       "array([[0.000e+00, 3.990e+00, 0.000e+00, ..., 0.000e+00, 0.000e+00,\n",
       "        0.000e+00],\n",
       "       [1.000e+00, 9.900e-01, 0.000e+00, ..., 0.000e+00, 0.000e+00,\n",
       "        0.000e+00],\n",
       "       [2.000e+00, 2.990e+00, 0.000e+00, ..., 0.000e+00, 0.000e+00,\n",
       "        0.000e+00],\n",
       "       ...,\n",
       "       [6.475e+03, 1.499e+01, 0.000e+00, ..., 0.000e+00, 1.000e+00,\n",
       "        0.000e+00],\n",
       "       [6.476e+03, 1.499e+01, 0.000e+00, ..., 0.000e+00, 0.000e+00,\n",
       "        0.000e+00],\n",
       "       [6.477e+03, 0.000e+00, 0.000e+00, ..., 0.000e+00, 0.000e+00,\n",
       "        0.000e+00]])"
      ]
     },
     "execution_count": 558,
     "metadata": {},
     "output_type": "execute_result"
    }
   ],
   "source": []
  },
  {
   "cell_type": "code",
   "execution_count": null,
   "metadata": {},
   "outputs": [],
   "source": [
    "f = open(\"fuzzy_match_output.txt\",\"w+\")\n",
    "f.close()\n",
    "match_names=[]\n",
    "scores=[]\n",
    "\n",
    "for name in steamDB_users_df['Name']:\n",
    "    if name in missing_names:\n",
    "        match_name, score = process.extractOne(name, list(steam_games_df['app_name']))\n",
    "    else:\n",
    "        match_name = name\n",
    "        score = 100\n",
    "    match_names.append(match_name)\n",
    "    scores.append(score)\n",
    "    print(name, '~', match_name, ' : ', score)\n",
    "    print(name, '~', match_name, ' : ', score, file=open('fuzzy_match_output.txt', 'a'))\n",
    "\n",
    "steamDB_users_df_fuzzy['steam_match_name'] = match_names\n",
    "steamDB_users_df_fuzzy['fuzzy_score'] = scores"
   ]
  },
  {
   "cell_type": "code",
   "execution_count": 559,
   "metadata": {},
   "outputs": [
    {
     "name": "stdout",
     "output_type": "stream",
     "text": [
      "0 ~ 0\n",
      "1 ~ 2\n",
      "2 ~ 4\n",
      "3 ~ 6\n",
      "4 ~ 8\n",
      "5 ~ 10\n",
      "6 ~ 12\n",
      "7 ~ 14\n",
      "8 ~ 16\n",
      "9 ~ 18\n",
      "10 ~ 20\n"
     ]
    }
   ],
   "source": [
    "# Testing output writing to file:\n",
    "\n",
    "f = open(\"output_test.txt\",\"w+\")\n",
    "f.close()\n",
    "\n",
    "for i in range(0,11):\n",
    "    print(i, '~', 2*i)\n",
    "    print(i, '~', 2*i, file=open('output_test.txt', 'a'))"
   ]
  },
  {
   "cell_type": "code",
   "execution_count": 539,
   "metadata": {},
   "outputs": [],
   "source": [
    "for name in steamDB_users_df['Name']:\n",
    "    if name not in missing_names:\n",
    "        steamDB_users_df_fuzzy['steam_match_name'] = name\n",
    "        steamDB_users_df_fuzzy['fuzzy_score'] = 100"
   ]
  },
  {
   "cell_type": "markdown",
   "metadata": {},
   "source": [
    "Debugging:"
   ]
  },
  {
   "cell_type": "code",
   "execution_count": 311,
   "metadata": {},
   "outputs": [],
   "source": [
    "# steam_combined_expanded.Genre.dtype\n",
    "\n",
    "#steam_combined_expanded.Genre.isnull().unique() # no nulls\n",
    "#steam_combined_expanded.Genre\n",
    "#steam_combined_expanded.Genre.fillna(' ')\n",
    "#steam_combined_expanded.Genre.unique()\n",
    "#steam_combined_expanded.loc[steam_combined_expanded['Genre'] == ' ']\n",
    "\n",
    "#steam_combined_expanded2 = create_new_columns_as_counts_from_lists(steam_combined_expanded,'Genre')\n",
    "\n",
    "#def not_list_to_empty_list():\n",
    "#    for elem in elems:\n",
    "#        if type(elem) != 'list':\n",
    "#            return list([])\n"
   ]
  },
  {
   "cell_type": "code",
   "execution_count": 435,
   "metadata": {},
   "outputs": [],
   "source": [
    "#for x in X.columns:\n",
    "#    print(x+' is '+str(type(x)))\n",
    "\n",
    "X.discount_price = X.discount_price.apply(pd.to_numeric)"
   ]
  },
  {
   "cell_type": "code",
   "execution_count": null,
   "metadata": {},
   "outputs": [],
   "source": []
  },
  {
   "cell_type": "markdown",
   "metadata": {},
   "source": [
    "Other attempts at dealing with the lists of tags and genres:"
   ]
  },
  {
   "cell_type": "markdown",
   "metadata": {},
   "source": [
    "Using OneHotEncoder:"
   ]
  },
  {
   "cell_type": "code",
   "execution_count": null,
   "metadata": {},
   "outputs": [],
   "source": [
    "from sklearn.preprocessing import OneHotEncoder\n",
    "oh = OneHotEncoder()\n",
    "oh.fit(steam_combined.tags)"
   ]
  },
  {
   "cell_type": "markdown",
   "metadata": {},
   "source": [
    "Manually, by building a set from the lists:"
   ]
  },
  {
   "cell_type": "code",
   "execution_count": 130,
   "metadata": {},
   "outputs": [],
   "source": [
    "sum_tag_set = set()\n",
    "for tag_list in steam_combined.tags:\n",
    "    sum_tag_set.update(tag_list)"
   ]
  },
  {
   "cell_type": "code",
   "execution_count": null,
   "metadata": {},
   "outputs": [],
   "source": [
    "sum_tag_set"
   ]
  },
  {
   "cell_type": "code",
   "execution_count": 182,
   "metadata": {},
   "outputs": [],
   "source": [
    "steam_combined_expanded = steam_combined.copy()"
   ]
  },
  {
   "cell_type": "code",
   "execution_count": 183,
   "metadata": {},
   "outputs": [],
   "source": [
    "# make a set of all tags that exist for all titles:\n",
    "sum_tag_set = set()\n",
    "for tag_list in steam_combined.tags:\n",
    "    sum_tag_set.update(tag_list)"
   ]
  },
  {
   "cell_type": "code",
   "execution_count": 184,
   "metadata": {},
   "outputs": [],
   "source": [
    "# create a column of False booleans for each tag\n",
    "# creating column names that have problematic characters replaced\n",
    "for tag in sum_tag_set:\n",
    "    steam_combined_expanded[tag.replace(' ','_').replace('\\'','').replace('.','_')] = False"
   ]
  },
  {
   "cell_type": "code",
   "execution_count": 185,
   "metadata": {},
   "outputs": [
    {
     "name": "stdout",
     "output_type": "stream",
     "text": [
      "<class 'pandas.core.frame.DataFrame'>\n",
      "Int64Index: 6478 entries, 0 to 6477\n",
      "Columns: 363 entries, Developer to Dark\n",
      "dtypes: bool(337), float64(3), int64(8), object(15)\n",
      "memory usage: 3.4+ MB\n"
     ]
    }
   ],
   "source": [
    "steam_combined_expanded.info()"
   ]
  },
  {
   "cell_type": "code",
   "execution_count": 186,
   "metadata": {},
   "outputs": [],
   "source": [
    "# for each tag, check if the game has this tag and if it does, update the False to True:\n",
    "for tag in sum_tag_set:\n",
    "    if tag in steam_combined_expanded['tags']:\n",
    "        steam_combined_expanded[tag.replace(' ','_').replace('\\'','').replace('.','_')] = True"
   ]
  },
  {
   "cell_type": "code",
   "execution_count": 187,
   "metadata": {},
   "outputs": [
    {
     "name": "stdout",
     "output_type": "stream",
     "text": [
      "Football + Bullet_Time + Management + Voxel + Strategy + Horror + Casual + Demons + Nudity + Gambling + Tutorial + Word_Game + VR + Naval + Rome + Real-Time + Soundtrack + Golf + Sokoban + Atmospheric + Music + Logic + Documentary + Cartoony + On-Rails_Shooter + Character_Action_Game + Turn-Based + Design_&_Illustration + World_War_II + Cycling + Movie + 2_5D + 6DOF + Massively_Multiplayer + Aliens + Werewolves + 3D_Platformer + God_Game + Board_Game + Top-Down + Hack_and_Slash + Lemmings + First-Person + Parkour + Comic_Book + Building + Rhythm + Warhammer_40K + Cult_Classic + Benchmark + Comedy + Cartoon + Robots + Remake + LEGO + Score_Attack + America + Third-Person_Shooter + Utilities + Side_Scroller + Funny + Noir + Modern + Conversation + Multiplayer + Blood + Education + Assassin + Open_World + Realistic + Stealth + Real_Time_Tactics + Racing + Fantasy + Touch-Friendly + Isometric + Sci-fi + Wargame + Turn-Based_Tactics + Trading_Card_Game + FMV + Swordplay + CRPG + Chess + Foreign + Interactive_Fiction + Pixel_Graphics + Multiple_Endings + Controller + Choices_Matter + Mining + Mini_Golf + Indie + Turn-Based_Combat + 1990s + Animation_&_Modeling + Experience + Vampire + Strategy_RPG + Retro + Asynchronous_Multiplayer + Parody + Underwater + 4X + Satire + Spectacle_fighter + Visual_Novel + Transhumanism + Agriculture + Character_Customization + Puzzle + Moddable + Perma_Death + Action + Romance + Lara_Croft + Illuminati + TrackIR + Otome + Steam_Machine + PvE + Dynamic_Narration + Web_Publishing + MMORPG + Psychological + Linear + Puzzle-Platformer + RTS + Medieval + Match_3 + FPS + Star_Wars + Survival + Western + Arcade + Psychedelic + Pirates + Thriller + Sailing + 2D_Fighter + Real-Time_with_Pause + Dark_Fantasy + Gun_Customization + Fishing + Twin_Stick_Shooter + Tanks + 2D + Investigation + RPG + Anime + Team-Based + Hardware + Memes + Colorful + Minimalist + Adventure + Artificial_Intelligence + Intentionally_Awkward_Controls + 3D_Vision + Action_RPG + Runner + Audio_Production + Difficult + Platformer + Sandbox + Faith + Physics + Software + Dungeon_Crawler + Gothic + Silent_Protagonist + Wrestling + Procedural_Generation + Action-Adventure + Loot + Shoot_Em_Up + World_War_I + Local_Multiplayer + Magic + Exploration + Online_Co-Op + Replay_Value + Lore-Rich + Pool + Classic + Shooter + Detective + Psychological_Horror + Horses + Experimental + War + Mars + Hunting + Programming + Sexual_Content + Martial_Arts + RPGMaker + Bowling + Game_Development + Hidden_Object + Rogue-lite + Games_Workshop + Military + Free_to_Play + Party-Based_RPG + Grand_Strategy + Trading + Basketball + Dystopian + Philisophical + Typing + Grid-Based_Movement + Competitive + Clicker + Fighting + Choose_Your_Own_Adventure + Villain_Protagonist + Split_Screen + Arena_Shooter + Crafting + Female_Protagonist + Walking_Simulator + Crime + Music-Based_Procedural_Generation + Cute + Gore + Cold_War + Sniper + Lovecraftian + Cyberpunk + GameMaker + Zombies + Co-op_Campaign + Resource_Management + Spelling + Alternate_History + Mouse_only + Rogue-like + Capitalism + Political + Point_&_Click + Time_Attack + Video_Production + Mythology + Nonlinear + PvP + Hand-drawn + Batman + Space_Sim + Quick-Time_Events + Dragons + Cinematic + Stylized + Post-apocalyptic + Steampunk + Conspiracy + Early_Access + Singleplayer + Narration + Politics + Base_Building + Dark_Comedy + Relaxing + Economy + MOBA + Class-Based + Card_Game + Hacking + Text-Based + Episodic + Metroidvania + Driving + Dinosaurs + Time_Manipulation + Heist + Mystery + Great_Soundtrack + Offroad + Based_On_A_Novel + Supernatural + Time_Travel + Surreal + Destruction + Ninja + Diplomacy + Science + Dark_Humor + Underground + Historical + Bullet_Hell + Tactical + Inventory_Management + Gaming + Simulation + Kickstarter + Futuristic + Mod + Violent + Drama + Level_Editor + Tactical_RPG + Beat_em_up + Pinball + JRPG + Mechs + Mature + Soccer + Co-op + Sports + Survival_Horror + Top-Down_Shooter + e-sports + Superhero + NSFW + Trains + Abstract + Tower_Defense + Flight + City_Builder + Crowdfunded + Turn-Based_Strategy + Fast-Paced + Story_Rich + Dating_Sim + Mystery_Dungeon + Short + 1980s + Space + Third_Person + Hex_Grid + 4_Player_Local + Family_Friendly + Voice_Control + Local_Co-Op + Bikes + Dark\n"
     ]
    }
   ],
   "source": [
    "sum_renamed_tag_set = {tag.replace(' ','_').replace('\\'','').replace('.','_') for tag in sum_tag_set}\n",
    "patsy_tag_string = ' + '.join(sum_renamed_tag_set)\n",
    "print(patsy_tag_string)"
   ]
  },
  {
   "cell_type": "code",
   "execution_count": 192,
   "metadata": {},
   "outputs": [
    {
     "data": {
      "text/plain": [
       "array([False])"
      ]
     },
     "execution_count": 192,
     "metadata": {},
     "output_type": "execute_result"
    }
   ],
   "source": [
    "steam_combined_expanded.Zombies.unique()"
   ]
  },
  {
   "cell_type": "code",
   "execution_count": null,
   "metadata": {},
   "outputs": [],
   "source": []
  },
  {
   "cell_type": "code",
   "execution_count": null,
   "metadata": {},
   "outputs": [],
   "source": [
    "patsy_variable_list = list(steam_combined_expanded.columns)\n",
    "#patsy_variable_list.remove('Developer')\n",
    "patsy_variable_list_remove = \\\n",
    "[\\\n",
    "    'Title' , \\\n",
    "    'app_id' , \\\n",
    "    'app_name' , \\\n",
    "    'tags' , \\\n",
    "    'url' , \\\n",
    "    'reviews_url' , \\\n",
    "    'AppID' , \\\n",
    "    'Name' , \\\n",
    "    'Current' , \\\n",
    "    '24h Peak', \\\n",
    "    'All_Time_Peak_concurrent_users'\\\n",
    "]\n",
    "# don't need patsy for the columns that we vectorized\n",
    "\n",
    "patsy_variable_list = [x for x in patsy_variable_list if x not in patsy_variable_list_remove]\n",
    "\n",
    "patsy_variable_string = (' + ').join(patsy_variable_list)\n",
    "#patsy_variable_string"
   ]
  },
  {
   "cell_type": "code",
   "execution_count": null,
   "metadata": {},
   "outputs": [],
   "source": []
  },
  {
   "cell_type": "code",
   "execution_count": null,
   "metadata": {},
   "outputs": [],
   "source": []
  },
  {
   "cell_type": "code",
   "execution_count": 526,
   "metadata": {},
   "outputs": [
    {
     "data": {
      "text/plain": [
       "[('New York Jets', 100), ('New York Giants', 79)]"
      ]
     },
     "execution_count": 526,
     "metadata": {},
     "output_type": "execute_result"
    }
   ],
   "source": [
    "# Fuzzywuzzy examples\n",
    "\n",
    "#choices = [\"Atlanta Falcons\", \"New York Jets\", \"New York Giants\", \"Dallas Cowboys\"]\n",
    "#process.extract(\"new york jets\", choices, limit=2)\n",
    "#process.extractOne(\"cowboys\", choices)\n"
   ]
  },
  {
   "cell_type": "code",
   "execution_count": null,
   "metadata": {},
   "outputs": [],
   "source": []
  }
 ],
 "metadata": {
  "kernelspec": {
   "display_name": "Python 3",
   "language": "python",
   "name": "python3"
  },
  "language_info": {
   "codemirror_mode": {
    "name": "ipython",
    "version": 3
   },
   "file_extension": ".py",
   "mimetype": "text/x-python",
   "name": "python",
   "nbconvert_exporter": "python",
   "pygments_lexer": "ipython3",
   "version": "3.6.5"
  }
 },
 "nbformat": 4,
 "nbformat_minor": 2
}
